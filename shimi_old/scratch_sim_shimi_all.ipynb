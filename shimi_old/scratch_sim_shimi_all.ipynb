{
 "cells": [
  {
   "cell_type": "code",
   "execution_count": 1,
   "id": "aaf2ed9a-3901-40cc-b67a-966d178a94ef",
   "metadata": {},
   "outputs": [
    {
     "name": "stderr",
     "output_type": "stream",
     "text": [
      "\u001b[32m\u001b[1m    CondaPkg \u001b[22m\u001b[39m\u001b[0mFound dependencies: /Users/erussek/.julia/packages/PythonCall/wXfah/CondaPkg.toml\n",
      "\u001b[32m\u001b[1m    CondaPkg \u001b[22m\u001b[39m\u001b[0mFound dependencies: /Users/erussek/.julia/packages/PythonPlot/f591M/CondaPkg.toml\n",
      "\u001b[32m\u001b[1m    CondaPkg \u001b[22m\u001b[39m\u001b[0mDependencies already up to date\n"
     ]
    }
   ],
   "source": [
    "include(\"MDPModelFunctions.jl\")\n",
    "include(\"MDPModelFunctions2.jl\")\n",
    "\n",
    "using StatsBase\n",
    "using PythonPlot"
   ]
  },
  {
   "cell_type": "code",
   "execution_count": 2,
   "id": "adef167b-5b7a-4f96-965a-ca27592ea3b8",
   "metadata": {},
   "outputs": [
    {
     "data": {
      "text/plain": [
       "sim_exp3 (generic function with 1 method)"
      ]
     },
     "execution_count": 2,
     "metadata": {},
     "output_type": "execute_result"
    }
   ],
   "source": [
    "# now simualte experiment 3...\n",
    "\n",
    "# 2 set sizes = 3 and 6\n",
    "# X \n",
    "# 3 pre-cues = 200, 1000, 1800\n",
    "# X \n",
    "# retro vs neutral\n",
    "\n",
    "\n",
    "function sim_exp3(epsilon, N_Quanta, NT_per_Second; return_last_only=true)\n",
    "\n",
    "    N_Trials = 1000;\n",
    "\n",
    "    N_Object_Vals = [3,6]\n",
    "\n",
    "    N_nobj = length(N_Object_Vals);\n",
    "\n",
    "    # IM time scales...\n",
    "    N_TimeSteps_Pre_IM = Int(round(.2*NT_per_Second))\n",
    "    N_TimeSteps_Post_IM = Int(round(.5*NT_per_Second))\n",
    "    N_TimeSteps_IM = N_TimeSteps_Pre_IM + N_TimeSteps_Post_IM\n",
    "\n",
    "    # SHORT Time Scales...\n",
    "    N_TimeSteps_Pre_VSTM = Int(round(1*NT_per_Second))\n",
    "    N_TimeSteps_Post_VSTM = Int(round(.5*NT_per_Second))\n",
    "    N_TimeSteps_VSTM = N_TimeSteps_Pre_VSTM + N_TimeSteps_Post_VSTM\n",
    "\n",
    "    # long time-scales...\n",
    "    N_TimeSteps_Pre_Long_VSTM = Int(round(1.8*NT_per_Second))\n",
    "    N_TimeSteps_Post_Long_VSTM = Int(round(.5*NT_per_Second))\n",
    "    N_TimeSteps_Long_VSTM = N_TimeSteps_Pre_Long_VSTM + N_TimeSteps_Post_Long_VSTM\n",
    "\n",
    "    p_IM_neutral = zeros(2, N_TimeSteps_IM)\n",
    "    p_IM_retro = zeros(2, N_TimeSteps_IM)\n",
    "\n",
    "    p_VSTM_neutral = zeros(2, N_TimeSteps_VSTM)\n",
    "    p_VSTM_retro = zeros(2, N_TimeSteps_VSTM)\n",
    "\n",
    "    p_Long_VSTM_neutral = zeros(2, N_TimeSteps_Long_VSTM)\n",
    "    p_Long_VSTM_retro = zeros(2, N_TimeSteps_Long_VSTM)\n",
    "\n",
    "    for (obj_idx, N_Objects) in enumerate(N_Object_Vals)\n",
    "\n",
    "        # do the IM Block\n",
    "\n",
    "        d_neutral = simulate_task(N_Quanta, N_Objects, epsilon, N_TimeSteps_IM, 0, N_Trials, simulate_delayed_memory_episode);\n",
    "        p_IM_neutral[obj_idx,:] = d_neutral[:,1]\n",
    "\n",
    "        d_retro = simulate_task(N_Quanta, N_Objects, epsilon, N_TimeSteps_Pre_IM, N_TimeSteps_Post_IM, N_Trials, simulate_retrocue_episode);\n",
    "        p_IM_retro[obj_idx,:] = d_retro[:,1]\n",
    "\n",
    "        # VSTM\n",
    "        # Presentation -> 1000ms -> 500 ms\n",
    "\n",
    "        N_TimeSteps_Pre = Int(round(1*NT_per_Second))\n",
    "        N_TimeSteps_Post = Int(round(.5*NT_per_Second))\n",
    "        N_TimeSteps = N_TimeSteps_Pre + N_TimeSteps_Post\n",
    "\n",
    "        d_neutral = simulate_task(N_Quanta, N_Objects, epsilon, N_TimeSteps_VSTM, 0, N_Trials, simulate_delayed_memory_episode);\n",
    "        p_VSTM_neutral[obj_idx,:] = d_neutral[:,1]\n",
    "\n",
    "        d_retro = simulate_task(N_Quanta, N_Objects, epsilon, N_TimeSteps_Pre_VSTM, N_TimeSteps_Post_VSTM, N_Trials, simulate_retrocue_episode);\n",
    "        p_VSTM_retro[obj_idx,:] = d_retro[:,1];\n",
    "\n",
    "        # VSTM_long\n",
    "        # Presentation -> 1800ms -> 500 ms\n",
    "\n",
    "        d_neutral = simulate_task(N_Quanta, N_Objects, epsilon, N_TimeSteps_Long_VSTM, 0, N_Trials, simulate_delayed_memory_episode);\n",
    "        p_Long_VSTM_neutral[obj_idx,:] = d_neutral[:,1]\n",
    "\n",
    "        d_retro = simulate_task(N_Quanta, N_Objects, epsilon, N_TimeSteps_Pre_Long_VSTM, N_TimeSteps_Post_Long_VSTM, N_Trials, simulate_retrocue_episode);\n",
    "        p_Long_VSTM_retro[obj_idx,:] = d_retro[:,1];\n",
    "\n",
    "    end\n",
    "    \n",
    "    if return_last_only\n",
    "        return (p_IM_neutral[end], p_IM_retro[end], p_VSTM_neutral[end], p_VSTM_retro[end], p_Long_VSTM_neutral[end], p_Long_VSTM_retro[end])\n",
    "    else\n",
    "        return (p_IM_neutral, p_IM_retro, p_VSTM_neutral, p_VSTM_retro, p_Long_VSTM_neutral, p_Long_VSTM_retro)\n",
    "    end\n",
    "\n",
    "end\n",
    "\n",
    "#if return_last_only\n",
    "#    return (p_short_neutral[end], p_short_retro[end], p_long_neutral[end], p_long_retro[end])\n",
    "#else\n",
    "#    return (p_short_neutral, p_short_retro, p_long_neutral, p_long_retro)\n",
    "#end\n",
    "\n",
    "\n"
   ]
  },
  {
   "cell_type": "code",
   "execution_count": 4,
   "id": "a29fb378-42bd-480c-a2e1-12279189ee56",
   "metadata": {},
   "outputs": [
    {
     "data": {
      "text/plain": [
       "(0.5652045377337872, 0.6340095584716522, 0.5628509196621019, 0.6030356510890533, 0.5613741254184659, 0.601455349691982)"
      ]
     },
     "execution_count": 4,
     "metadata": {},
     "output_type": "execute_result"
    }
   ],
   "source": [
    "epsilon = .5\n",
    "N_Quanta = 10\n",
    "NT_per_Second = 800\n",
    "\n",
    "(p_IM_neutral, p_IM_retro, p_VSTM_neutral, p_VSTM_retro, p_Long_VSTM_neutral, p_Long_VSTM_retro)=sim_exp3(epsilon, N_Quanta, NT_per_Second; return_last_only=true)\n",
    "\n"
   ]
  },
  {
   "cell_type": "code",
   "execution_count": 77,
   "id": "e882961c-7c25-4a2f-9814-14179414ef4d",
   "metadata": {},
   "outputs": [
    {
     "data": {
      "text/plain": [
       "2×1150 Matrix{Float64}:\n",
       " 0.632759  0.633999  0.636261  0.637034  …  0.696273  0.696273  0.696273\n",
       " 0.572971  0.574446  0.574203  0.574139     0.604616  0.604616  0.604616"
      ]
     },
     "execution_count": 77,
     "metadata": {},
     "output_type": "execute_result"
    }
   ],
   "source": [
    "p_Long_VSTM_retro"
   ]
  },
  {
   "cell_type": "code",
   "execution_count": 41,
   "id": "19e7c06f-4af9-4545-b6c5-1208269d9791",
   "metadata": {},
   "outputs": [
    {
     "data": {
      "text/plain": [
       "(0.5944359004184836, 0.7171334119576062, 0.599396743470178, 0.6624549836189368)"
      ]
     },
     "execution_count": 41,
     "metadata": {},
     "output_type": "execute_result"
    }
   ],
   "source": [
    "(p_short_neutral, p_short_retro, p_long_neutral, p_long_retro) = sim_exp2(epsilon, N_Quanta, NT_per_Second; return_last_only=true)"
   ]
  },
  {
   "cell_type": "code",
   "execution_count": 32,
   "id": "0a458362-00e8-4b85-a219-d3a6210dd3f5",
   "metadata": {},
   "outputs": [
    {
     "data": {
      "text/plain": [
       "(750,)"
      ]
     },
     "execution_count": 32,
     "metadata": {},
     "output_type": "execute_result"
    }
   ],
   "source": [
    "size(p_long_retro)"
   ]
  },
  {
   "cell_type": "code",
   "execution_count": 16,
   "id": "407dab2f-7ab2-4901-ac32-005f0dc99e5d",
   "metadata": {},
   "outputs": [
    {
     "data": {
      "text/plain": [
       "100"
      ]
     },
     "execution_count": 16,
     "metadata": {},
     "output_type": "execute_result"
    }
   ],
   "source": [
    "N_TimeSteps = Int(round(.2*NT_per_Second))\n"
   ]
  },
  {
   "cell_type": "code",
   "execution_count": null,
   "id": "3893d617-4878-4535-91d1-517b4beb750f",
   "metadata": {},
   "outputs": [],
   "source": [
    "# 4 objects...\n",
    "\n",
    "# 2 conditions here:\n",
    "\n",
    "# IM BLOCK: \n",
    "# Presentation -> 200 ms -> Cue -> post cue for 500\n",
    "\n",
    "# VSTM\n",
    "# Presentation -> 1000ms -> 500 ms\n",
    "\n",
    "# Neutral and \n"
   ]
  }
 ],
 "metadata": {
  "kernelspec": {
   "display_name": "Julia 1.9.1",
   "language": "julia",
   "name": "julia-1.9"
  },
  "language_info": {
   "file_extension": ".jl",
   "mimetype": "application/julia",
   "name": "julia",
   "version": "1.9.1"
  }
 },
 "nbformat": 4,
 "nbformat_minor": 5
}
