{
 "cells": [
  {
   "cell_type": "code",
   "execution_count": 1,
   "id": "fefe2d6e-a633-43f1-96cc-d7817b02d306",
   "metadata": {},
   "outputs": [
    {
     "name": "stderr",
     "output_type": "stream",
     "text": [
      "\u001b[32m\u001b[1m    CondaPkg \u001b[22m\u001b[39m\u001b[0mFound dependencies: /Users/erussek/.julia/packages/PythonCall/wXfah/CondaPkg.toml\n",
      "\u001b[32m\u001b[1m    CondaPkg \u001b[22m\u001b[39m\u001b[0mFound dependencies: /Users/erussek/.julia/packages/PythonPlot/KcWMF/CondaPkg.toml\n",
      "\u001b[32m\u001b[1m    CondaPkg \u001b[22m\u001b[39m\u001b[0mDependencies already up to date\n"
     ]
    }
   ],
   "source": [
    "using JLD2\n",
    "using PythonPlot\n",
    "include(\"MDPModelFunctions2.jl\")\n",
    "using DataFrames"
   ]
  },
  {
   "cell_type": "code",
   "execution_count": 2,
   "id": "c142d091-4be5-460a-b9c9-bcfd023d7a88",
   "metadata": {},
   "outputs": [
    {
     "data": {
      "text/plain": [
       "3×4 Matrix{Float64}:\n",
       " 2.63  2.41  4.8   2.46\n",
       " 2.75  2.38  3.97  2.15\n",
       " 2.75  2.38  3.97  2.15"
      ]
     },
     "execution_count": 2,
     "metadata": {},
     "output_type": "execute_result"
    }
   ],
   "source": [
    "# experiment 1....\n",
    "\n",
    "# row is 2 obj vs 4 obj\n",
    "# col is 2 pre-cue, 2 neutral, 2 retro-cue, 2 neutral, 4 pre-cue, 4 neutral, 4 retro-cue, 4 neutral\n",
    "\n",
    "exp1_cowan_k_true_7_yr = [1.16 1.14 1.13 1.02 2.80 .91 1.30 .96]'\n",
    "exp1_cowan_k_true_adult = [1.98 1.94 1.97 1.95 3.87 2.66 3.64 2.87]'\n",
    "\n",
    "# experiment 2 - 4 objects\n",
    "# col is IM cued, IM neutral, VSTM cued, VSTM neutral\n",
    "\n",
    "exp2_cowan_k_true_7_yr = [1.55 1.16 1.00 0.69]'\n",
    "exp2_cowan_k_true_adult = [3.54 2.58 3.58 2.65]'\n",
    "\n",
    "# experiment 3\n",
    "\n",
    "# Load 3 cued, Load 3 Neutral, Load 6 cued, Load 6 neutral\n",
    "IM_true_7_yr = [1.44 1.27 1.82 0.88]\n",
    "Short_VSTM_true_7_yr = [1.14 0.77 NaN NaN]\n",
    "Long_VSTM_true_7_yr = [1.19 0.90 NaN NaN]\n",
    "\n",
    "exp3_cowan_k_true_7_yr = [IM_true_7_yr; Short_VSTM_true_7_yr; Short_VSTM_true_7_yr]\n",
    "\n",
    "\n",
    "IM_true_adult = [2.63 2.41 4.80 2.46]\n",
    "Short_VSTM_true_adult = [2.75 2.38 3.97 2.15]\n",
    "Long_VSTM_true_adult = [2.76 2.30 3.65 1.75]\n",
    "\n",
    "exp3_cowan_k_true_adult = [IM_true_adult; Short_VSTM_true_adult; Short_VSTM_true_adult]\n"
   ]
  },
  {
   "cell_type": "code",
   "execution_count": 3,
   "id": "4184e623-65c1-4dee-a84c-ab8177f971b9",
   "metadata": {},
   "outputs": [
    {
     "data": {
      "text/plain": [
       "5"
      ]
     },
     "execution_count": 3,
     "metadata": {},
     "output_type": "execute_result"
    }
   ],
   "source": [
    "## Specify parameters for each job and load all results...\n",
    "\n",
    "eps_vals = collect(.99:-.05:.15) # 17\n",
    "N_eps = length(eps_vals)\n",
    "\n",
    "# quanta values\n",
    "q_vals = collect(5:5:100)\n",
    "N_q = length(q_vals)\n",
    "\n",
    "mem_slopes = [.1, .2, .1, .4, .2]\n",
    "N_ms = length(mem_slopes)\n",
    "\n",
    "# re-run with new values so we can see some concavity...\n",
    "NT_vals = [3200, 400, 1600, 800, 800] # run w these now... \n",
    "N_nt = length(NT_vals)\n",
    "\n",
    "N_hyp = N_nt"
   ]
  },
  {
   "cell_type": "code",
   "execution_count": 4,
   "id": "c83fa8da-22e0-498b-893c-b07bfea9ac65",
   "metadata": {},
   "outputs": [
    {
     "data": {
      "text/plain": [
       "load_cowan_k (generic function with 1 method)"
      ]
     },
     "execution_count": 4,
     "metadata": {},
     "output_type": "execute_result"
    }
   ],
   "source": [
    "\n",
    "function load_results(epsilon, N_Quanta, NT_per_Second, mem_slope; exp_num = 2, on_cluster = false)\n",
    "    \n",
    "    if on_cluster\n",
    "        to_save_folder = \"/home/erussek/projects/Memory_Models/shimi_all_parameter_search_fine\"\n",
    "    else\n",
    "        to_save_folder = \"/Users/erussek/Dropbox/Griffiths_Lab_Stuff/code/Memory_Models/shimi_all_parameter_search_fine/exp$(exp_num)\"\n",
    "    end\n",
    "    \n",
    "    local file_name = \"N_Quanta_$(N_Quanta)_epsilon_$(epsilon)_NT_per_Second_$(NT_per_Second)_memslope_$(mem_slope).jld2\"\n",
    "    \n",
    "    local full_file_path = joinpath(to_save_folder,file_name)\n",
    "\n",
    "    res = load(full_file_path)\n",
    "    \n",
    "    return res[\"job_res_$(exp_num)\"]\n",
    "end\n",
    "\n",
    "function format_res_cowan_k(res; exp_num = 1)\n",
    "    \n",
    "    if exp_num == 1\n",
    "    \n",
    "        # row is 2 obj vs 4 obj\n",
    "        # col is pre-cue, neutral, retro-cue, neutral\n",
    "        \n",
    "        part_pcorr = res[:,:,end];\n",
    "        model_cowan_p_corr = [part_pcorr; part_pcorr[2,:]']'\n",
    "        model_cowan_k_mtx = cowan_k(model_cowan_p_corr, 2)\n",
    "        model_cowan_k_mtx[2,:] = cowan_k(model_cowan_p_corr[2,:], 4)\n",
    "        \n",
    "        model_cowan_k = [model_cowan_k_mtx[1,:]' model_cowan_k_mtx[2,:]']';#[model_cowan_k_mtx[1,:] model_cowan_k_mtx[2,:]]\n",
    "    elseif exp_num == 2\n",
    "        \n",
    "        # IM cued, IM neutral, VSTM cued, VSTM neutral - need to adjust from what it was saved as\n",
    "        \n",
    "        (p_short_neutral, p_short_retro, p_long_neutral, p_long_retro) = res\n",
    "        (p_short_neutral, p_short_retro, p_long_neutral, p_long_retro) = (p_short_neutral[end], p_short_retro[end], p_long_neutral[end], p_long_retro[end])\n",
    "        model_cowan_k = cowan_k([p_short_retro p_short_neutral p_long_retro p_long_neutral],4)'\n",
    "        \n",
    "    else\n",
    "        \n",
    "        (p_IM_neutral, p_IM_retro, p_VSTM_neutral, p_VSTM_retro, p_Long_VSTM_neutral, p_Long_VSTM_retro) = res\n",
    "        (p_IM_neutral, p_IM_retro, p_VSTM_neutral, p_VSTM_retro, p_Long_VSTM_neutral, p_Long_VSTM_retro) = (p_IM_neutral[:,end], p_IM_retro[:,end], p_VSTM_neutral[:,end], p_VSTM_retro[:,end], p_Long_VSTM_neutral[:,end], p_Long_VSTM_retro[:,end])\n",
    "\n",
    "\n",
    "        # Load 3 cued, Load 3 Neutral, Load 6 cued, Load 6 neutral\n",
    "        IM_model = [cowan_k(p_IM_retro[1],3) cowan_k(p_IM_neutral[1],3) cowan_k(p_IM_retro[2],6) cowan_k(p_IM_neutral[2], 6)]\n",
    "        Short_VSTM_model = [cowan_k(p_VSTM_retro[1],3) cowan_k(p_VSTM_neutral[1],3) cowan_k(p_VSTM_retro[2],6) cowan_k(p_VSTM_neutral[2], 6)]\n",
    "        Long_VSTM_model = [cowan_k(p_Long_VSTM_retro[1],3) cowan_k(p_Long_VSTM_neutral[1],3) cowan_k(p_Long_VSTM_retro[2],6) cowan_k(p_Long_VSTM_neutral[2], 6)]\n",
    "\n",
    "        # 3 x 4\n",
    "        model_cowan_k = [IM_model; Short_VSTM_model; Long_VSTM_model]  \n",
    "        \n",
    "    end\n",
    "        \n",
    "    return model_cowan_k\n",
    "    \n",
    "end    \n",
    "\n",
    "function load_cowan_k(epsilon, N_Quanta, NT_per_Second, mem_slope; exp_num = 2, on_cluster = false)\n",
    "    \n",
    "    res = load_results(epsilon, N_Quanta, NT_per_Second, mem_slope; exp_num = exp_num, on_cluster = false)\n",
    "    \n",
    "    model_cowan_k = format_res_cowan_k(res; exp_num = exp_num)\n",
    "    \n",
    "    return model_cowan_k\n",
    "    \n",
    "end\n"
   ]
  },
  {
   "cell_type": "code",
   "execution_count": 26,
   "id": "4ba75d0e-f628-455c-ab32-717bcc2f4015",
   "metadata": {},
   "outputs": [],
   "source": [
    "# want to load error on each bar... \n",
    "\n",
    "# all results for model and child...\n",
    "full_res_child = [exp1_cowan_k_true_7_yr; exp2_cowan_k_true_7_yr; exp3_cowan_k_true_7_yr[:]] # 24...\n",
    "# full_res_child = full_res_child[.!isnan.(full_res_child)] # 20 datapoints...\n",
    "full_res_adult = [exp1_cowan_k_true_adult; exp2_cowan_k_true_adult; exp3_cowan_k_true_adult[:]]\n",
    "\n",
    "\n",
    "hyp_idx = 1\n",
    "\n",
    "NT_per_Second = NT_vals[hyp_idx]\n",
    "mem_slope = mem_slopes[hyp_idx]\n",
    "\n",
    "full_res_model = zeros(N_eps, N_q, 24)\n",
    "full_child_error = zeros(N_eps, N_q, 20)\n",
    "full_adult_error = zeros(N_eps, N_q, 24)\n",
    "\n",
    "for (ep_idx, epsilon) in enumerate(eps_vals)\n",
    "    for (q_idx, N_Quanta) in enumerate(q_vals)\n",
    "            \n",
    "        \n",
    "        these_exp_results = []\n",
    "\n",
    "\n",
    "        for exp_num = 1:3\n",
    "\n",
    "            model_cowan_k = load_cowan_k(epsilon, N_Quanta, NT_per_Second, mem_slope; exp_num = exp_num, on_cluster = false)\n",
    "            these_exp_results = [these_exp_results; model_cowan_k[:]]\n",
    "\n",
    "        end\n",
    "        \n",
    "        full_res_model[ep_idx, q_idx, :] = these_exp_results\n",
    "        child_err = (these_exp_results .- full_res_child).^2\n",
    "        child_err = child_err[.!isnan.(child_err)]\n",
    "        full_child_error[ep_idx, q_idx, :] = child_err\n",
    "        \n",
    "        full_adult_error[ep_idx, q_idx, :] = (these_exp_results .- full_res_adult).^2\n",
    "        \n",
    "\n",
    "    end\n",
    "end"
   ]
  },
  {
   "cell_type": "code",
   "execution_count": 45,
   "id": "cb0d5605-6c36-4b51-92f3-080fbb21b9ad",
   "metadata": {},
   "outputs": [
    {
     "data": {
      "text/plain": [
       "25:44"
      ]
     },
     "execution_count": 45,
     "metadata": {},
     "output_type": "execute_result"
    }
   ],
   "source": [
    "adult_idx_nums = 1:24\n",
    "child_idx_nums = 25:44"
   ]
  },
  {
   "cell_type": "code",
   "execution_count": 48,
   "id": "6d507322-07f7-4e6f-94f8-620a6100e379",
   "metadata": {},
   "outputs": [],
   "source": [
    "#length(child_idx_nums)"
   ]
  },
  {
   "cell_type": "code",
   "execution_count": 102,
   "id": "12a85bce-bf6f-4fd5-b4be-d714db5ea0ab",
   "metadata": {},
   "outputs": [],
   "source": [
    "\n",
    "\n",
    "# model 1 has separate parameters for adults and children\n",
    "\n",
    "held_out_idxs = [5] # 1 - 44\n",
    "\n",
    "function compute_held_out_error_full_model(full_adult_error, full_child_error, held_out_idxs)\n",
    "\n",
    "    adult_good_idxs = 1:24\n",
    "    child_good_idxs = 25:44\n",
    "\n",
    "    for h in held_out_idxs\n",
    "        adult_good_idxs = adult_good_idxs[adult_good_idxs .!= h]\n",
    "        child_good_idxs = child_good_idxs[child_good_idxs .!= h]\n",
    "    end\n",
    "    child_good_idxs = child_good_idxs .- 24\n",
    "\n",
    "    adult_held_out_idxs = held_out_idxs[held_out_idxs .< 24]\n",
    "    child_held_out_idxs = held_out_idxs[held_out_idxs .> 24] .- 24\n",
    "\n",
    "    train_adult_error = sum(full_adult_error[:,:,adult_good_idxs], dims=3)\n",
    "    best_adult_params = argmin(train_adult_error)\n",
    "    held_out_adult_error = sum(full_adult_error[best_adult_params[1], best_adult_params[2], adult_held_out_idxs])\n",
    "\n",
    "    train_child_error = sum(full_child_error[:,:,child_good_idxs], dims=3)\n",
    "    best_child_params = argmin(train_child_error)\n",
    "    held_out_child_error = sum(full_child_error[best_child_params[1], best_child_params[2], child_held_out_idxs])\n",
    "\n",
    "    held_out_error = held_out_adult_error + held_out_child_error\n",
    "    \n",
    "    return held_out_error\n",
    "    \n",
    "end\n",
    "\n",
    "\n",
    "# compute held-out-error for shared quanta model...\n",
    "\n",
    "# for each eps, get the min-quanta error and value for each group - select the eps that minimimizes the accross-group sum\n",
    "\n",
    "function compute_held_out_error_shared_q_model(full_adult_error, full_child_error, held_out_idxs)\n",
    "\n",
    "    adult_good_idxs = 1:24\n",
    "    child_good_idxs = 25:44\n",
    "\n",
    "    for h in held_out_idxs\n",
    "        adult_good_idxs = adult_good_idxs[adult_good_idxs .!= h]\n",
    "        child_good_idxs = child_good_idxs[child_good_idxs .!= h]\n",
    "    end\n",
    "    child_good_idxs = child_good_idxs .- 24\n",
    "\n",
    "    adult_held_out_idxs = held_out_idxs[held_out_idxs .< 24]\n",
    "    child_held_out_idxs = held_out_idxs[held_out_idxs .> 24] .- 24\n",
    "\n",
    "    train_adult_error = sum(full_adult_error[:,:,adult_good_idxs], dims=3)\n",
    "    train_child_error = sum(full_child_error[:,:,child_good_idxs], dims=3)\n",
    "\n",
    "    adult_err_per_quanta = zeros(N_q)\n",
    "    adult_eps_idx_per_quanta = zeros(N_q)\n",
    "    child_err_per_quanta = zeros(N_q)\n",
    "    child_eps_idx_per_quanta = zeros(N_q)\n",
    "\n",
    "    for q_idx = 1:N_q\n",
    "        adult_err_per_quanta[q_idx] = minimum(train_adult_error[:,q_idx])\n",
    "        adult_eps_idx_per_quanta[q_idx] = argmin(train_adult_error[:,q_idx])\n",
    "\n",
    "        child_err_per_quanta[q_idx] = minimum(train_child_error[:,q_idx])\n",
    "        child_eps_idx_per_quanta[q_idx] = argmin(train_child_error[:,q_idx])\n",
    "    end\n",
    "\n",
    "    both_err_per_quanta = adult_err_per_quanta .+ child_err_per_quanta\n",
    "    both_best_quanta_idx = argmin(both_err_per_quanta)\n",
    "    child_best_eps_idx = child_eps_idx_per_quanta[both_best_quanta_idx]\n",
    "    adult_best_eps_idx = adult_eps_idx_per_quanta[both_best_quanta_idx]\n",
    "\n",
    "    held_out_adult_error = sum(full_adult_error[Int(adult_best_eps_idx), both_best_quanta_idx, adult_held_out_idxs])\n",
    "    held_out_child_error = sum(full_child_error[Int(child_best_eps_idx), both_best_quanta_idx, child_held_out_idxs])\n",
    "\n",
    "    held_out_error = held_out_adult_error + held_out_child_error\n",
    "   \n",
    "    return held_out_error\n",
    "end\n",
    "\n",
    "function compute_held_out_error_shared_eps_model(full_adult_error, full_child_error, held_out_idxs)\n",
    "\n",
    "    adult_good_idxs = 1:24\n",
    "    child_good_idxs = 25:44\n",
    "\n",
    "    for h in held_out_idxs\n",
    "        adult_good_idxs = adult_good_idxs[adult_good_idxs .!= h]\n",
    "        child_good_idxs = child_good_idxs[child_good_idxs .!= h]\n",
    "    end\n",
    "    child_good_idxs = child_good_idxs .- 24\n",
    "\n",
    "    adult_held_out_idxs = held_out_idxs[held_out_idxs .< 24]\n",
    "    child_held_out_idxs = held_out_idxs[held_out_idxs .> 24] .- 24\n",
    "\n",
    "    train_adult_error = sum(full_adult_error[:,:,adult_good_idxs], dims=3)\n",
    "    train_child_error = sum(full_child_error[:,:,child_good_idxs], dims=3)\n",
    "\n",
    "    adult_err_per_quanta = zeros(N_q)\n",
    "    adult_eps_idx_per_quanta = zeros(N_q)\n",
    "    child_err_per_quanta = zeros(N_q)\n",
    "    child_eps_idx_per_quanta = zeros(N_q)\n",
    "\n",
    "    for q_idx = 1:N_q\n",
    "        adult_err_per_quanta[q_idx] = minimum(train_adult_error[:,q_idx])\n",
    "        adult_eps_idx_per_quanta[q_idx] = argmin(train_adult_error[:,q_idx])\n",
    "\n",
    "        child_err_per_quanta[q_idx] = minimum(train_child_error[:,q_idx])\n",
    "        child_eps_idx_per_quanta[q_idx] = argmin(train_child_error[:,q_idx])\n",
    "    end\n",
    "\n",
    "    both_err_per_quanta = adult_err_per_quanta .+ child_err_per_quanta\n",
    "    both_best_quanta_idx = argmin(both_err_per_quanta)\n",
    "    child_best_eps_idx = child_eps_idx_per_quanta[both_best_quanta_idx]\n",
    "    adult_best_eps_idx = adult_eps_idx_per_quanta[both_best_quanta_idx]\n",
    "\n",
    "    held_out_adult_error = sum(full_adult_error[Int(adult_best_eps_idx), both_best_quanta_idx, adult_held_out_idxs])\n",
    "    held_out_child_error = sum(full_child_error[Int(child_best_eps_idx), both_best_quanta_idx, child_held_out_idxs])\n",
    "\n",
    "    held_out_error = held_out_adult_error + held_out_child_error\n",
    "   \n",
    "    return held_out_error\n",
    "end\n",
    "\n",
    "\n",
    "shared_q_res = zeros(44)\n",
    "full_res = zeros(44)\n",
    "\n",
    "for i = 1:44\n",
    "    shared_q_res[i] = compute_held_out_error_shared_q_model(full_adult_error, full_child_error, [i])\n",
    "    full_res[i] = compute_held_out_error_full_model(full_adult_error, full_child_error, [i])\n",
    "end"
   ]
  },
  {
   "cell_type": "code",
   "execution_count": 109,
   "id": "c5e9ed2b-e7eb-4a07-8066-79a1446cb724",
   "metadata": {},
   "outputs": [
    {
     "data": {
      "text/plain": [
       "2.5181694257412555"
      ]
     },
     "execution_count": 109,
     "metadata": {},
     "output_type": "execute_result"
    }
   ],
   "source": [
    "sum(full_res)"
   ]
  },
  {
   "cell_type": "code",
   "execution_count": 107,
   "id": "74c46009-a747-4746-a97d-6c9ee0b3ddc7",
   "metadata": {},
   "outputs": [
    {
     "data": {
      "text/plain": [
       "3.0305229989838143"
      ]
     },
     "execution_count": 107,
     "metadata": {},
     "output_type": "execute_result"
    }
   ],
   "source": [
    "sum(shared_q_res)"
   ]
  },
  {
   "cell_type": "code",
   "execution_count": 86,
   "id": "21d67d83-31ec-4967-9bf6-6538ba7ee910",
   "metadata": {},
   "outputs": [
    {
     "data": {
      "text/plain": [
       "13.662226104158657"
      ]
     },
     "execution_count": 86,
     "metadata": {},
     "output_type": "execute_result"
    }
   ],
   "source": [
    "adult_err_per_quanta"
   ]
  },
  {
   "cell_type": "code",
   "execution_count": 79,
   "id": "42a378e5-aef0-40dd-9340-f88beb3ba7f2",
   "metadata": {},
   "outputs": [
    {
     "data": {
      "text/plain": [
       "(17, 20, 1)"
      ]
     },
     "execution_count": 79,
     "metadata": {},
     "output_type": "execute_result"
    }
   ],
   "source": [
    "size(train_both_error)"
   ]
  },
  {
   "cell_type": "code",
   "execution_count": 56,
   "id": "a87355b9-d7bf-4274-b477-37360e9d7203",
   "metadata": {},
   "outputs": [],
   "source": [
    "adult_good_idxs = 1:24\n",
    "child_good_idxs = 25:44\n",
    "\n",
    "for h in held_out_idxs\n",
    "    adult_good_idxs = adult_good_idxs[adult_good_idxs .!= h]\n",
    "    child_good_idxs = child_good_idxs[child_good_idxs .!= h]\n",
    "end"
   ]
  },
  {
   "cell_type": "code",
   "execution_count": 62,
   "id": "c4deef69-8890-4e65-aa45-f2ffd58ee67d",
   "metadata": {},
   "outputs": [
    {
     "data": {
      "text/plain": [
       "20-element Vector{Int64}:\n",
       " -23\n",
       " -23\n",
       " -23\n",
       " -23\n",
       " -23\n",
       " -23\n",
       " -23\n",
       " -23\n",
       " -23\n",
       " -23\n",
       " -23\n",
       " -23\n",
       " -23\n",
       " -23\n",
       " -23\n",
       " -23\n",
       " -23\n",
       " -23\n",
       " -23\n",
       " -23"
      ]
     },
     "execution_count": 62,
     "metadata": {},
     "output_type": "execute_result"
    }
   ],
   "source": [
    "child_good_idxs"
   ]
  },
  {
   "cell_type": "code",
   "execution_count": 43,
   "id": "53e3d2b8-6198-498f-9dc9-28be2c084f8a",
   "metadata": {},
   "outputs": [
    {
     "data": {
      "text/plain": [
       "(17, 20, 20)"
      ]
     },
     "execution_count": 43,
     "metadata": {},
     "output_type": "execute_result"
    }
   ],
   "source": [
    "size(full_child_error)"
   ]
  },
  {
   "cell_type": "code",
   "execution_count": null,
   "id": "8a3f697b-66b0-4f77-949f-6558ad21e309",
   "metadata": {},
   "outputs": [],
   "source": []
  },
  {
   "cell_type": "code",
   "execution_count": null,
   "id": "1bd52d83-c84b-4298-9a90-2eba765b4e74",
   "metadata": {},
   "outputs": [],
   "source": []
  },
  {
   "cell_type": "code",
   "execution_count": 21,
   "id": "6441c2a2-cecd-4f2d-96ea-6bc84d8414a4",
   "metadata": {},
   "outputs": [
    {
     "ename": "LoadError",
     "evalue": "UndefVarError: `these_exp_results` not defined",
     "output_type": "error",
     "traceback": [
      "UndefVarError: `these_exp_results` not defined",
      ""
     ]
    }
   ],
   "source": [
    "# now want to find params using all data points except for 1 or 2?\n",
    "\n",
    "# find min error parameters, using all datapoints except for 1... this is for the full model...\n",
    "\n",
    "child_mse_train = zeros(N_eps, N_q)\n",
    "adult_mse_train = zeros(N_eps, N_q)\n",
    "\n",
    "for (ep_idx, epsilon) in enumerate(eps_vals)\n",
    "    for (q_idx, N_Quanta) in enumerate(q_vals)\n",
    "        \n",
    "        fullchild_mse_train[ep_idx, q_idx] = full_res_child\n",
    "\n"
   ]
  },
  {
   "cell_type": "code",
   "execution_count": null,
   "id": "22a5b058-0324-4ac4-8ab9-d9b5abda81cd",
   "metadata": {},
   "outputs": [],
   "source": []
  },
  {
   "cell_type": "code",
   "execution_count": null,
   "id": "739dea0b-5255-4eae-99c0-0442a977ecf7",
   "metadata": {},
   "outputs": [],
   "source": []
  },
  {
   "cell_type": "code",
   "execution_count": null,
   "id": "77738ca1-77c7-4aba-a181-f4a4f44bf1b6",
   "metadata": {},
   "outputs": [],
   "source": []
  },
  {
   "cell_type": "code",
   "execution_count": null,
   "id": "0b584810-0f87-4eb5-b9e8-566f892e42ee",
   "metadata": {},
   "outputs": [],
   "source": []
  },
  {
   "cell_type": "code",
   "execution_count": 14,
   "id": "5988df8f-9892-486f-930d-0141c6734c79",
   "metadata": {},
   "outputs": [
    {
     "data": {
      "text/plain": [
       "24×1 Matrix{Float64}:\n",
       " 1.98\n",
       " 1.94\n",
       " 1.97\n",
       " 1.95\n",
       " 3.87\n",
       " 2.66\n",
       " 3.64\n",
       " 2.87\n",
       " 3.54\n",
       " 2.58\n",
       " 3.58\n",
       " 2.65\n",
       " 2.63\n",
       " 2.75\n",
       " 2.75\n",
       " 2.41\n",
       " 2.38\n",
       " 2.38\n",
       " 4.8\n",
       " 3.97\n",
       " 3.97\n",
       " 2.46\n",
       " 2.15\n",
       " 2.15"
      ]
     },
     "execution_count": 14,
     "metadata": {},
     "output_type": "execute_result"
    }
   ],
   "source": [
    "ep_idx = 1\n",
    "\n",
    "full_res_child = [exp1_cowan_k_true_7_yr; exp2_cowan_k_true_7_yr; exp3_cowan_k_true_7_yr[:]] # 24...\n",
    "# full_res_child = full_res_child[.!isnan.(full_res_child)] # 20 datapoints...\n",
    "\n",
    "full_res_adult = [exp1_cowan_k_true_adult; exp2_cowan_k_true_adult; exp3_cowan_k_true_adult[:]]"
   ]
  },
  {
   "cell_type": "code",
   "execution_count": 19,
   "id": "f6923e1e-e5dd-47ba-bdd3-def2efae93dc",
   "metadata": {},
   "outputs": [
    {
     "data": {
      "text/plain": [
       "17×20×24 Array{Float64, 3}:\n",
       "[:, :, 1] =\n",
       " 0.373009  0.671312  0.837466  0.95459  …  1.5828   1.65002  1.636    1.70494\n",
       " 0.441473  0.836928  1.12335   1.35752     1.98144  1.98363  1.99551  1.9851\n",
       " 0.45249   0.969673  1.36108   1.59098     1.98759  1.98775  1.98577  1.98565\n",
       " 0.516232  1.04426   1.40147   1.66361     1.99159  1.99375  1.98578  1.99167\n",
       " 0.542201  1.08093   1.4341    1.65497     1.9756   1.98975  1.98977  1.99369\n",
       " 0.581548  1.13908   1.46052   1.67745  …  1.9896   1.98175  1.98177  1.98971\n",
       " 0.605156  1.16563   1.49314   1.67226     1.9836   1.98775  1.99377  1.99172\n",
       " 0.621682  1.17322   1.49314   1.68264     1.99359  1.98775  1.98976  1.98772\n",
       " 0.626403  1.17574   1.48227   1.68437     1.9896   1.98775  1.98776  1.98573\n",
       " 0.656307  1.18965   1.4947    1.67918     1.9876   1.98775  1.98376  1.98573\n",
       " 0.64529   1.17322   1.48848   1.67053  …  1.9836   1.98775  1.98377  1.98374\n",
       " 0.691719  1.1808    1.48848   1.67226     1.9816   1.98775  1.98777  1.98374\n",
       " 0.680702  1.18839   1.49936   1.68091     1.99159  1.99375  1.99177  1.99174\n",
       " 0.67598   1.19471   1.48848   1.67745     1.99159  1.98775  1.98177  1.99175\n",
       " 0.69408   1.19597   1.51023   1.69301     1.99159  1.99575  1.99578  1.98375\n",
       " 0.69408   1.19218   1.50247   1.69993  …  1.99359  1.99575  1.99178  1.98977\n",
       " 0.716114  1.20482   1.50091   1.6982      1.9876   1.98775  1.98579  1.99178\n",
       "\n",
       "[:, :, 2] =\n",
       " 0.402126  0.651084  0.807945  …  1.46465  1.5003   1.59414  1.62635\n",
       " 0.379304  0.639706  0.798622     1.93819  1.95172  1.95805  1.97093\n",
       " 0.402913  0.646027  0.745795     1.95459  1.96733  1.97792  1.97122\n",
       " 0.400552  0.677633  0.76737      1.94903  1.96792  1.97111  1.97552\n",
       " 0.418651  0.646027  0.834416     1.95638  1.96903  1.9743   1.98191\n",
       " 0.406847  0.600515  0.865075  …  1.9529   1.95948  1.97637  1.96598\n",
       " 0.395043  0.656182  0.914596     1.94732  1.96365  1.97471  1.97614\n",
       " 0.388748  0.636174  0.990408     1.95322  1.96951  1.97065  1.97245\n",
       " 0.394256  0.620084  1.0037       1.95146  1.97167  1.97274  1.98236\n",
       " 0.392682  0.662968  1.02801      1.9537   1.96598  1.96869  1.97251\n",
       " 0.407634  0.682903  1.02186   …  1.96556  1.96767  1.96873  1.97042\n",
       " 0.370648  0.709502  1.02846      1.95759  1.96786  1.97866  1.9805\n",
       " 0.40606   0.724479  1.03117      1.96759  1.96997  1.97682  1.9845\n",
       " 0.386387  0.738368  1.0332       1.95351  1.96793  1.97488  1.97464\n",
       " 0.383239  0.762626  1.02898      1.95966  1.96006  1.96693  1.98262\n",
       " 0.412356  0.75997   1.03667   …  1.95392  1.9659   1.97481  1.97859\n",
       " 0.394256  0.774861  1.00987      1.95788  1.96002  1.9768   1.97653\n",
       "\n",
       "[:, :, 3] =\n",
       " 0.400552  0.639706  0.809498  …  1.492    1.54896  1.64749  1.68484\n",
       " 0.408421  0.625799  0.738026     1.97591  1.97057  1.98908  1.99077\n",
       " 0.395043  0.646027  0.765994     1.98553  1.98767  1.98762  1.98761\n",
       " 0.393469  0.59925   0.831251     1.98158  1.98571  1.9917   1.98967\n",
       " 0.393469  0.663727  1.02081      1.98159  1.98972  1.99171  1.9857\n",
       " 0.399765  0.620742  1.23056   …  1.9856   1.97374  1.99373  1.98571\n",
       " 0.377731  0.595458  1.37817      1.9836   1.98774  1.98373  1.99171\n",
       " 0.387961  0.647291  1.42789      1.9856   1.97774  1.99173  1.99172\n",
       " 0.380878  0.791415  1.47295      1.9896   1.98774  1.98373  1.98972\n",
       " 0.393469  0.850834  1.47605      1.9896   1.98774  1.99173  1.99173\n",
       " 0.4037    0.953238  1.48693   …  1.9796   1.98174  1.99373  1.98574\n",
       " 0.392682  1.03541   1.48227      1.99359  1.98974  1.98973  1.99174\n",
       " 0.394256  1.10242   1.48538      1.9816   1.97774  1.98774  1.99174\n",
       " 0.401339  1.15425   1.48848      1.99159  1.99574  1.98175  1.99175\n",
       " 0.408421  1.18333   1.50402      1.9896   1.98574  1.99575  1.97576\n",
       " 0.390322  1.17954   1.4745    …  1.99159  1.99574  1.98975  1.97577\n",
       " 0.390322  1.18586   1.49625      1.9876   1.98374  1.99576  1.98978\n",
       "\n",
       ";;; … \n",
       "\n",
       "[:, :, 22] =\n",
       " 0.365926  0.64097   0.652571  0.85083  …  2.51333  2.61713  2.71508  2.90893\n",
       " 0.391895  0.572701  0.745795  0.85052     4.0605   4.06559  4.194    4.3293\n",
       " 0.389535  0.694068  0.677308  1.02686     4.2342   4.39099  4.51003  4.59371\n",
       " 0.394256  0.603043  0.792903  1.14952     4.32811  4.48127  4.58103  4.66429\n",
       " 0.394256  0.730564  0.891026  1.15543     4.40384  4.54302  4.60464  4.75175\n",
       " 0.415504  0.642919  0.795805  1.33313  …  4.44888  4.52895  4.58674  4.76801\n",
       " 0.432029  0.607369  1.07233   1.48381     4.3915   4.55229  4.63161  4.72982\n",
       " 0.443833  0.694226  1.12316   1.35931     4.45358  4.54534  4.63806  4.76608\n",
       " 0.354122  0.722814  1.11612   1.48865     4.44211  4.5885   4.67688  4.79089\n",
       " 0.344679  0.700185  1.17203   1.53151     4.38966  4.5769   4.64348  4.77544\n",
       " 0.415504  0.739551  1.1349    1.57412  …  4.43802  4.59662  4.62954  4.702\n",
       " 0.384813  0.75443   1.18106   1.55722     4.50364  4.50204  4.62192  4.79569\n",
       " 0.401339  0.789359  1.18449   1.62124     4.44503  4.56628  4.69231  4.78623\n",
       " 0.391895  0.720668  1.13369   1.6419      4.48266  4.59413  4.6277   4.78512\n",
       " 0.4037    0.715523  1.17661   1.69828     4.43841  4.54346  4.6913   4.76538\n",
       " 0.34704   0.754317  1.23011   1.69296  …  4.45509  4.60149  4.70304  4.77691\n",
       " 0.383822  0.77161   1.25937   1.66548     4.49511  4.58633  4.68099  4.77695\n",
       "\n",
       "[:, :, 23] =\n",
       " 0.432029  0.59925   0.638587  …  1.9003   2.08236  2.25951  2.45703\n",
       " 0.37537   0.625799  0.745795     3.90167  4.00777  4.26655  4.3139\n",
       " 0.432029  0.633385  0.745795     4.26097  4.35153  4.48761  4.60693\n",
       " 0.415504  0.652348  0.758368     4.36255  4.51244  4.6101   4.66074\n",
       " 0.363566  0.572701  0.852507     4.37759  4.5001   4.63519  4.71587\n",
       " 0.398978  0.568909  0.87462   …  4.43237  4.56301  4.6382   4.7496\n",
       " 0.384813  0.597818  0.968667     4.40131  4.5503   4.62543  4.73106\n",
       " 0.394256  0.643273  1.01297      4.44521  4.6156   4.65291  4.75724\n",
       " 0.398978  0.669049  1.09364      4.43119  4.56379  4.69225  4.79298\n",
       " 0.398978  0.630376  1.01693      4.43346  4.5576   4.66236  4.77419\n",
       " 0.410782  0.714933  1.13747   …  4.49884  4.60865  4.68409  4.76275\n",
       " 0.384813  0.694014  1.15598      4.45589  4.57828  4.69959  4.82961\n",
       " 0.382452  0.842076  1.17974      4.43873  4.59412  4.69347  4.78237\n",
       " 0.396617  0.727879  1.25985      4.44639  4.59973  4.65944  4.7315\n",
       " 0.389535  0.819201  1.21082      4.4791   4.53946  4.72984  4.76411\n",
       " 0.429669  0.772504  1.18043   …  4.48791  4.58446  4.66721  4.76433\n",
       " 0.382452  0.797633  1.24918      4.40707  4.54242  4.63631  4.81657\n",
       "\n",
       "[:, :, 24] =\n",
       " 0.377731  0.68269   0.829697  …  1.60537  1.70413  1.99294  2.17624\n",
       " 0.4037    0.697861  0.797068     3.78822  3.93668  4.14426  4.28583\n",
       " 0.396617  0.64097   0.778424     4.28293  4.38931  4.44888  4.61018\n",
       " 0.420225  0.614421  0.928203     4.29861  4.4643   4.6576   4.67263\n",
       " 0.415504  0.663727  0.699122     4.3625   4.50176  4.60014  4.72199\n",
       " 0.424947  0.587872  0.958135  …  4.37601  4.53954  4.61965  4.7412\n",
       " 0.394256  0.637178  1.05887      4.43488  4.58791  4.65551  4.73157\n",
       " 0.361205  0.601228  1.13722      4.43695  4.55544  4.66412  4.78917\n",
       " 0.358844  0.650493  1.00372      4.42106  4.52972  4.65032  4.76755\n",
       " 0.370648  0.671828  1.08534      4.49544  4.57571  4.68023  4.78618\n",
       " 0.368287  0.714902  1.04718   …  4.45083  4.60002  4.66803  4.78497\n",
       " 0.368287  0.736034  1.1523       4.50348  4.54024  4.69724  4.76147\n",
       " 0.370648  0.757104  1.21434      4.47278  4.56973  4.66324  4.76443\n",
       " 0.408421  0.67913   1.17762      4.42038  4.58252  4.6617   4.78274\n",
       " 0.389535  0.750531  1.12695      4.46415  4.55535  4.7058   4.71018\n",
       " 0.391895  0.801533  1.23927   …  4.45662  4.58068  4.68785  4.79748\n",
       " 0.370648  0.76453   1.24633      4.50534  4.58544  4.68612  4.80564"
      ]
     },
     "execution_count": 19,
     "metadata": {},
     "output_type": "execute_result"
    }
   ],
   "source": [
    "model_full_res"
   ]
  },
  {
   "cell_type": "code",
   "execution_count": 16,
   "id": "bdbff58d-5e26-4408-8c4f-bb4328cf7df2",
   "metadata": {},
   "outputs": [
    {
     "ename": "LoadError",
     "evalue": "UndefVarError: `these_exp_results` not defined",
     "output_type": "error",
     "traceback": [
      "UndefVarError: `these_exp_results` not defined",
      ""
     ]
    }
   ],
   "source": [
    "these_exp_results"
   ]
  },
  {
   "cell_type": "code",
   "execution_count": null,
   "id": "57d152a0-7ee6-4dd5-838e-8c066e0617bd",
   "metadata": {},
   "outputs": [],
   "source": []
  },
  {
   "cell_type": "code",
   "execution_count": null,
   "id": "96a4062d-6252-45e8-9c88-9e982f2c9392",
   "metadata": {},
   "outputs": [],
   "source": []
  },
  {
   "cell_type": "code",
   "execution_count": 10,
   "id": "ac62144c-bb8b-485d-8b48-0dd44f3ab64a",
   "metadata": {},
   "outputs": [
    {
     "data": {
      "text/plain": [
       "48×1 Matrix{Float64}:\n",
       " 1.16\n",
       " 1.14\n",
       " 1.13\n",
       " 1.02\n",
       " 2.8\n",
       " 0.91\n",
       " 1.3\n",
       " 0.96\n",
       " 1.98\n",
       " 1.94\n",
       " 1.97\n",
       " 1.95\n",
       " 3.87\n",
       " ⋮\n",
       " 2.63\n",
       " 2.75\n",
       " 2.75\n",
       " 2.41\n",
       " 2.38\n",
       " 2.38\n",
       " 4.8\n",
       " 3.97\n",
       " 3.97\n",
       " 2.46\n",
       " 2.15\n",
       " 2.15"
      ]
     },
     "execution_count": 10,
     "metadata": {},
     "output_type": "execute_result"
    }
   ],
   "source": [
    "\n",
    "# 48 values...\n",
    "\n",
    "full_res = [exp1_cowan_k_true_7_yr; exp1_cowan_k_true_adult; exp2_cowan_k_true_7_yr; exp2_cowan_k_true_adult; exp3_cowan_k_true_7_yr[:]; exp3_cowan_k_true_adult[:]]"
   ]
  },
  {
   "cell_type": "code",
   "execution_count": 7,
   "id": "ca6bf7e5-4f64-4824-858d-c70f17fa3ada",
   "metadata": {},
   "outputs": [
    {
     "data": {
      "text/plain": [
       "8×1 adjoint(::Matrix{Float64}) with eltype Float64:\n",
       " 1.98\n",
       " 1.94\n",
       " 1.97\n",
       " 1.95\n",
       " 3.87\n",
       " 2.66\n",
       " 3.64\n",
       " 2.87"
      ]
     },
     "execution_count": 7,
     "metadata": {},
     "output_type": "execute_result"
    }
   ],
   "source": [
    "exp1_cowan_k_true_adult"
   ]
  },
  {
   "cell_type": "code",
   "execution_count": 8,
   "id": "51eef413-395b-4ca4-be10-98447b6cc17f",
   "metadata": {},
   "outputs": [
    {
     "data": {
      "text/plain": [
       "4×1 adjoint(::Matrix{Float64}) with eltype Float64:\n",
       " 1.55\n",
       " 1.16\n",
       " 1.0\n",
       " 0.69"
      ]
     },
     "execution_count": 8,
     "metadata": {},
     "output_type": "execute_result"
    }
   ],
   "source": [
    "exp2_cowan_k_true_7_yr"
   ]
  },
  {
   "cell_type": "code",
   "execution_count": null,
   "id": "1f46feed-37a5-4a50-abf3-0102fd84c3d0",
   "metadata": {},
   "outputs": [],
   "source": []
  }
 ],
 "metadata": {
  "kernelspec": {
   "display_name": "Julia 1.9.1",
   "language": "julia",
   "name": "julia-1.9"
  },
  "language_info": {
   "file_extension": ".jl",
   "mimetype": "application/julia",
   "name": "julia",
   "version": "1.9.1"
  }
 },
 "nbformat": 4,
 "nbformat_minor": 5
}
