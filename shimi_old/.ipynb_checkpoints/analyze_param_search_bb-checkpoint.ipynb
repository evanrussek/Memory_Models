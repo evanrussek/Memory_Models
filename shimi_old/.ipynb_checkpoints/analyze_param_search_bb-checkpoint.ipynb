{
 "cells": [
  {
   "cell_type": "code",
   "execution_count": 15,
   "id": "ddace5e4-3f77-47cf-b458-babd376c23e2",
   "metadata": {},
   "outputs": [
    {
     "name": "stderr",
     "output_type": "stream",
     "text": [
      "\u001b[32m\u001b[1m    CondaPkg \u001b[22m\u001b[39m\u001b[0mFound dependencies: /Users/erussek/.julia/packages/PythonCall/wXfah/CondaPkg.toml\n",
      "\u001b[32m\u001b[1m    CondaPkg \u001b[22m\u001b[39m\u001b[0mFound dependencies: /Users/erussek/.julia/packages/PythonPlot/KcWMF/CondaPkg.toml\n",
      "\u001b[32m\u001b[1m    CondaPkg \u001b[22m\u001b[39m\u001b[0mDependencies already up to date\n"
     ]
    }
   ],
   "source": [
    "include(\"MDPModelFunctions2.jl\")\n",
    "using JLD2\n",
    "using PythonPlot"
   ]
  },
  {
   "cell_type": "code",
   "execution_count": 41,
   "id": "66dd0a3c-8915-4de3-be6f-2c881297f028",
   "metadata": {},
   "outputs": [
    {
     "name": "stdout",
     "output_type": "stream",
     "text": [
      "0.034, 1100"
     ]
    }
   ],
   "source": [
    "to_save_folder = \"/Users/erussek/Dropbox/Griffiths_Lab_Stuff/code/Memory_Models/shimi_bbopts\"\n",
    "\n",
    "# re-run with new values so we can see some concavity...\n",
    "NT_vals = collect(100:250:2200)\n",
    "N_nt = length(NT_vals)\n",
    "mem_slopes = round.([.01*(1.5^x) for x = 2:9], digits = 3)\n",
    "N_ms = length(mem_slopes)\n",
    "\n",
    "# get child res...\n",
    "\n",
    "child_vals = zeros(N_nt, N_ms)\n",
    "\n",
    "\n",
    "adult_vals = zeros(N_nt, N_ms)\n",
    "adult_epsilon = zeros(N_nt, N_ms)\n",
    "adult_quanta = zeros(N_nt, N_ms)\n",
    "\n",
    "for (ms_idx,ms) in enumerate(mem_slopes)\n",
    "    for (nt_idx,nt) in enumerate(NT_vals)\n",
    "        which_group = \"child\"\n",
    "\n",
    "        try\n",
    "            file_name = \"Group_$(which_group)_NT_$(nt)_memslope_$(ms).jld2\"\n",
    "            full_file_path = joinpath(to_save_folder,file_name)\n",
    "            res = load(full_file_path)\n",
    "            child_vals[nt_idx, ms_idx] = res[\"res_dict\"][\"val\"]\n",
    "            \n",
    "            child_quanta[nt_idx,ms_idx] = res[\"res_dict\"][\"x\"][1]\n",
    "            child_epsilon[nt_idx,ms_idx] = res[\"res_dict\"][\"x\"][2]\n",
    "        catch\n",
    "            print(\"$(ms), $(nt)\")\n",
    "            child_vals[nt_idx, ms_idx] = NaN\n",
    "\n",
    "        end\n",
    "        which_group = \"adult\"\n",
    "        try\n",
    "            file_name = \"Group_$(which_group)_NT_$(nt)_memslope_$(ms).jld2\"\n",
    "            full_file_path = joinpath(to_save_folder,file_name)\n",
    "            res = load(full_file_path)\n",
    "            adult_vals[nt_idx, ms_idx] = res[\"res_dict\"][\"val\"]\n",
    "            adult_quanta[nt_idx,ms_idx] = res[\"res_dict\"][\"x\"][1]\n",
    "            adult_epsilon[nt_idx,ms_idx] = res[\"res_dict\"][\"x\"][2]\n",
    "        catch\n",
    "            print(\"$(ms), $(nt)\")\n",
    "            adult_vals[nt_idx, ms_idx] = NaN\n",
    "        end\n",
    "    end\n",
    "end\n",
    "        \n"
   ]
  },
  {
   "cell_type": "code",
   "execution_count": 42,
   "id": "138df687-e066-4d84-8c0b-d871477eea7d",
   "metadata": {},
   "outputs": [
    {
     "data": {
      "text/plain": [
       "9×8 Matrix{Float64}:\n",
       " 0.998454  0.993996  0.717982  0.496096  …  0.218641  0.145648  0.111803\n",
       " 0.996724  0.909047  0.786689  0.593852     0.247853  0.167576  0.123883\n",
       " 0.998746  0.96844   0.752359  0.530903     0.233094  0.144988  0.137582\n",
       " 0.988119  0.960811  0.731252  0.568889     0.261723  0.159009  0.115174\n",
       " 0.938479  0.816338  0.726644  0.445162     0.223074  0.164151  0.127401\n",
       " 0.976197  0.982396  0.746841  0.424758  …  0.198002  0.156178  0.128359\n",
       " 0.973692  0.943943  0.880872  0.559466     0.318989  0.173535  0.136454\n",
       " 0.990612  0.821311  0.823859  0.359659     0.344348  0.215646  0.126141\n",
       " 0.990466  0.913589  0.748965  0.561724     0.354451  0.155473  0.123885"
      ]
     },
     "execution_count": 42,
     "metadata": {},
     "output_type": "execute_result"
    }
   ],
   "source": [
    "adult_quanta"
   ]
  },
  {
   "cell_type": "code",
   "execution_count": 31,
   "id": "71ac8b54-c800-46ca-bbb8-687a7b025b12",
   "metadata": {},
   "outputs": [
    {
     "data": {
      "text/plain": [
       "9×8 Matrix{Float64}:\n",
       " 1.28552    1.26252  1.0395    0.888272  …  0.694959  0.606739  0.581397\n",
       " 1.32958    1.05093  0.856084  1.47025      0.581862  0.699465  0.805518\n",
       " 1.78013    4.27228  1.84902   1.17127      0.629259  0.791641  0.836683\n",
       " 2.45198    1.91637  1.76264   0.763743     3.02658   0.888017  0.804291\n",
       " 1.6346   NaN        1.18807   0.795699     0.684158  1.75242   1.0203\n",
       " 1.57741    1.59427  0.880701  0.699436  …  1.14877   1.25038   1.67934\n",
       " 1.90779    1.5637   2.32996   1.82172      2.13728   0.898972  0.933894\n",
       " 4.23951    1.50461  0.977814  2.5013       0.827375  0.91275   0.834104\n",
       " 3.27911    4.1565   2.63337   4.37529      0.781757  2.61694   0.753335"
      ]
     },
     "execution_count": 31,
     "metadata": {},
     "output_type": "execute_result"
    }
   ],
   "source": [
    "child_vals"
   ]
  },
  {
   "cell_type": "code",
   "execution_count": 34,
   "id": "22cd8bf5-24ae-46be-8230-3a6d45a5fc81",
   "metadata": {},
   "outputs": [
    {
     "data": {
      "text/plain": [
       "9×8 Matrix{Float64}:\n",
       " 11.9741    3.95729  3.53781  3.26457  2.97747  2.33324  1.92933  1.80291\n",
       " 10.3503    4.62484  3.31162  3.87458  2.43372  1.73619  2.06227  2.42385\n",
       " 11.7255    7.73447  4.41923  3.20224  4.25297  2.18182  2.14374  3.84422\n",
       " 12.2463    5.27435  5.68016  2.3638   3.49455  4.12042  2.22884  2.19362\n",
       " 12.8716  NaN        3.76339  4.03394  1.94128  2.12867  3.02605  3.22999\n",
       " 11.7935    4.83918  3.04542  4.88608  2.21534  2.94213  2.68998  3.39592\n",
       " 12.1943    8.90247  4.18133  5.0681   5.26602  5.24407  2.68717  2.8806\n",
       " 14.5077    7.99362  7.33996  6.60401  5.32563  2.69586  3.83139  2.85439\n",
       " 13.624     9.26082  5.13847  5.52556  6.80671  2.62328  4.26448  5.40647"
      ]
     },
     "execution_count": 34,
     "metadata": {},
     "output_type": "execute_result"
    }
   ],
   "source": [
    "adult_vals + child_vals"
   ]
  },
  {
   "cell_type": "code",
   "execution_count": 27,
   "id": "da6bbaa2-e0f7-4d90-8e14-bddb3ee18043",
   "metadata": {},
   "outputs": [
    {
     "ename": "LoadError",
     "evalue": "Python: TypeError: 'norm' must be an instance of matplotlib.colors.Normalize, str or None, not a juliacall.ArrayValue",
     "output_type": "error",
     "traceback": [
      "Python: TypeError: 'norm' must be an instance of matplotlib.colors.Normalize, str or None, not a juliacall.ArrayValue",
      "",
      "Stacktrace:",
      " [1] pythrow()",
      "   @ PythonCall ~/.julia/packages/PythonCall/wXfah/src/err.jl:94",
      " [2] errcheck",
      "   @ ~/.julia/packages/PythonCall/wXfah/src/err.jl:10 [inlined]",
      " [3] pycallargs(f::PythonCall.Py, args::PythonCall.Py)",
      "   @ PythonCall ~/.julia/packages/PythonCall/wXfah/src/abstract/object.jl:210",
      " [4] pycall(::PythonCall.Py, ::Vector{Float64}, ::Vararg{Any}; kwargs::Base.Pairs{Symbol, Union{}, Tuple{}, NamedTuple{(), Tuple{}}})",
      "   @ PythonCall ~/.julia/packages/PythonCall/wXfah/src/abstract/object.jl:228",
      " [5] pycall(::PythonCall.Py, ::Vector{Float64}, ::Vararg{Any})",
      "   @ PythonCall ~/.julia/packages/PythonCall/wXfah/src/abstract/object.jl:218",
      " [6] (::PythonCall.Py)(::Vector{Float64}, ::Vararg{Any}; kwargs::Base.Pairs{Symbol, Union{}, Tuple{}, NamedTuple{(), Tuple{}}})",
      "   @ PythonCall ~/.julia/packages/PythonCall/wXfah/src/Py.jl:341",
      " [7] (::PythonCall.Py)(::Vector{Float64}, ::Vararg{Any})",
      "   @ PythonCall ~/.julia/packages/PythonCall/wXfah/src/Py.jl:341",
      " [8] top-level scope",
      "   @ In[27]:2"
     ]
    }
   ],
   "source": [
    "fig,ax = subplots(1,figsize=(2,2),dpi=200)\n",
    "ax.imshow(mem_slopes, NT_vals,child_vals)\n"
   ]
  },
  {
   "cell_type": "code",
   "execution_count": null,
   "id": "54bc8b24-7654-45d5-8456-2959d4b83ad0",
   "metadata": {},
   "outputs": [],
   "source": [
    "to_save_folder = \"/Users/erussek/Dropbox/Griffiths_Lab_Stuff/code/Memory_Models/shimi_bbopts\"\n"
   ]
  },
  {
   "cell_type": "code",
   "execution_count": 36,
   "id": "84c35e72-fe55-4e63-b39c-e276b5acfd0b",
   "metadata": {},
   "outputs": [
    {
     "data": {
      "text/plain": [
       "2-element Vector{Float64}:\n",
       " 0.12388473783069451\n",
       " 0.3353248144890226"
      ]
     },
     "execution_count": 36,
     "metadata": {},
     "output_type": "execute_result"
    }
   ],
   "source": [
    "res[\"res_dict\"][\"x\"]"
   ]
  },
  {
   "cell_type": "code",
   "execution_count": 6,
   "id": "d7370c65-5db7-47b3-b324-704ab4d0be3b",
   "metadata": {},
   "outputs": [
    {
     "data": {
      "text/plain": [
       "Dict{String, Any} with 1 entry:\n",
       "  \"res_dict\" => Dict{Any, Any}(\"nt\"=>100, \"val\"=>1.28552, \"ms\"=>0.022, \"x\"=>[0.…"
      ]
     },
     "execution_count": 6,
     "metadata": {},
     "output_type": "execute_result"
    }
   ],
   "source": [
    "ms = mem_slopes[1]\n",
    "nt = NT_vals[1]\n",
    "\n",
    "file_name = \"Group_$(which_group)_NT_$(nt)_memslope_$(ms).jld2\"\n",
    "full_file_path = joinpath(to_save_folder,file_name)\n",
    "res = load(full_file_path)"
   ]
  },
  {
   "cell_type": "code",
   "execution_count": null,
   "id": "a96a64b3-eec2-4fac-8e28-4d2b41d5af25",
   "metadata": {},
   "outputs": [],
   "source": []
  }
 ],
 "metadata": {
  "kernelspec": {
   "display_name": "Julia 1.9.1",
   "language": "julia",
   "name": "julia-1.9"
  },
  "language_info": {
   "file_extension": ".jl",
   "mimetype": "application/julia",
   "name": "julia",
   "version": "1.9.1"
  }
 },
 "nbformat": 4,
 "nbformat_minor": 5
}
