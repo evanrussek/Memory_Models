{
 "cells": [
  {
   "cell_type": "code",
   "execution_count": 1,
   "id": "4cd300b6-4a2d-43c5-818d-ac9e11124379",
   "metadata": {},
   "outputs": [],
   "source": [
    "## started this...\n",
    "\n",
    "include(\"MDPModelFunctions2.jl\")\n",
    "using PyCall\n",
    "\n",
    "pb = pyimport(\"pybads\")\n",
    "pyimport(\"sys\").stdout.flush()\n",
    "#using BlackBoxOptim"
   ]
  },
  {
   "cell_type": "code",
   "execution_count": 5,
   "id": "fb26d58d-a7f2-4b67-8b76-af95cf330d13",
   "metadata": {},
   "outputs": [
    {
     "data": {
      "text/plain": [
       "1-element Vector{Normal{Float64}}:\n",
       " Normal{Float64}(μ=1.0, σ=2.0)"
      ]
     },
     "execution_count": 5,
     "metadata": {},
     "output_type": "execute_result"
    }
   ],
   "source": [
    "using BayesianOptimization, GaussianProcesses, Distributions\n",
    "\n",
    "model = ElasticGPE(2,                            # 2 input dimensions\n",
    "                   mean = MeanConst(0.),         \n",
    "                   kernel = SEArd([0., 0.], 5.),\n",
    "                   logNoise = 0.,\n",
    "                   capacity = 3000)              # the initial capacity of the GP is 3000 samples.\n",
    "set_priors!(model.mean, [Normal(1, 2)])"
   ]
  },
  {
   "cell_type": "code",
   "execution_count": null,
   "id": "694a278f-6e64-4a0b-9a15-e2450b37209f",
   "metadata": {},
   "outputs": [],
   "source": []
  },
  {
   "cell_type": "code",
   "execution_count": 1,
   "id": "c8890844-1ddf-4fe6-99ba-085489cedc9c",
   "metadata": {},
   "outputs": [
    {
     "name": "stderr",
     "output_type": "stream",
     "text": [
      "\u001b[32m\u001b[1m    Updating\u001b[22m\u001b[39m registry at `~/.julia/registries/General.toml`\n",
      "\u001b[32m\u001b[1m   Resolving\u001b[22m\u001b[39m package versions...\n",
      "\u001b[32m\u001b[1m   Installed\u001b[22m\u001b[39m JpegTurbo_jll ────────── v3.0.1+0\n",
      "\u001b[32m\u001b[1m   Installed\u001b[22m\u001b[39m ProgressMeter ────────── v1.9.0\n",
      "\u001b[32m\u001b[1m   Installed\u001b[22m\u001b[39m Unitful ──────────────── v1.19.0\n",
      "\u001b[32m\u001b[1m   Installed\u001b[22m\u001b[39m ScikitLearnBase ──────── v0.5.0\n",
      "\u001b[32m\u001b[1m   Installed\u001b[22m\u001b[39m PDMats ───────────────── v0.10.1\n",
      "\u001b[32m\u001b[1m   Installed\u001b[22m\u001b[39m StaticArrays ─────────── v1.9.1\n",
      "\u001b[32m\u001b[1m   Installed\u001b[22m\u001b[39m FastGaussQuadrature ──── v0.4.9\n",
      "\u001b[32m\u001b[1m   Installed\u001b[22m\u001b[39m MutableArithmetics ───── v1.4.0\n",
      "\u001b[32m\u001b[1m   Installed\u001b[22m\u001b[39m PlotUtils ────────────── v1.4.0\n",
      "\u001b[32m\u001b[1m   Installed\u001b[22m\u001b[39m Distances ────────────── v0.10.11\n",
      "\u001b[32m\u001b[1m   Installed\u001b[22m\u001b[39m HTTP ─────────────────── v1.10.1\n",
      "\u001b[32m\u001b[1m   Installed\u001b[22m\u001b[39m FiniteDiff ───────────── v2.22.0\n",
      "\u001b[32m\u001b[1m   Installed\u001b[22m\u001b[39m JLD2 ─────────────────── v0.4.45\n",
      "\u001b[32m\u001b[1m   Installed\u001b[22m\u001b[39m FileIO ───────────────── v1.16.2\n",
      "\u001b[32m\u001b[1m   Installed\u001b[22m\u001b[39m ElasticPDMats ────────── v0.2.2\n",
      "\u001b[32m\u001b[1m   Installed\u001b[22m\u001b[39m BenchmarkTools ───────── v1.4.0\n",
      "\u001b[32m\u001b[1m   Installed\u001b[22m\u001b[39m MathOptInterface ─────── v1.2.0\n",
      "\u001b[32m\u001b[1m   Installed\u001b[22m\u001b[39m Bzip2_jll ────────────── v1.0.8+1\n",
      "\u001b[32m\u001b[1m   Installed\u001b[22m\u001b[39m fzf_jll ──────────────── v0.43.0+0\n",
      "\u001b[32m\u001b[1m   Installed\u001b[22m\u001b[39m GLFW_jll ─────────────── v3.3.9+0\n",
      "\u001b[32m\u001b[1m   Installed\u001b[22m\u001b[39m JLFzf ────────────────── v0.1.7\n",
      "\u001b[32m\u001b[1m   Installed\u001b[22m\u001b[39m MbedTLS ──────────────── v1.1.9\n",
      "\u001b[32m\u001b[1m   Installed\u001b[22m\u001b[39m SpecialFunctions ─────── v0.10.3\n",
      "\u001b[32m\u001b[1m   Installed\u001b[22m\u001b[39m DataStructures ───────── v0.18.16\n",
      "\u001b[32m\u001b[1m   Installed\u001b[22m\u001b[39m libpng_jll ───────────── v1.6.40+0\n",
      "\u001b[32m\u001b[1m   Installed\u001b[22m\u001b[39m ExceptionUnwrapping ──── v0.1.10\n",
      "\u001b[32m\u001b[1m   Installed\u001b[22m\u001b[39m Compat ───────────────── v4.12.0\n",
      "\u001b[32m\u001b[1m   Installed\u001b[22m\u001b[39m Sobol ────────────────── v1.5.0\n",
      "\u001b[32m\u001b[1m   Installed\u001b[22m\u001b[39m DiffRules ────────────── v1.14.0\n",
      "\u001b[32m\u001b[1m   Installed\u001b[22m\u001b[39m Plots ────────────────── v1.39.0\n",
      "\u001b[32m\u001b[1m   Installed\u001b[22m\u001b[39m JSON3 ────────────────── v1.14.0\n",
      "\u001b[32m\u001b[1m   Installed\u001b[22m\u001b[39m OrderedCollections ───── v1.6.3\n",
      "\u001b[32m\u001b[1m   Installed\u001b[22m\u001b[39m Parsers ──────────────── v2.8.1\n",
      "\u001b[32m\u001b[1m   Installed\u001b[22m\u001b[39m BayesianOptimization ─── v0.2.5\n",
      "\u001b[32m\u001b[1m   Installed\u001b[22m\u001b[39m ArrayInterface ───────── v7.7.0\n",
      "\u001b[32m\u001b[1m   Installed\u001b[22m\u001b[39m ChainRulesCore ───────── v1.19.1\n",
      "\u001b[32m\u001b[1m   Installed\u001b[22m\u001b[39m MacroTools ───────────── v0.5.13\n",
      "\u001b[32m\u001b[1m   Installed\u001b[22m\u001b[39m XML2_jll ─────────────── v2.12.2+0\n",
      "\u001b[32m\u001b[1m   Installed\u001b[22m\u001b[39m Wayland_protocols_jll ── v1.31.0+0\n",
      "\u001b[32m\u001b[1m   Installed\u001b[22m\u001b[39m InverseFunctions ─────── v0.1.12\n",
      "\u001b[32m\u001b[1m   Installed\u001b[22m\u001b[39m Adapt ────────────────── v4.0.1\n",
      "\u001b[32m\u001b[1m   Installed\u001b[22m\u001b[39m PrettyTables ─────────── v2.3.1\n",
      "\u001b[32m\u001b[1m   Installed\u001b[22m\u001b[39m LLVMOpenMP_jll ───────── v15.0.7+0\n",
      "\u001b[32m\u001b[1m   Installed\u001b[22m\u001b[39m ElasticArrays ────────── v1.2.12\n",
      "\u001b[32m\u001b[1m   Installed\u001b[22m\u001b[39m QuadGK ───────────────── v2.9.4\n",
      "\u001b[32m\u001b[1m   Installed\u001b[22m\u001b[39m SortingAlgorithms ────── v1.2.1\n",
      "\u001b[32m\u001b[1m   Installed\u001b[22m\u001b[39m GaussianProcesses ────── v0.12.5\n",
      "\u001b[32m\u001b[1m   Installed\u001b[22m\u001b[39m ExpFamilyDistributions ─ v0.9.1\n",
      "\u001b[32m\u001b[1m    Updating\u001b[22m\u001b[39m `~/Dropbox/Griffiths_Lab_Stuff/Code/Memory_Models/Project.toml`\n",
      "  \u001b[90m[4c6ed407] \u001b[39m\u001b[92m+ BayesianOptimization v0.2.5\u001b[39m\n",
      "  \u001b[90m[6e4b80f9] \u001b[39m\u001b[93m↑ BenchmarkTools v1.3.2 ⇒ v1.4.0\u001b[39m\n",
      "  \u001b[90m[a93c6f00] \u001b[39m\u001b[93m↑ DataFrames v1.5.0 ⇒ v1.6.1\u001b[39m\n",
      "\u001b[33m⌅\u001b[39m \u001b[90m[31c24e10] \u001b[39m\u001b[95m↓ Distributions v0.25.103 ⇒ v0.24.18\u001b[39m\n",
      "\u001b[32m⌃\u001b[39m \u001b[90m[ac7c78bc] \u001b[39m\u001b[95m↓ ExpFamilyDistributions v1.0.2 ⇒ v0.9.1\u001b[39m\n",
      "  \u001b[90m[033835bb] \u001b[39m\u001b[93m↑ JLD2 v0.4.38 ⇒ v0.4.45\u001b[39m\n",
      "  \u001b[90m[91a5bcdd] \u001b[39m\u001b[93m↑ Plots v1.38.16 ⇒ v1.39.0\u001b[39m\n",
      "  \u001b[90m[274fc56d] \u001b[39m\u001b[93m↑ PythonPlot v1.0.2 ⇒ v1.0.3\u001b[39m\n",
      "\u001b[33m⌅\u001b[39m \u001b[90m[2913bbd2] \u001b[39m\u001b[95m↓ StatsBase v0.34.0 ⇒ v0.33.21\u001b[39m\n",
      "\u001b[32m\u001b[1m    Updating\u001b[22m\u001b[39m `~/Dropbox/Griffiths_Lab_Stuff/Code/Memory_Models/Manifest.toml`\n",
      "  \u001b[90m[621f4979] \u001b[39m\u001b[91m- AbstractFFTs v1.5.0\u001b[39m\n",
      "  \u001b[90m[79e6a3ab] \u001b[39m\u001b[93m↑ Adapt v3.7.1 ⇒ v4.0.1\u001b[39m\n",
      "  \u001b[90m[4fba245c] \u001b[39m\u001b[92m+ ArrayInterface v7.7.0\u001b[39m\n",
      "  \u001b[90m[ab4f0b2a] \u001b[39m\u001b[91m- BFloat16s v0.2.0\u001b[39m\n",
      "  \u001b[90m[4c6ed407] \u001b[39m\u001b[92m+ BayesianOptimization v0.2.5\u001b[39m\n",
      "  \u001b[90m[6e4b80f9] \u001b[39m\u001b[93m↑ BenchmarkTools v1.3.2 ⇒ v1.4.0\u001b[39m\n",
      "  \u001b[90m[fa961155] \u001b[39m\u001b[91m- CEnum v0.4.2\u001b[39m\n",
      "  \u001b[90m[052768ef] \u001b[39m\u001b[91m- CUDA v3.13.1\u001b[39m\n",
      "  \u001b[90m[49dc2e85] \u001b[39m\u001b[91m- Calculus v0.5.1\u001b[39m\n",
      "  \u001b[90m[d360d2e6] \u001b[39m\u001b[93m↑ ChainRulesCore v1.18.0 ⇒ v1.19.1\u001b[39m\n",
      "\u001b[33m⌅\u001b[39m \u001b[90m[523fee87] \u001b[39m\u001b[92m+ CodecBzip2 v0.7.2\u001b[39m\n",
      "  \u001b[90m[bbf7d656] \u001b[39m\u001b[92m+ CommonSubexpressions v0.3.0\u001b[39m\n",
      "  \u001b[90m[34da2185] \u001b[39m\u001b[93m↑ Compat v4.10.0 ⇒ v4.12.0\u001b[39m\n",
      "  \u001b[90m[187b0558] \u001b[39m\u001b[92m+ ConstructionBase v1.5.4\u001b[39m\n",
      "  \u001b[90m[a93c6f00] \u001b[39m\u001b[93m↑ DataFrames v1.5.0 ⇒ v1.6.1\u001b[39m\n",
      "  \u001b[90m[864edb3b] \u001b[39m\u001b[93m↑ DataStructures v0.18.15 ⇒ v0.18.16\u001b[39m\n",
      "  \u001b[90m[163ba53b] \u001b[39m\u001b[92m+ DiffResults v1.1.0\u001b[39m\n",
      "\u001b[32m⌃\u001b[39m \u001b[90m[b552c78f] \u001b[39m\u001b[92m+ DiffRules v1.14.0\u001b[39m\n",
      "  \u001b[90m[b4f34e82] \u001b[39m\u001b[92m+ Distances v0.10.11\u001b[39m\n",
      "\u001b[33m⌅\u001b[39m \u001b[90m[31c24e10] \u001b[39m\u001b[95m↓ Distributions v0.25.103 ⇒ v0.24.18\u001b[39m\n",
      "  \u001b[90m[fa6b7ba4] \u001b[39m\u001b[91m- DualNumbers v0.6.8\u001b[39m\n",
      "  \u001b[90m[fdbdab4c] \u001b[39m\u001b[92m+ ElasticArrays v1.2.12\u001b[39m\n",
      "  \u001b[90m[2904ab23] \u001b[39m\u001b[92m+ ElasticPDMats v0.2.2\u001b[39m\n",
      "  \u001b[90m[460bff9d] \u001b[39m\u001b[93m↑ ExceptionUnwrapping v0.1.9 ⇒ v0.1.10\u001b[39m\n",
      "\u001b[32m⌃\u001b[39m \u001b[90m[ac7c78bc] \u001b[39m\u001b[95m↓ ExpFamilyDistributions v1.0.2 ⇒ v0.9.1\u001b[39m\n",
      "\u001b[33m⌅\u001b[39m \u001b[90m[442a2c76] \u001b[39m\u001b[92m+ FastGaussQuadrature v0.4.9\u001b[39m\n",
      "  \u001b[90m[5789e2e9] \u001b[39m\u001b[93m↑ FileIO v1.16.1 ⇒ v1.16.2\u001b[39m\n",
      "\u001b[33m⌅\u001b[39m \u001b[90m[1a297f60] \u001b[39m\u001b[95m↓ FillArrays v1.7.0 ⇒ v0.11.9\u001b[39m\n",
      "  \u001b[90m[6a86dc24] \u001b[39m\u001b[92m+ FiniteDiff v2.22.0\u001b[39m\n",
      "  \u001b[90m[f6369f11] \u001b[39m\u001b[92m+ ForwardDiff v0.10.36\u001b[39m\n",
      "  \u001b[90m[0c68f7d7] \u001b[39m\u001b[91m- GPUArrays v8.8.1\u001b[39m\n",
      "  \u001b[90m[46192b85] \u001b[39m\u001b[91m- GPUArraysCore v0.1.5\u001b[39m\n",
      "  \u001b[90m[61eb1bfa] \u001b[39m\u001b[91m- GPUCompiler v0.17.3\u001b[39m\n",
      "  \u001b[90m[891a1506] \u001b[39m\u001b[92m+ GaussianProcesses v0.12.5\u001b[39m\n",
      "  \u001b[90m[cd3eb016] \u001b[39m\u001b[93m↑ HTTP v1.10.0 ⇒ v1.10.1\u001b[39m\n",
      "  \u001b[90m[34004b35] \u001b[39m\u001b[91m- HypergeometricFunctions v0.3.23\u001b[39m\n",
      "  \u001b[90m[3587e190] \u001b[39m\u001b[92m+ InverseFunctions v0.1.12\u001b[39m\n",
      "  \u001b[90m[033835bb] \u001b[39m\u001b[93m↑ JLD2 v0.4.38 ⇒ v0.4.45\u001b[39m\n",
      "  \u001b[90m[1019f520] \u001b[39m\u001b[93m↑ JLFzf v0.1.6 ⇒ v0.1.7\u001b[39m\n",
      "  \u001b[90m[0f8b85d8] \u001b[39m\u001b[93m↑ JSON3 v1.13.2 ⇒ v1.14.0\u001b[39m\n",
      "  \u001b[90m[929cbde3] \u001b[39m\u001b[91m- LLVM v4.17.1\u001b[39m\n",
      "  \u001b[90m[d3d80556] \u001b[39m\u001b[92m+ LineSearches v7.2.0\u001b[39m\n",
      "  \u001b[90m[1914dd2f] \u001b[39m\u001b[93m↑ MacroTools v0.5.11 ⇒ v0.5.13\u001b[39m\n",
      "\u001b[32m⌃\u001b[39m \u001b[90m[b8f27783] \u001b[39m\u001b[92m+ MathOptInterface v1.2.0\u001b[39m\n",
      "  \u001b[90m[fdba3010] \u001b[39m\u001b[92m+ MathProgBase v0.7.8\u001b[39m\n",
      "  \u001b[90m[739be429] \u001b[39m\u001b[93m↑ MbedTLS v1.1.8 ⇒ v1.1.9\u001b[39m\n",
      "  \u001b[90m[d8a4904e] \u001b[39m\u001b[92m+ MutableArithmetics v1.4.0\u001b[39m\n",
      "  \u001b[90m[d41bc354] \u001b[39m\u001b[92m+ NLSolversBase v7.8.3\u001b[39m\n",
      "\u001b[33m⌅\u001b[39m \u001b[90m[76087f3c] \u001b[39m\u001b[92m+ NLopt v0.6.5\u001b[39m\n",
      "  \u001b[90m[429524aa] \u001b[39m\u001b[92m+ Optim v1.7.8\u001b[39m\n",
      "  \u001b[90m[bac558e1] \u001b[39m\u001b[93m↑ OrderedCollections v1.6.2 ⇒ v1.6.3\u001b[39m\n",
      "\u001b[33m⌅\u001b[39m \u001b[90m[90014a1f] \u001b[39m\u001b[95m↓ PDMats v0.11.29 ⇒ v0.10.1\u001b[39m\n",
      "  \u001b[90m[d96e819e] \u001b[39m\u001b[92m+ Parameters v0.12.3\u001b[39m\n",
      "  \u001b[90m[69de0a69] \u001b[39m\u001b[93m↑ Parsers v2.8.0 ⇒ v2.8.1\u001b[39m\n",
      "  \u001b[90m[995b91a9] \u001b[39m\u001b[93m↑ PlotUtils v1.3.5 ⇒ v1.4.0\u001b[39m\n",
      "  \u001b[90m[91a5bcdd] \u001b[39m\u001b[93m↑ Plots v1.38.16 ⇒ v1.39.0\u001b[39m\n",
      "  \u001b[90m[85a6dd25] \u001b[39m\u001b[92m+ PositiveFactorizations v0.2.4\u001b[39m\n",
      "  \u001b[90m[08abe8d2] \u001b[39m\u001b[93m↑ PrettyTables v2.3.0 ⇒ v2.3.1\u001b[39m\n",
      "  \u001b[90m[92933f4c] \u001b[39m\u001b[92m+ ProgressMeter v1.9.0\u001b[39m\n",
      "  \u001b[90m[274fc56d] \u001b[39m\u001b[93m↑ PythonPlot v1.0.2 ⇒ v1.0.3\u001b[39m\n",
      "  \u001b[90m[1fd47b50] \u001b[39m\u001b[93m↑ QuadGK v2.9.1 ⇒ v2.9.4\u001b[39m\n",
      "  \u001b[90m[74087812] \u001b[39m\u001b[91m- Random123 v1.6.1\u001b[39m\n",
      "  \u001b[90m[e6cf234a] \u001b[39m\u001b[91m- RandomNumbers v1.5.3\u001b[39m\n",
      "  \u001b[90m[6e75b9c4] \u001b[39m\u001b[92m+ ScikitLearnBase v0.5.0\u001b[39m\n",
      "  \u001b[90m[efcf1570] \u001b[39m\u001b[92m+ Setfield v1.1.1\u001b[39m\n",
      "  \u001b[90m[66db9d55] \u001b[39m\u001b[91m- SnoopPrecompile v1.0.3\u001b[39m\n",
      "  \u001b[90m[ed01d8cd] \u001b[39m\u001b[92m+ Sobol v1.5.0\u001b[39m\n",
      "  \u001b[90m[a2af1166] \u001b[39m\u001b[93m↑ SortingAlgorithms v1.2.0 ⇒ v1.2.1\u001b[39m\n",
      "\u001b[33m⌅\u001b[39m \u001b[90m[276daf66] \u001b[39m\u001b[95m↓ SpecialFunctions v1.8.8 ⇒ v0.10.3\u001b[39m\n",
      "  \u001b[90m[90137ffa] \u001b[39m\u001b[92m+ StaticArrays v1.9.1\u001b[39m\n",
      "  \u001b[90m[1e83bf80] \u001b[39m\u001b[92m+ StaticArraysCore v1.4.2\u001b[39m\n",
      "\u001b[33m⌅\u001b[39m \u001b[90m[2913bbd2] \u001b[39m\u001b[95m↓ StatsBase v0.34.0 ⇒ v0.33.21\u001b[39m\n",
      "\u001b[33m⌅\u001b[39m \u001b[90m[4c63d2b9] \u001b[39m\u001b[95m↓ StatsFuns v1.3.0 ⇒ v0.9.18\u001b[39m\n",
      "\u001b[33m⌅\u001b[39m \u001b[90m[3bb67fe8] \u001b[39m\u001b[95m↓ TranscodingStreams v0.10.2 ⇒ v0.9.13\u001b[39m\n",
      "  \u001b[90m[3a884ed6] \u001b[39m\u001b[92m+ UnPack v1.0.2\u001b[39m\n",
      "  \u001b[90m[1986cc42] \u001b[39m\u001b[93m↑ Unitful v1.18.0 ⇒ v1.19.0\u001b[39m\n",
      "  \u001b[90m[6e34b625] \u001b[39m\u001b[93m↑ Bzip2_jll v1.0.8+0 ⇒ v1.0.8+1\u001b[39m\n",
      "  \u001b[90m[0656b61e] \u001b[39m\u001b[93m↑ GLFW_jll v3.3.8+0 ⇒ v3.3.9+0\u001b[39m\n",
      "  \u001b[90m[aacddb02] \u001b[39m\u001b[93m↑ JpegTurbo_jll v2.1.91+0 ⇒ v3.0.1+0\u001b[39m\n",
      "  \u001b[90m[dad2f222] \u001b[39m\u001b[91m- LLVMExtra_jll v0.0.18+0\u001b[39m\n",
      "  \u001b[90m[1d63c593] \u001b[39m\u001b[93m↑ LLVMOpenMP_jll v15.0.4+0 ⇒ v15.0.7+0\u001b[39m\n",
      "  \u001b[90m[079eb43e] \u001b[39m\u001b[92m+ NLopt_jll v2.7.1+0\u001b[39m\n",
      "  \u001b[90m[2381bf8a] \u001b[39m\u001b[93m↑ Wayland_protocols_jll v1.25.0+0 ⇒ v1.31.0+0\u001b[39m\n",
      "  \u001b[90m[02c8fc9c] \u001b[39m\u001b[93m↑ XML2_jll v2.12.0+0 ⇒ v2.12.2+0\u001b[39m\n",
      "  \u001b[90m[214eeab7] \u001b[39m\u001b[93m↑ fzf_jll v0.35.1+0 ⇒ v0.43.0+0\u001b[39m\n",
      "  \u001b[90m[b53b4c65] \u001b[39m\u001b[93m↑ libpng_jll v1.6.38+0 ⇒ v1.6.40+0\u001b[39m\n",
      "\u001b[36m\u001b[1m        Info\u001b[22m\u001b[39m Packages marked with \u001b[32m⌃\u001b[39m and \u001b[33m⌅\u001b[39m have new versions available, but those with \u001b[33m⌅\u001b[39m are restricted by compatibility constraints from upgrading. To see why use `status --outdated -m`\n",
      "\u001b[32m\u001b[1mPrecompiling\u001b[22m\u001b[39m project...\n",
      "\u001b[32m  ✓ \u001b[39m\u001b[90mInverseFunctions\u001b[39m\n",
      "\u001b[32m  ✓ \u001b[39m\u001b[90mOrderedCollections\u001b[39m\n",
      "\u001b[32m  ✓ \u001b[39m\u001b[90mCompat\u001b[39m\n",
      "\u001b[32m  ✓ \u001b[39m\u001b[90mDistances\u001b[39m\n",
      "\u001b[32m  ✓ \u001b[39m\u001b[90mFillArrays\u001b[39m\n",
      "\u001b[32m  ✓ \u001b[39m\u001b[90mExceptionUnwrapping\u001b[39m\n",
      "\u001b[32m  ✓ \u001b[39m\u001b[90mProgressMeter\u001b[39m\n",
      "\u001b[32m  ✓ \u001b[39m\u001b[90mScikitLearnBase\u001b[39m\n",
      "\u001b[32m  ✓ \u001b[39m\u001b[90mTranscodingStreams\u001b[39m\n",
      "\u001b[32m  ✓ \u001b[39m\u001b[90mMathProgBase\u001b[39m\n",
      "\u001b[32m  ✓ \u001b[39m\u001b[90mAdapt\u001b[39m\n",
      "\u001b[32m  ✓ \u001b[39m\u001b[90mPDMats\u001b[39m\n",
      "\u001b[32m  ✓ \u001b[39m\u001b[90mMacroTools\u001b[39m\n",
      "\u001b[33m  ✓ \u001b[39m\u001b[90mMbedTLS\u001b[39m\n",
      "\u001b[32m  ✓ \u001b[39m\u001b[90mSobol\u001b[39m\n",
      "\u001b[32m  ✓ \u001b[39m\u001b[90mLLVMOpenMP_jll\u001b[39m\n",
      "\u001b[32m  ✓ \u001b[39m\u001b[90mBzip2_jll\u001b[39m\n",
      "\u001b[32m  ✓ \u001b[39m\u001b[90mlibpng_jll\u001b[39m\n",
      "\u001b[32m  ✓ \u001b[39m\u001b[90mfzf_jll\u001b[39m\n",
      "\u001b[32m  ✓ \u001b[39m\u001b[90mJpegTurbo_jll\u001b[39m\n",
      "\u001b[32m  ✓ \u001b[39m\u001b[90mNLopt_jll\u001b[39m\n",
      "\u001b[32m  ✓ \u001b[39m\u001b[90mMutableArithmetics\u001b[39m\n",
      "\u001b[32m  ✓ \u001b[39m\u001b[90mFileIO\u001b[39m\n",
      "\u001b[32m  ✓ \u001b[39m\u001b[90mWayland_protocols_jll\u001b[39m\n",
      "\u001b[32m  ✓ \u001b[39m\u001b[90mXML2_jll\u001b[39m\n",
      "\u001b[32m  ✓ \u001b[39m\u001b[90mLogExpFunctions → LogExpFunctionsInverseFunctionsExt\u001b[39m\n",
      "\u001b[32m  ✓ \u001b[39m\u001b[90mParameters\u001b[39m\n",
      "\u001b[32m  ✓ \u001b[39m\u001b[90mSpecialFunctions\u001b[39m\n",
      "\u001b[32m  ✓ \u001b[39m\u001b[90mCompat → CompatLinearAlgebraExt\u001b[39m\n",
      "\u001b[32m  ✓ \u001b[39m\u001b[90mTables\u001b[39m\n",
      "\u001b[32m  ✓ \u001b[39m\u001b[90mCodecZlib\u001b[39m\n",
      "\u001b[32m  ✓ \u001b[39m\u001b[90mDistances → DistancesSparseArraysExt\u001b[39m\n",
      "\u001b[32m  ✓ \u001b[39m\u001b[90mElasticArrays\u001b[39m\n",
      "\u001b[32m  ✓ \u001b[39m\u001b[90mCommonSubexpressions\u001b[39m\n",
      "\u001b[32m  ✓ \u001b[39m\u001b[90mElasticPDMats\u001b[39m\n",
      "\u001b[32m  ✓ \u001b[39m\u001b[90mChainRulesCore\u001b[39m\n",
      "\u001b[32m  ✓ \u001b[39m\u001b[90mPixman_jll\u001b[39m\n",
      "\u001b[32m  ✓ \u001b[39m\u001b[90mFreeType2_jll\u001b[39m\n",
      "\u001b[32m  ✓ \u001b[39m\u001b[90mCodecBzip2\u001b[39m\n",
      "\u001b[32m  ✓ \u001b[39m\u001b[90mJLFzf\u001b[39m\n",
      "\u001b[32m  ✓ \u001b[39m\u001b[90mStaticArrays\u001b[39m\n",
      "\u001b[32m  ✓ \u001b[39m\u001b[90mLatexify\u001b[39m\n",
      "\u001b[32m  ✓ \u001b[39m\u001b[90mLibtiff_jll\u001b[39m\n",
      "\u001b[32m  ✓ \u001b[39m\u001b[90mGettext_jll\u001b[39m\n",
      "\u001b[32m  ✓ \u001b[39m\u001b[90mWayland_jll\u001b[39m\n",
      "\u001b[32m  ✓ \u001b[39m\u001b[90mXSLT_jll\u001b[39m\n",
      "\u001b[32m  ✓ \u001b[39m\u001b[90mColorVectorSpace → SpecialFunctionsExt\u001b[39m\n",
      "\u001b[32m  ✓ \u001b[39m\u001b[90mChainRulesCore → ChainRulesCoreSparseArraysExt\u001b[39m\n",
      "\u001b[32m  ✓ \u001b[39m\u001b[90mDataStructures\u001b[39m\n",
      "\u001b[32m  ✓ \u001b[39m\u001b[90mDistances → DistancesChainRulesCoreExt\u001b[39m\n",
      "\u001b[32m  ✓ \u001b[39m\u001b[90mLogExpFunctions → LogExpFunctionsChainRulesCoreExt\u001b[39m\n",
      "\u001b[32m  ✓ \u001b[39m\u001b[90mFontconfig_jll\u001b[39m\n",
      "\u001b[32m  ✓ \u001b[39m\u001b[90mHTTP\u001b[39m\n",
      "\u001b[32m  ✓ \u001b[39m\u001b[90mStaticArrays → StaticArraysChainRulesCoreExt\u001b[39m\n",
      "\u001b[32m  ✓ \u001b[39m\u001b[90mStaticArrays → StaticArraysStatisticsExt\u001b[39m\n",
      "\u001b[32m  ✓ \u001b[39m\u001b[90mConstructionBase → ConstructionBaseStaticArraysExt\u001b[39m\n",
      "\u001b[32m  ✓ \u001b[39m\u001b[90mXorg_libxcb_jll\u001b[39m\n",
      "\u001b[32m  ✓ \u001b[39m\u001b[90mAdapt → AdaptStaticArraysExt\u001b[39m\n",
      "\u001b[32m  ✓ \u001b[39m\u001b[90mGlib_jll\u001b[39m\n",
      "\u001b[32m  ✓ \u001b[39m\u001b[90mSortingAlgorithms\u001b[39m\n",
      "\u001b[32m  ✓ \u001b[39m\u001b[90mQuadGK\u001b[39m\n",
      "\u001b[32m  ✓ \u001b[39m\u001b[90mDiffRules\u001b[39m\n",
      "\u001b[32m  ✓ \u001b[39m\u001b[90mFastGaussQuadrature\u001b[39m\n",
      "\u001b[32m  ✓ \u001b[39m\u001b[90mStatsFuns\u001b[39m\n",
      "\u001b[32m  ✓ \u001b[39m\u001b[90mXorg_xcb_util_jll\u001b[39m\n",
      "\u001b[32m  ✓ \u001b[39m\u001b[90mSetfield\u001b[39m\n",
      "\u001b[32m  ✓ \u001b[39m\u001b[90mXorg_libX11_jll\u001b[39m\n",
      "\u001b[32m  ✓ \u001b[39m\u001b[90mArrayInterface\u001b[39m\n",
      "\u001b[32m  ✓ \u001b[39m\u001b[90mColorSchemes\u001b[39m\n",
      "\u001b[32m  ✓ \u001b[39m\u001b[90mXorg_xcb_util_image_jll\u001b[39m\n",
      "\u001b[32m  ✓ \u001b[39m\u001b[90mXorg_xcb_util_keysyms_jll\u001b[39m\n",
      "\u001b[32m  ✓ \u001b[39mStatsBase\n",
      "\u001b[32m  ✓ \u001b[39m\u001b[90mXorg_xcb_util_renderutil_jll\u001b[39m\n",
      "\u001b[33m  ✓ \u001b[39m\u001b[90mParsers\u001b[39m\n",
      "\u001b[32m  ✓ \u001b[39m\u001b[90mXorg_xcb_util_wm_jll\u001b[39m\n",
      "\u001b[32m  ✓ \u001b[39m\u001b[90mXorg_libXrender_jll\u001b[39m\n",
      "\u001b[32m  ✓ \u001b[39m\u001b[90mXorg_libXext_jll\u001b[39m\n",
      "\u001b[32m  ✓ \u001b[39m\u001b[90mXorg_libXfixes_jll\u001b[39m\n",
      "\u001b[32m  ✓ \u001b[39m\u001b[90mXorg_libxkbfile_jll\u001b[39m\n",
      "\u001b[32m  ✓ \u001b[39m\u001b[90mArrayInterface → ArrayInterfaceStaticArraysCoreExt\u001b[39m\n",
      "\u001b[32m  ✓ \u001b[39m\u001b[90mForwardDiff\u001b[39m\n",
      "\u001b[32m  ✓ \u001b[39m\u001b[90mXorg_xcb_util_cursor_jll\u001b[39m\n",
      "\u001b[32m  ✓ \u001b[39m\u001b[90mInlineStrings\u001b[39m\n",
      "\u001b[33m  ✓ \u001b[39m\u001b[90mJSON\u001b[39m\n",
      "\u001b[32m  ✓ \u001b[39m\u001b[90mLibglvnd_jll\u001b[39m\n",
      "\u001b[32m  ✓ \u001b[39m\u001b[90mUnitful\u001b[39m\n",
      "\u001b[32m  ✓ \u001b[39m\u001b[90mXorg_libXinerama_jll\u001b[39m\n",
      "\u001b[32m  ✓ \u001b[39m\u001b[90mXorg_libXrandr_jll\u001b[39m\n",
      "\u001b[32m  ✓ \u001b[39mJLD2\n",
      "\u001b[32m  ✓ \u001b[39m\u001b[90mXorg_libXcursor_jll\u001b[39m\n",
      "\u001b[32m  ✓ \u001b[39m\u001b[90mXorg_libXi_jll\u001b[39m\n",
      "\u001b[32m  ✓ \u001b[39m\u001b[90mXorg_xkbcomp_jll\u001b[39m\n",
      "\u001b[32m  ✓ \u001b[39m\u001b[90mCairo_jll\u001b[39m\n",
      "\u001b[32m  ✓ \u001b[39mDistributions\n",
      "\u001b[32m  ✓ \u001b[39m\u001b[90mFiniteDiff\u001b[39m\n",
      "\u001b[33m  ✓ \u001b[39mConda\n",
      "\u001b[32m  ✓ \u001b[39m\u001b[90mForwardDiff → ForwardDiffStaticArraysExt\u001b[39m\n",
      "\u001b[32m  ✓ \u001b[39mBenchmarkTools\n",
      "\u001b[32m  ✓ \u001b[39m\u001b[90mPrettyTables\u001b[39m\n",
      "\u001b[32m  ✓ \u001b[39m\u001b[90mGLFW_jll\u001b[39m\n",
      "\u001b[32m  ✓ \u001b[39m\u001b[90mUnitful → InverseFunctionsUnitfulExt\u001b[39m\n",
      "\u001b[32m  ✓ \u001b[39m\u001b[90mUnitful → ConstructionBaseUnitfulExt\u001b[39m\n",
      "\u001b[32m  ✓ \u001b[39m\u001b[90mXorg_xkeyboard_config_jll\u001b[39m\n",
      "\u001b[32m  ✓ \u001b[39m\u001b[90mHarfBuzz_jll\u001b[39m\n",
      "\u001b[32m  ✓ \u001b[39m\u001b[90mUnitfulLatexify\u001b[39m\n",
      "\u001b[32m  ✓ \u001b[39m\u001b[90mFiniteDiff → FiniteDiffStaticArraysExt\u001b[39m\n",
      "\u001b[32m  ✓ \u001b[39m\u001b[90mNLSolversBase\u001b[39m\n",
      "\u001b[32m  ✓ \u001b[39mExpFamilyDistributions\n",
      "\u001b[32m  ✓ \u001b[39m\u001b[90mPlotUtils\u001b[39m\n",
      "\u001b[33m  ✓ \u001b[39mIJulia\n",
      "\u001b[32m  ✓ \u001b[39m\u001b[90mxkbcommon_jll\u001b[39m\n",
      "\u001b[32m  ✓ \u001b[39m\u001b[90mlibass_jll\u001b[39m\n",
      "\u001b[32m  ✓ \u001b[39m\u001b[90mJSON3\u001b[39m\n",
      "\u001b[32m  ✓ \u001b[39mBlackBoxOptim\n",
      "\u001b[32m  ✓ \u001b[39m\u001b[90mVulkan_Loader_jll\u001b[39m\n",
      "\u001b[32m  ✓ \u001b[39m\u001b[90mLineSearches\u001b[39m\n",
      "\u001b[32m  ✓ \u001b[39m\u001b[90mCondaPkg\u001b[39m\n",
      "\u001b[32m  ✓ \u001b[39m\u001b[90mFFMPEG_jll\u001b[39m\n",
      "\u001b[32m  ✓ \u001b[39m\u001b[90mPlotThemes\u001b[39m\n",
      "\u001b[32m  ✓ \u001b[39m\u001b[90mRecipesPipeline\u001b[39m\n",
      "\u001b[32m  ✓ \u001b[39m\u001b[90mBlackBoxOptim → BlackBoxOptimRealtimePlotServerExt\u001b[39m\n",
      "\u001b[32m  ✓ \u001b[39m\u001b[90mQt6Base_jll\u001b[39m\n",
      "\u001b[32m  ✓ \u001b[39m\u001b[90mFFMPEG\u001b[39m\n",
      "\u001b[32m  ✓ \u001b[39m\u001b[90mOptim\u001b[39m\n",
      "\u001b[32m  ✓ \u001b[39m\u001b[90mGR_jll\u001b[39m\n",
      "\u001b[32m  ✓ \u001b[39mPyCall\n",
      "\u001b[32m  ✓ \u001b[39m\u001b[90mGaussianProcesses\u001b[39m\n",
      "\u001b[32m  ✓ \u001b[39m\u001b[90mGR\u001b[39m\n",
      "\u001b[32m  ✓ \u001b[39m\u001b[90mPythonCall\u001b[39m\n",
      "\u001b[32m  ✓ \u001b[39mPythonPlot\n",
      "\u001b[32m  ✓ \u001b[39mDataFrames\n",
      "\u001b[32m  ✓ \u001b[39m\u001b[90mLatexify → DataFramesExt\u001b[39m\n",
      "\u001b[32m  ✓ \u001b[39m\u001b[90mMathOptInterface\u001b[39m\n",
      "\u001b[32m  ✓ \u001b[39m\u001b[90mNLopt\u001b[39m\n",
      "\u001b[32m  ✓ \u001b[39mBayesianOptimization\n",
      "\u001b[32m  ✓ \u001b[39mPlots\n",
      "\u001b[32m  ✓ \u001b[39m\u001b[90mPlots → FileIOExt\u001b[39m\n",
      "\u001b[32m  ✓ \u001b[39m\u001b[90mPlots → IJuliaExt\u001b[39m\n",
      "\u001b[32m  ✓ \u001b[39m\u001b[90mPlots → UnitfulExt\u001b[39m\n",
      "  139 dependencies successfully precompiled in 96 seconds. 110 already precompiled.\n",
      "  \u001b[33m5\u001b[39m dependencies precompiled but different versions are currently loaded. Restart julia to access the new versions\n",
      "  \u001b[33m1\u001b[39m dependency had warnings during precompilation:\u001b[33m\n",
      "┌ \u001b[39mPythonPlot [274fc56d-3b97-40fa-a1cd-1b4a50311bf9]\u001b[33m\n",
      "│  \u001b[39m\u001b[32m\u001b[1m    CondaPkg \u001b[22m\u001b[39m\u001b[0mFound dependencies: /Users/erussek/.julia/packages/PythonCall/wXfah/CondaPkg.toml\u001b[33m\n",
      "│  \u001b[39m\u001b[32m\u001b[1m    CondaPkg \u001b[22m\u001b[39m\u001b[0mFound dependencies: /Users/erussek/.julia/packages/PythonPlot/KcWMF/CondaPkg.toml\u001b[33m\n",
      "│  \u001b[39m\u001b[32m\u001b[1m    CondaPkg \u001b[22m\u001b[39m\u001b[0mDependencies already up to date\u001b[33m\n",
      "└  \u001b[39m\n"
     ]
    }
   ],
   "source": [
    "using Pkg\n",
    "Pkg.add(\"BayesianOptimization\")"
   ]
  },
  {
   "cell_type": "code",
   "execution_count": 4,
   "id": "dedea5a9-d818-4759-bf13-5a593d0841b4",
   "metadata": {},
   "outputs": [
    {
     "name": "stderr",
     "output_type": "stream",
     "text": [
      "\u001b[32m\u001b[1m   Resolving\u001b[22m\u001b[39m package versions...\n",
      "\u001b[32m\u001b[1m    Updating\u001b[22m\u001b[39m `~/Dropbox/Griffiths_Lab_Stuff/Code/Memory_Models/Project.toml`\n",
      "  \u001b[90m[891a1506] \u001b[39m\u001b[92m+ GaussianProcesses v0.12.5\u001b[39m\n",
      "\u001b[32m\u001b[1m  No Changes\u001b[22m\u001b[39m to `~/Dropbox/Griffiths_Lab_Stuff/Code/Memory_Models/Manifest.toml`\n"
     ]
    }
   ],
   "source": [
    "Pkg.add(\"GaussianProcesses\")"
   ]
  },
  {
   "cell_type": "code",
   "execution_count": 2,
   "id": "0df90ab0-d3f8-4be1-a7c5-89dbfb8a14a8",
   "metadata": {},
   "outputs": [],
   "source": [
    "#using Pkg\n",
    "#Pkg.add(\"BlackBoxOptim\")"
   ]
  },
  {
   "cell_type": "code",
   "execution_count": 3,
   "id": "57c37064-cb0e-4d6e-9935-8894b937b290",
   "metadata": {},
   "outputs": [
    {
     "data": {
      "text/plain": [
       "1"
      ]
     },
     "execution_count": 3,
     "metadata": {},
     "output_type": "execute_result"
    }
   ],
   "source": [
    "Threads.nthreads()"
   ]
  },
  {
   "cell_type": "code",
   "execution_count": 11,
   "id": "fff61f9b-5b83-4626-836b-be574541d68e",
   "metadata": {},
   "outputs": [
    {
     "data": {
      "text/plain": [
       "3×4 Matrix{Float64}:\n",
       " 2.63  2.41  4.8   2.46\n",
       " 2.75  2.38  3.97  2.15\n",
       " 2.75  2.38  3.97  2.15"
      ]
     },
     "execution_count": 11,
     "metadata": {},
     "output_type": "execute_result"
    }
   ],
   "source": [
    "\n",
    "function format_res_cowan_k(res; exp_num = 1)\n",
    "    \n",
    "    if exp_num == 1\n",
    "    \n",
    "        # row is 2 obj vs 4 obj\n",
    "        # col is pre-cue, neutral, retro-cue, neutral\n",
    "        \n",
    "        part_pcorr = res;\n",
    "        model_cowan_p_corr = [part_pcorr; part_pcorr[2,:]']'\n",
    "        model_cowan_k_mtx = cowan_k(model_cowan_p_corr, 2)\n",
    "        model_cowan_k_mtx[2,:] = cowan_k(model_cowan_p_corr[2,:], 4)\n",
    "        \n",
    "        model_cowan_k = [model_cowan_k_mtx[1,:]' model_cowan_k_mtx[2,:]']';#[model_cowan_k_mtx[1,:] model_cowan_k_mtx[2,:]]\n",
    "    elseif exp_num == 2\n",
    "        \n",
    "        # IM cued, IM neutral, VSTM cued, VSTM neutral - need to adjust from what it was saved as\n",
    "        \n",
    "        (p_short_neutral, p_short_retro, p_long_neutral, p_long_retro) = res\n",
    "        model_cowan_k = cowan_k([p_short_retro p_short_neutral p_long_retro p_long_neutral],4)'\n",
    "        \n",
    "    else\n",
    "        \n",
    "        (p_IM_neutral, p_IM_retro, p_VSTM_neutral, p_VSTM_retro, p_Long_VSTM_neutral, p_Long_VSTM_retro) = res\n",
    "\n",
    "        # Load 3 cued, Load 3 Neutral, Load 6 cued, Load 6 neutral\n",
    "        IM_model = [cowan_k(p_IM_retro[1],3) cowan_k(p_IM_neutral[1],3) cowan_k(p_IM_retro[2],6) cowan_k(p_IM_neutral[2], 6)]\n",
    "        Short_VSTM_model = [cowan_k(p_VSTM_retro[1],3) cowan_k(p_VSTM_neutral[1],3) cowan_k(p_VSTM_retro[2],6) cowan_k(p_VSTM_neutral[2], 6)]\n",
    "        Long_VSTM_model = [cowan_k(p_Long_VSTM_retro[1],3) cowan_k(p_Long_VSTM_neutral[1],3) cowan_k(p_Long_VSTM_retro[2],6) cowan_k(p_Long_VSTM_neutral[2], 6)]\n",
    "\n",
    "        # 3 x 4\n",
    "        model_cowan_k = [IM_model; Short_VSTM_model; Long_VSTM_model]  \n",
    "        \n",
    "    end\n",
    "        \n",
    "    return model_cowan_k\n",
    "    \n",
    "end    \n",
    "\n",
    "\n",
    "# 6 parameteres for 44 datapoints \n",
    "\n",
    "exp1_cowan_k_true_7_yr = [1.16 1.14 1.13 1.02 2.80 .91 1.30 .96]' # 8\n",
    "exp1_cowan_k_true_adult = [1.98 1.94 1.97 1.95 3.87 2.66 3.64 2.87]'\n",
    "\n",
    "# experiment 2 - 4 objects\n",
    "# col is IM cued, IM neutral, VSTM cued, VSTM neutral\n",
    "\n",
    "exp2_cowan_k_true_7_yr = [1.55 1.16 1.00 0.69]' # 4\n",
    "exp2_cowan_k_true_adult = [3.54 2.58 3.58 2.65]'\n",
    "\n",
    "# experiment 3\n",
    "\n",
    "# Load 3 cued, Load 3 Neutral, Load 6 cued, Load 6 neutral\n",
    "IM_true_7_yr = [1.44 1.27 1.82 0.88]\n",
    "Short_VSTM_true_7_yr = [1.14 0.77 NaN NaN]\n",
    "Long_VSTM_true_7_yr = [1.19 0.90 NaN NaN]\n",
    "\n",
    "# 8\n",
    "\n",
    "exp3_cowan_k_true_7_yr = [IM_true_7_yr; Short_VSTM_true_7_yr; Short_VSTM_true_7_yr]\n",
    "\n",
    "\n",
    "IM_true_adult = [2.63 2.41 4.80 2.46]\n",
    "Short_VSTM_true_adult = [2.75 2.38 3.97 2.15]\n",
    "Long_VSTM_true_adult = [2.76 2.30 3.65 1.75]\n",
    "# 12\n",
    "\n",
    "exp3_cowan_k_true_adult = [IM_true_adult; Short_VSTM_true_adult; Short_VSTM_true_adult]"
   ]
  },
  {
   "cell_type": "code",
   "execution_count": 5,
   "id": "79908083-2444-4bf8-baf0-f6dc5fbe4bc9",
   "metadata": {},
   "outputs": [
    {
     "data": {
      "text/plain": [
       "compute_mse (generic function with 1 method)"
      ]
     },
     "execution_count": 5,
     "metadata": {},
     "output_type": "execute_result"
    }
   ],
   "source": [
    "# function to compute mean squared error...\n",
    "\n",
    "# takes in Adult_Quanta (int), Adult_Epsilon (0-1 bounded), Child_Quanta (int), Child_Epsilon (0-1 bounded), Mem_slope (less than 1), NT_val # 6 params...\n",
    "\n",
    "# params = [20, .8, 5, .4, .1, 100]\n",
    "\n",
    "function compute_mse(params, exp1_cowan_k_true_7_yr, exp1_cowan_k_true_adult, exp2_cowan_k_true_7_yr, exp2_cowan_k_true_adult, exp3_cowan_k_true_7_yr, exp3_cowan_k_true_adult)\n",
    "\n",
    "    adult_quanta = round(100*params[1])\n",
    "    adult_epsilon = params[2]\n",
    "    child_quanta = round(100*params[3])\n",
    "    child_epsilon = params[4]\n",
    "    mem_slope = params[5]\n",
    "    nt_val = Int(round(1000*params[6]))\n",
    "\n",
    "    N_Trials = 200\n",
    "\n",
    "    # simulate for children...\n",
    "    children_res_1 = sim_exp1(child_epsilon, child_quanta, nt_val; mem_slope = mem_slope, N_Trials = N_Trials);\n",
    "    children_cowan_k1 = format_res_cowan_k(children_res_1; exp_num = 1)\n",
    "    children_res_2 = sim_exp2(child_epsilon, child_quanta, nt_val; mem_slope = mem_slope, N_Trials = N_Trials);\n",
    "    children_cowan_k2 = format_res_cowan_k(children_res_2; exp_num = 2)\n",
    "    children_res_3 = sim_exp3(child_epsilon, child_quanta, nt_val; mem_slope = mem_slope, N_Trials = N_Trials);\n",
    "    children_cowan_k3 = format_res_cowan_k(children_res_3; exp_num = 3)\n",
    "\n",
    "\n",
    "    adult_res_1 = sim_exp1(adult_epsilon, adult_quanta, nt_val; mem_slope = mem_slope, N_Trials = N_Trials);\n",
    "    adult_cowan_k1 = format_res_cowan_k(adult_res_1; exp_num = 1)\n",
    "    adult_res_2 = sim_exp2(adult_epsilon, adult_quanta, nt_val; mem_slope = mem_slope, N_Trials = N_Trials);\n",
    "    adult_cowan_k2 = format_res_cowan_k(adult_res_2; exp_num = 2)\n",
    "    adult_res_3 = sim_exp3(adult_epsilon, adult_quanta, nt_val; mem_slope = mem_slope, N_Trials = N_Trials);\n",
    "    adult_cowan_k3 = format_res_cowan_k(adult_res_3; exp_num = 3)\n",
    "\n",
    "    child_mse1 = sum((children_cowan_k1 .- exp1_cowan_k_true_7_yr).^2)\n",
    "    adult_mse1 = sum((adult_cowan_k1 .- exp1_cowan_k_true_adult).^2)\n",
    "\n",
    "    child_mse2 = sum((children_cowan_k2 .- exp2_cowan_k_true_7_yr).^2)\n",
    "    adult_mse2 = sum((adult_cowan_k2 .- exp2_cowan_k_true_adult).^2)\n",
    "\n",
    "    child_sq_err = (children_cowan_k3[:] .- exp3_cowan_k_true_7_yr[:]).^2\n",
    "    child_mse3 = sum(child_sq_err[.!isnan.(child_sq_err)])\n",
    "    adult_mse3 = sum((adult_cowan_k3 .- exp3_cowan_k_true_adult).^2)\n",
    "\n",
    "    child_mse = child_mse1 + child_mse2 + child_mse3\n",
    "    adult_mse = adult_mse1 + adult_mse2 + adult_mse3\n",
    "\n",
    "    both_mse = child_mse + adult_mse\n",
    "    \n",
    "    return both_mse\n",
    "    \n",
    "end"
   ]
  },
  {
   "cell_type": "code",
   "execution_count": 6,
   "id": "9b5fbac8-032f-4e71-95c7-df5b4762768e",
   "metadata": {},
   "outputs": [
    {
     "data": {
      "text/plain": [
       "96.44160509069798"
      ]
     },
     "execution_count": 6,
     "metadata": {},
     "output_type": "execute_result"
    }
   ],
   "source": [
    "params = [.2, .8, .5, .4, .1, .1]\n",
    "compute_mse(params, exp1_cowan_k_true_7_yr, exp1_cowan_k_true_adult, exp2_cowan_k_true_7_yr, exp2_cowan_k_true_adult, exp3_cowan_k_true_7_yr, exp3_cowan_k_true_adult)"
   ]
  },
  {
   "cell_type": "code",
   "execution_count": null,
   "id": "f37dba5a-d795-41ab-997d-e6ccf50b64cb",
   "metadata": {},
   "outputs": [
    {
     "name": "stdout",
     "output_type": "stream",
     "text": [
      "Starting optimization with optimizer DiffEvoOpt{FitPopulation{Float64}, RadiusLimitedSelector, BlackBoxOptim.AdaptiveDiffEvoRandBin{3}, RandomBound{ContinuousRectSearchSpace}}\n",
      "0.00 secs, 0 evals, 0 steps\n",
      "71.00 secs, 2 evals, 1 steps, improv/step: 1.000 (last = 1.0000), fitness=15.427245176\n",
      "91.06 secs, 4 evals, 2 steps, improv/step: 0.500 (last = 0.0000), fitness=15.427245176\n",
      "138.01 secs, 6 evals, 3 steps, improv/step: 0.667 (last = 1.0000), fitness=15.427245176\n",
      "185.25 secs, 8 evals, 4 steps, improv/step: 0.500 (last = 0.0000), fitness=15.427245176\n",
      "187.58 secs, 10 evals, 5 steps, improv/step: 0.400 (last = 0.0000), fitness=15.427245176\n",
      "247.78 secs, 12 evals, 6 steps, improv/step: 0.333 (last = 0.0000), fitness=15.427245176\n"
     ]
    },
    {
     "name": "stderr",
     "output_type": "stream",
     "text": [
      "\u001b[33m\u001b[1m┌ \u001b[22m\u001b[39m\u001b[33m\u001b[1mWarning: \u001b[22m\u001b[39mOptimization interrupted, recovering intermediate results...\n",
      "\u001b[33m\u001b[1m└ \u001b[22m\u001b[39m\u001b[90m@ BlackBoxOptim ~/.julia/packages/BlackBoxOptim/lZtsr/src/opt_controller.jl:483\u001b[39m\n"
     ]
    }
   ],
   "source": [
    "target(params) = compute_mse(params, exp1_cowan_k_true_7_yr, exp1_cowan_k_true_adult, exp2_cowan_k_true_7_yr, exp2_cowan_k_true_adult, exp3_cowan_k_true_7_yr, exp3_cowan_k_true_adult)\n",
    "bboptimize(target; NumDimensions = 6, SearchRange = (0.0,1.0), MaxTime=300.0)"
   ]
  },
  {
   "cell_type": "code",
   "execution_count": null,
   "id": "05ebc09f-bb58-4582-848b-041a55166b98",
   "metadata": {},
   "outputs": [],
   "source": []
  },
  {
   "cell_type": "code",
   "execution_count": null,
   "id": "9bc85c1b-20ff-4825-9e9e-f4adc420c960",
   "metadata": {},
   "outputs": [],
   "source": []
  },
  {
   "cell_type": "code",
   "execution_count": null,
   "id": "6a5495cd-2fc8-4b81-be1d-f0d4fb540855",
   "metadata": {},
   "outputs": [],
   "source": []
  },
  {
   "cell_type": "code",
   "execution_count": null,
   "id": "640f2d71-4389-4374-969a-cff4631a2000",
   "metadata": {},
   "outputs": [],
   "source": []
  },
  {
   "cell_type": "code",
   "execution_count": null,
   "id": "4d13bf3b-a33b-436f-9d18-a01518fc949b",
   "metadata": {},
   "outputs": [],
   "source": []
  },
  {
   "cell_type": "code",
   "execution_count": 21,
   "id": "e5f69af0-4d7a-408a-9cd8-da896dc66e9d",
   "metadata": {},
   "outputs": [
    {
     "data": {
      "text/plain": [
       "Dict{String, Integer} with 3 entries:\n",
       "  \"noise_final_samples\"  => 2\n",
       "  \"uncertainty_handling\" => true\n",
       "  \"max_fun_evals\"        => 40"
      ]
     },
     "execution_count": 21,
     "metadata": {},
     "output_type": "execute_result"
    }
   ],
   "source": [
    "options = Dict(\"uncertainty_handling\" => true, \"max_fun_evals\" => 40,\"noise_final_samples\" => 2 )"
   ]
  },
  {
   "cell_type": "code",
   "execution_count": 22,
   "id": "cb974f1e-6abd-40a2-a472-f73bd1833ce6",
   "metadata": {},
   "outputs": [
    {
     "name": "stdout",
     "output_type": "stream",
     "text": [
      "bads:TooCloseBounds: For each variable, hard and plausible bounds should not be too close. Moving plausible bounds.\n",
      "Variables (index) internally transformed to log coordinates: [[0 2]\n",
      " [0 4]]\n"
     ]
    },
    {
     "data": {
      "text/plain": [
       "PyObject <pybads.bads.bads.BADS object at 0x293a56380>"
      ]
     },
     "execution_count": 22,
     "metadata": {},
     "output_type": "execute_result"
    }
   ],
   "source": [
    "# takes in Adult_Quanta (int), Adult_Epsilon (0-1 bounded), Child_Quanta (int), Child_Epsilon (0-1 bounded), Mem_slope (less than 1), NT_val # 6 params...\n",
    "lb = [2, 0, 2, 0, .001, 10]\n",
    "ub = [100, 1, 100, 1, 1, 1000]\n",
    "plausible_lower_bounds = [10, .8, 2, .8, .05, 500]\n",
    "plausible_upper_bounds = [100, 1, 100, 1, .6, 1000]\n",
    "\n",
    "target(params) = compute_mse(params, exp1_cowan_k_true_7_yr, exp1_cowan_k_true_adult, exp2_cowan_k_true_7_yr, exp2_cowan_k_true_adult, exp3_cowan_k_true_7_yr, exp3_cowan_k_true_adult)\n",
    "x0 = [20,.9, 20, .9, .1, 600]\n",
    "\n",
    "bads = pb.BADS(target, x0, lb, ub, plausible_lower_bounds, plausible_upper_bounds, options = options)"
   ]
  },
  {
   "cell_type": "code",
   "execution_count": 23,
   "id": "912b034d-e907-4103-8229-0ce890769ce5",
   "metadata": {},
   "outputs": [
    {
     "name": "stdout",
     "output_type": "stream",
     "text": [
      "Beginning optimization of a STOCHASTIC objective function\n",
      "\n",
      " Iteration    f-count      E[f(x)]        SD[f(x)]           MeshScale          Method              Actions\n",
      "     0           1         194.445             nan               1                                  \n",
      "     0          33         52.9346             nan               1          Initial mesh            Initial points\n",
      "     0          38         28.0739         1.01263               1        Successful poll           Train\n",
      "Optimization terminated: reached maximum number of function evaluations options['max_fun_evals'].\n",
      "Observed function value at minimum: 28.040573702451134 (1 sample). Estimated: 28.07390370170654 ± 1.0126302652810046 (GP mean ± SEM).\n"
     ]
    },
    {
     "ename": "LoadError",
     "evalue": "PyError ($(Expr(:escape, :(ccall(#= /Users/erussek/.julia/packages/PyCall/1gn3u/src/pyfncall.jl:43 =# @pysym(:PyObject_Call), PyPtr, (PyPtr, PyPtr, PyPtr), o, pyargsptr, kw))))) <class 'TypeError'>\nTypeError(\"cannot pickle 'PyCall.jlwrap' object\")\n  File \"/Users/erussek/.julia/conda/3/lib/python3.10/site-packages/pybads/bads/bads.py\", line 1518, in optimize\n    optimize_result = OptimizeResult(self)\n  File \"/Users/erussek/.julia/conda/3/lib/python3.10/site-packages/pybads/bads/optimize_result.py\", line 81, in __init__\n    self.set_attributes(bads)\n  File \"/Users/erussek/.julia/conda/3/lib/python3.10/site-packages/pybads/bads/optimize_result.py\", line 90, in set_attributes\n    self[\"fun\"] = bads.function_logger.fun\n  File \"/Users/erussek/.julia/conda/3/lib/python3.10/site-packages/pybads/bads/optimize_result.py\", line 177, in __setitem__\n    dict.__setitem__(self, key, copy.deepcopy(val))\n  File \"/Users/erussek/.julia/conda/3/lib/python3.10/copy.py\", line 161, in deepcopy\n    rv = reductor(4)\n",
     "output_type": "error",
     "traceback": [
      "PyError ($(Expr(:escape, :(ccall(#= /Users/erussek/.julia/packages/PyCall/1gn3u/src/pyfncall.jl:43 =# @pysym(:PyObject_Call), PyPtr, (PyPtr, PyPtr, PyPtr), o, pyargsptr, kw))))) <class 'TypeError'>\nTypeError(\"cannot pickle 'PyCall.jlwrap' object\")\n  File \"/Users/erussek/.julia/conda/3/lib/python3.10/site-packages/pybads/bads/bads.py\", line 1518, in optimize\n    optimize_result = OptimizeResult(self)\n  File \"/Users/erussek/.julia/conda/3/lib/python3.10/site-packages/pybads/bads/optimize_result.py\", line 81, in __init__\n    self.set_attributes(bads)\n  File \"/Users/erussek/.julia/conda/3/lib/python3.10/site-packages/pybads/bads/optimize_result.py\", line 90, in set_attributes\n    self[\"fun\"] = bads.function_logger.fun\n  File \"/Users/erussek/.julia/conda/3/lib/python3.10/site-packages/pybads/bads/optimize_result.py\", line 177, in __setitem__\n    dict.__setitem__(self, key, copy.deepcopy(val))\n  File \"/Users/erussek/.julia/conda/3/lib/python3.10/copy.py\", line 161, in deepcopy\n    rv = reductor(4)\n",
      "",
      "Stacktrace:",
      "  [1] pyerr_check",
      "    @ ~/.julia/packages/PyCall/1gn3u/src/exception.jl:75 [inlined]",
      "  [2] pyerr_check",
      "    @ ~/.julia/packages/PyCall/1gn3u/src/exception.jl:79 [inlined]",
      "  [3] _handle_error(msg::String)",
      "    @ PyCall ~/.julia/packages/PyCall/1gn3u/src/exception.jl:96",
      "  [4] macro expansion",
      "    @ ~/.julia/packages/PyCall/1gn3u/src/exception.jl:110 [inlined]",
      "  [5] #107",
      "    @ ~/.julia/packages/PyCall/1gn3u/src/pyfncall.jl:43 [inlined]",
      "  [6] disable_sigint",
      "    @ ./c.jl:473 [inlined]",
      "  [7] __pycall!",
      "    @ ~/.julia/packages/PyCall/1gn3u/src/pyfncall.jl:42 [inlined]",
      "  [8] _pycall!(ret::PyObject, o::PyObject, args::Tuple{}, nargs::Int64, kw::Ptr{Nothing})",
      "    @ PyCall ~/.julia/packages/PyCall/1gn3u/src/pyfncall.jl:29",
      "  [9] _pycall!",
      "    @ ~/.julia/packages/PyCall/1gn3u/src/pyfncall.jl:11 [inlined]",
      " [10] #_#114",
      "    @ ~/.julia/packages/PyCall/1gn3u/src/pyfncall.jl:86 [inlined]",
      " [11] (::PyObject)()",
      "    @ PyCall ~/.julia/packages/PyCall/1gn3u/src/pyfncall.jl:86",
      " [12] top-level scope",
      "    @ In[23]:1"
     ]
    }
   ],
   "source": [
    "bads.optimize()\n"
   ]
  },
  {
   "cell_type": "code",
   "execution_count": 15,
   "id": "75f0f67f-d644-4006-b9e7-be35b14ec537",
   "metadata": {},
   "outputs": [
    {
     "ename": "LoadError",
     "evalue": "UndefVarError: `optimize_result` not defined",
     "output_type": "error",
     "traceback": [
      "UndefVarError: `optimize_result` not defined",
      ""
     ]
    }
   ],
   "source": [
    "optimize_result"
   ]
  },
  {
   "cell_type": "code",
   "execution_count": 12,
   "id": "adcff883-b6c3-4510-bee8-8c0c7a7b0637",
   "metadata": {},
   "outputs": [
    {
     "data": {
      "text/plain": [
       "compute_mse (generic function with 1 method)"
      ]
     },
     "execution_count": 12,
     "metadata": {},
     "output_type": "execute_result"
    }
   ],
   "source": [
    "function compute_mse(params, exp1_cowan_k_true_7_yr, exp1_cowan_k_true_adult, exp2_cowan_k_true_7_yr, exp2_cowan_k_true_adult, exp3_cowan_k_true_7_yr, exp3_cowan_k_true_adult)\n",
    "\n",
    "    adult_quanta = round(100*params[1])\n",
    "    adult_epsilon = params[2]\n",
    "    mem_slope = .2\n",
    "    nt_val = 1600\n",
    "    \n",
    "    #child_quanta = round(100*params[3])\n",
    "    #child_epsilon = params[4]\n",
    "    #mem_slope = params[5]\n",
    "    #nt_val = Int(round(1000*params[6]))\n",
    "\n",
    "    N_Trials = 500\n",
    "    \n",
    "    \n",
    "\n",
    "    \"\"\"\n",
    "    \n",
    "    # simulate for children...\n",
    "    children_res_1 = sim_exp1(child_epsilon, child_quanta, nt_val; mem_slope = mem_slope, N_Trials = N_Trials);\n",
    "    children_cowan_k1 = format_res_cowan_k(children_res_1; exp_num = 1)\n",
    "    children_res_2 = sim_exp2(child_epsilon, child_quanta, nt_val; mem_slope = mem_slope, N_Trials = N_Trials);\n",
    "    children_cowan_k2 = format_res_cowan_k(children_res_2; exp_num = 2)\n",
    "    children_res_3 = sim_exp3(child_epsilon, child_quanta, nt_val; mem_slope = mem_slope, N_Trials = N_Trials);\n",
    "    children_cowan_k3 = format_res_cowan_k(children_res_3; exp_num = 3)\n",
    "    \n",
    "    \"\"\"\n",
    "\n",
    "\n",
    "    adult_res_1 = sim_exp1(adult_epsilon, adult_quanta, nt_val; mem_slope = mem_slope, N_Trials = N_Trials);\n",
    "    adult_cowan_k1 = format_res_cowan_k(adult_res_1; exp_num = 1)\n",
    "    adult_res_2 = sim_exp2(adult_epsilon, adult_quanta, nt_val; mem_slope = mem_slope, N_Trials = N_Trials);\n",
    "    adult_cowan_k2 = format_res_cowan_k(adult_res_2; exp_num = 2)\n",
    "    adult_res_3 = sim_exp3(adult_epsilon, adult_quanta, nt_val; mem_slope = mem_slope, N_Trials = N_Trials);\n",
    "    adult_cowan_k3 = format_res_cowan_k(adult_res_3; exp_num = 3)\n",
    "\n",
    "    #child_mse1 = sum((children_cowan_k1 .- exp1_cowan_k_true_7_yr).^2)\n",
    "    adult_mse1 = sum((adult_cowan_k1 .- exp1_cowan_k_true_adult).^2)\n",
    "\n",
    "    #child_mse2 = sum((children_cowan_k2 .- exp2_cowan_k_true_7_yr).^2)\n",
    "    adult_mse2 = sum((adult_cowan_k2 .- exp2_cowan_k_true_adult).^2)\n",
    "\n",
    "    #child_sq_err = (children_cowan_k3[:] .- exp3_cowan_k_true_7_yr[:]).^2\n",
    "    #child_mse3 = sum(child_sq_err[.!isnan.(child_sq_err)])\n",
    "    adult_mse3 = sum((adult_cowan_k3 .- exp3_cowan_k_true_adult).^2)\n",
    "\n",
    "    #child_mse = child_mse1 + child_mse2 + child_mse3\n",
    "    adult_mse = adult_mse1 + adult_mse2 + adult_mse3\n",
    "\n",
    "    #both_mse = child_mse + adult_mse\n",
    "    \n",
    "    return adult_mse\n",
    "    \n",
    "end\n"
   ]
  },
  {
   "cell_type": "code",
   "execution_count": 13,
   "id": "556f74a9-c4af-4706-8873-421449ad3288",
   "metadata": {},
   "outputs": [
    {
     "data": {
      "text/plain": [
       "target (generic function with 1 method)"
      ]
     },
     "execution_count": 13,
     "metadata": {},
     "output_type": "execute_result"
    }
   ],
   "source": [
    "target(params) = compute_mse(params, exp1_cowan_k_true_7_yr, exp1_cowan_k_true_adult, exp2_cowan_k_true_7_yr, exp2_cowan_k_true_adult, exp3_cowan_k_true_7_yr, exp3_cowan_k_true_adult)\n"
   ]
  },
  {
   "cell_type": "code",
   "execution_count": 14,
   "id": "2bf3b817-5f0f-4df6-810b-b85e1eb268b2",
   "metadata": {},
   "outputs": [
    {
     "ename": "LoadError",
     "evalue": "InterruptException:",
     "output_type": "error",
     "traceback": [
      "InterruptException:",
      "",
      "Stacktrace:",
      "  [1] Array",
      "    @ ./boot.jl:477 [inlined]",
      "  [2] BitArray",
      "    @ ./bitarray.jl:37 [inlined]",
      "  [3] BitArray",
      "    @ ./bitarray.jl:71 [inlined]",
      "  [4] similar",
      "    @ ./abstractarray.jl:882 [inlined]",
      "  [5] similar",
      "    @ ./abstractarray.jl:881 [inlined]",
      "  [6] similar",
      "    @ ./broadcast.jl:214 [inlined]",
      "  [7] similar",
      "    @ ./broadcast.jl:211 [inlined]",
      "  [8] copy",
      "    @ ./broadcast.jl:898 [inlined]",
      "  [9] materialize",
      "    @ ./broadcast.jl:873 [inlined]",
      " [10] get_possible_s_prime_and_probs(s::Vector{Float64}, A::Int64)",
      "    @ Main ~/Dropbox/Griffiths_Lab_Stuff/Code/Memory_Models/MDPModelFunctions.jl:51",
      " [11] get_Pol_onestep_R(s::Vector{Float64}, object_probe_probs::Vector{Float64}, per_timestep_probe_prob::Float64, epsilon::Float64)",
      "    @ Main ~/Dropbox/Griffiths_Lab_Stuff/Code/Memory_Models/MDPModelFunctions2.jl:36",
      " [12] simulate_episode(N_Quanta::Float64, N_Objects::Int64, epsilon::Float64, N_TimeSteps::Int64, object_probe_probs::Vector{Float64}; s::Int64)",
      "    @ Main ~/Dropbox/Griffiths_Lab_Stuff/Code/Memory_Models/MDPModelFunctions2.jl:76",
      " [13] simulate_episode",
      "    @ ~/Dropbox/Griffiths_Lab_Stuff/Code/Memory_Models/MDPModelFunctions2.jl:59 [inlined]",
      " [14] simulate_retrocue_episode(N_Quanta::Float64, N_Objects::Int64, epsilon::Float64, N_TimeSteps_Pre::Int64, N_TimeSteps_Post::Int64; cue_reliability::Int64)",
      "    @ Main ~/Dropbox/Griffiths_Lab_Stuff/Code/Memory_Models/MDPModelFunctions2.jl:132",
      " [15] simulate_retrocue_episode",
      "    @ ~/Dropbox/Griffiths_Lab_Stuff/Code/Memory_Models/MDPModelFunctions2.jl:124 [inlined]",
      " [16] simulate_task(N_Quanta::Float64, N_Objects::Int64, epsilon::Float64, N_TimeSteps_Pre::Int64, N_TimeSteps_Post::Int64, N_Trials::Int64, sim_episode_fun::typeof(simulate_retrocue_episode); mem_slope::Float64)",
      "    @ Main ~/Dropbox/Griffiths_Lab_Stuff/Code/Memory_Models/MDPModelFunctions2.jl:152",
      " [17] simulate_task",
      "    @ ~/Dropbox/Griffiths_Lab_Stuff/Code/Memory_Models/MDPModelFunctions2.jl:146 [inlined]",
      " [18] sim_exp3(epsilon::Float64, N_Quanta::Float64, NT_per_Second::Int64; mem_slope::Float64, return_last_only::Bool, N_Trials::Int64)",
      "    @ Main ~/Dropbox/Griffiths_Lab_Stuff/Code/Memory_Models/MDPModelFunctions2.jl:299",
      " [19] sim_exp3",
      "    @ ~/Dropbox/Griffiths_Lab_Stuff/Code/Memory_Models/MDPModelFunctions2.jl:249 [inlined]",
      " [20] compute_mse(params::Vector{Float64}, exp1_cowan_k_true_7_yr::LinearAlgebra.Adjoint{Float64, Matrix{Float64}}, exp1_cowan_k_true_adult::LinearAlgebra.Adjoint{Float64, Matrix{Float64}}, exp2_cowan_k_true_7_yr::LinearAlgebra.Adjoint{Float64, Matrix{Float64}}, exp2_cowan_k_true_adult::LinearAlgebra.Adjoint{Float64, Matrix{Float64}}, exp3_cowan_k_true_7_yr::Matrix{Float64}, exp3_cowan_k_true_adult::Matrix{Float64})",
      "    @ Main ./In[12]:34",
      " [21] target(params::Vector{Float64})",
      "    @ Main ./In[13]:1"
     ]
    }
   ],
   "source": [
    "target([.5,.5])"
   ]
  },
  {
   "cell_type": "code",
   "execution_count": null,
   "id": "0260794a-f811-46ae-8051-24c42163e39f",
   "metadata": {},
   "outputs": [],
   "source": []
  }
 ],
 "metadata": {
  "kernelspec": {
   "display_name": "Julia 1.9.1",
   "language": "julia",
   "name": "julia-1.9"
  },
  "language_info": {
   "file_extension": ".jl",
   "mimetype": "application/julia",
   "name": "julia",
   "version": "1.9.1"
  }
 },
 "nbformat": 4,
 "nbformat_minor": 5
}
