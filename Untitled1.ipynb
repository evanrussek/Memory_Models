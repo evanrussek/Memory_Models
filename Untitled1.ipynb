{
 "cells": [
  {
   "cell_type": "code",
   "execution_count": null,
   "id": "76e94ee5-61f5-41f8-89a5-1230a3402691",
   "metadata": {},
   "outputs": [],
   "source": [
    "ms_vals = collect(.05:.05:.5)"
   ]
  },
  {
   "cell_type": "code",
   "execution_count": null,
   "id": "728608b6-1e19-4658-a576-72a8e0e4a385",
   "metadata": {},
   "outputs": [],
   "source": [
    "include(\"search_ms_nt_w_fitting.jl\")"
   ]
  },
  {
   "cell_type": "code",
   "execution_count": null,
   "id": "0b317fc1-ff06-485d-b794-ee70007e7baf",
   "metadata": {},
   "outputs": [],
   "source": [
    "best_val = best_fitness(res)\n"
   ]
  },
  {
   "cell_type": "code",
   "execution_count": null,
   "id": "8c7c91e7-590a-400d-8327-f22fc5bab8a3",
   "metadata": {},
   "outputs": [],
   "source": [
    "file_name = \"Group_$(which_group)_NT_$(nt)_memslope_$(ms).jld2\"\n"
   ]
  },
  {
   "cell_type": "code",
   "execution_count": 5,
   "id": "f96f1144-90f7-46dc-8b46-224eb495c23a",
   "metadata": {},
   "outputs": [
    {
     "name": "stdout",
     "output_type": "stream",
     "text": [
      "N_Jobs_Total: 12000\n",
      "N_Runs: 60\n",
      "Job: 1, N_Quanta: 2, epsilon: 1.0, NT_per_Second: 100, mem_slope: 0.1\n",
      "Job: 2, N_Quanta: 2, epsilon: 1.0, NT_per_Second: 200, mem_slope: 0.1\n",
      "Job: 3, N_Quanta: 2, epsilon: 1.0, NT_per_Second: 100, mem_slope: 0.2\n",
      "Job: 4, N_Quanta: 4, epsilon: 1.0, NT_per_Second: 100, mem_slope: 0.1\n",
      "Job: 5, N_Quanta: 4, epsilon: 1.0, NT_per_Second: 200, mem_slope: 0.1\n",
      "Job: 6, N_Quanta: 4, epsilon: 1.0, NT_per_Second: 100, mem_slope: 0.2\n",
      "Job: 7, N_Quanta: 6, epsilon: 1.0, NT_per_Second: 100, mem_slope: 0.1\n",
      "Job: 8, N_Quanta: 6, epsilon: 1.0, NT_per_Second: 200, mem_slope: 0.1\n"
     ]
    },
    {
     "ename": "LoadError",
     "evalue": "LoadError: InterruptException:\nin expression starting at /Users/erussek/Dropbox/Griffiths_Lab_Stuff/Code/Memory_Models/shimi_all_param_search_fine2.jl:71",
     "output_type": "error",
     "traceback": [
      "LoadError: InterruptException:\nin expression starting at /Users/erussek/Dropbox/Griffiths_Lab_Stuff/Code/Memory_Models/shimi_all_param_search_fine2.jl:71",
      "",
      "Stacktrace:",
      "  [1] BitArray",
      "    @ ./bitarray.jl:39 [inlined]",
      "  [2] BitArray",
      "    @ ./bitarray.jl:71 [inlined]",
      "  [3] similar",
      "    @ ./abstractarray.jl:882 [inlined]",
      "  [4] similar",
      "    @ ./abstractarray.jl:881 [inlined]",
      "  [5] similar",
      "    @ ./broadcast.jl:214 [inlined]",
      "  [6] similar",
      "    @ ./broadcast.jl:211 [inlined]",
      "  [7] copy",
      "    @ ./broadcast.jl:898 [inlined]",
      "  [8] materialize",
      "    @ ./broadcast.jl:873 [inlined]",
      "  [9] get_possible_s_prime_and_probs(s::Vector{Int64}, A::Int64)",
      "    @ Main ~/Dropbox/Griffiths_Lab_Stuff/Code/Memory_Models/MDPModelFunctions.jl:52",
      " [10] get_Pol_onestep_R(s::Vector{Int64}, object_probe_probs::Vector{Float64}, per_timestep_probe_prob::Float64, epsilon::Float64)",
      "    @ Main ~/Dropbox/Griffiths_Lab_Stuff/Code/Memory_Models/MDPModelFunctions2.jl:38",
      " [11] simulate_episode(N_Quanta::Int64, N_Objects::Int64, epsilon::Float64, N_TimeSteps::Int64, object_probe_probs::Vector{Float64}; s::Int64)",
      "    @ Main ~/Dropbox/Griffiths_Lab_Stuff/Code/Memory_Models/MDPModelFunctions2.jl:78",
      " [12] simulate_episode",
      "    @ ~/Dropbox/Griffiths_Lab_Stuff/Code/Memory_Models/MDPModelFunctions2.jl:61 [inlined]",
      " [13] simulate_retrocue_episode(N_Quanta::Int64, N_Objects::Int64, epsilon::Float64, N_TimeSteps_Pre::Int64, N_TimeSteps_Post::Int64; cue_reliability::Int64)",
      "    @ Main ~/Dropbox/Griffiths_Lab_Stuff/Code/Memory_Models/MDPModelFunctions2.jl:134",
      " [14] simulate_retrocue_episode",
      "    @ ~/Dropbox/Griffiths_Lab_Stuff/Code/Memory_Models/MDPModelFunctions2.jl:126 [inlined]",
      " [15] simulate_task(N_Quanta::Int64, N_Objects::Int64, epsilon::Float64, N_TimeSteps_Pre::Int64, N_TimeSteps_Post::Int64, N_Trials::Int64, sim_episode_fun::typeof(simulate_retrocue_episode); mem_slope::Float64)",
      "    @ Main ~/Dropbox/Griffiths_Lab_Stuff/Code/Memory_Models/MDPModelFunctions2.jl:154",
      " [16] simulate_task",
      "    @ ~/Dropbox/Griffiths_Lab_Stuff/Code/Memory_Models/MDPModelFunctions2.jl:148 [inlined]",
      " [17] sim_exp2(epsilon::Float64, N_Quanta::Int64, NT_per_Second::Int64; mem_slope::Float64, return_last_only::Bool, N_Trials::Int64)",
      "    @ Main ~/Dropbox/Griffiths_Lab_Stuff/Code/Memory_Models/MDPModelFunctions2.jl:240",
      " [18] top-level scope",
      "    @ ~/Dropbox/Griffiths_Lab_Stuff/Code/Memory_Models/shimi_all_param_search_fine2.jl:89",
      " [19] include(fname::String)",
      "    @ Base.MainInclude ./client.jl:478"
     ]
    }
   ],
   "source": [
    "include(\"shimi_all_param_search_fine2.jl\")"
   ]
  },
  {
   "cell_type": "code",
   "execution_count": 2,
   "id": "776f75d3-6a1c-4286-a0c1-810a47ebf4c0",
   "metadata": {},
   "outputs": [
    {
     "data": {
      "text/plain": [
       "6-element Vector{Float64}:\n",
       " 0.99\n",
       " 0.978\n",
       " 0.949\n",
       " 0.886\n",
       " 0.744\n",
       " 0.423"
      ]
     },
     "execution_count": 2,
     "metadata": {},
     "output_type": "execute_result"
    }
   ],
   "source": [
    "eps_vals"
   ]
  },
  {
   "cell_type": "code",
   "execution_count": null,
   "id": "81c1f584-ac66-4752-8537-4a3b0020c0d9",
   "metadata": {},
   "outputs": [],
   "source": []
  },
  {
   "cell_type": "code",
   "execution_count": null,
   "id": "52c29ad6-1700-4232-966e-f118738320fb",
   "metadata": {},
   "outputs": [],
   "source": []
  }
 ],
 "metadata": {
  "kernelspec": {
   "display_name": "Julia 1.9.1",
   "language": "julia",
   "name": "julia-1.9"
  },
  "language_info": {
   "file_extension": ".jl",
   "mimetype": "application/julia",
   "name": "julia",
   "version": "1.9.1"
  }
 },
 "nbformat": 4,
 "nbformat_minor": 5
}
