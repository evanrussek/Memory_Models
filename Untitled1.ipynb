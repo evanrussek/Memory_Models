{
 "cells": [
  {
   "cell_type": "code",
   "execution_count": null,
   "id": "76e94ee5-61f5-41f8-89a5-1230a3402691",
   "metadata": {},
   "outputs": [],
   "source": [
    "ms_vals = collect(.05:.05:.5)"
   ]
  },
  {
   "cell_type": "code",
   "execution_count": null,
   "id": "728608b6-1e19-4658-a576-72a8e0e4a385",
   "metadata": {},
   "outputs": [],
   "source": [
    "include(\"search_ms_nt_w_fitting.jl\")"
   ]
  },
  {
   "cell_type": "code",
   "execution_count": null,
   "id": "0b317fc1-ff06-485d-b794-ee70007e7baf",
   "metadata": {},
   "outputs": [],
   "source": [
    "best_val = best_fitness(res)\n"
   ]
  },
  {
   "cell_type": "code",
   "execution_count": null,
   "id": "8c7c91e7-590a-400d-8327-f22fc5bab8a3",
   "metadata": {},
   "outputs": [],
   "source": [
    "file_name = \"Group_$(which_group)_NT_$(nt)_memslope_$(ms).jld2\"\n"
   ]
  },
  {
   "cell_type": "code",
   "execution_count": 1,
   "id": "f96f1144-90f7-46dc-8b46-224eb495c23a",
   "metadata": {},
   "outputs": [
    {
     "name": "stdout",
     "output_type": "stream",
     "text": [
      "N_Jobs_Total: 3024\n",
      "N_Runs: 275\n",
      "Job: 1, N_Quanta: 2, epsilon: 0.99, NT_per_Second: 12, mem_slope: 0.0125\n",
      "Job: 2, N_Quanta: 2, epsilon: 0.99, NT_per_Second: 25, mem_slope: 0.0125\n",
      "Job: 3, N_Quanta: 2, epsilon: 0.99, NT_per_Second: 50, mem_slope: 0.0125\n",
      "Job: 4, N_Quanta: 2, epsilon: 0.99, NT_per_Second: 100, mem_slope: 0.0125\n",
      "Job: 5, N_Quanta: 2, epsilon: 0.99, NT_per_Second: 200, mem_slope: 0.0125\n",
      "Job: 6, N_Quanta: 2, epsilon: 0.99, NT_per_Second: 400, mem_slope: 0.0125\n",
      "Job: 7, N_Quanta: 2, epsilon: 0.99, NT_per_Second: 800, mem_slope: 0.0125\n",
      "Job: 8, N_Quanta: 2, epsilon: 0.99, NT_per_Second: 1600, mem_slope: 0.0125\n",
      "Job: 9, N_Quanta: 2, epsilon: 0.99, NT_per_Second: 3200, mem_slope: 0.0125\n",
      "Job: 10, N_Quanta: 4, epsilon: 0.99, NT_per_Second: 12, mem_slope: 0.0125\n",
      "Job: 11, N_Quanta: 4, epsilon: 0.99, NT_per_Second: 25, mem_slope: 0.0125\n"
     ]
    }
   ],
   "source": [
    "include(\"shimi_all_parameter_search_coarse.jl\")"
   ]
  },
  {
   "cell_type": "code",
   "execution_count": 2,
   "id": "776f75d3-6a1c-4286-a0c1-810a47ebf4c0",
   "metadata": {},
   "outputs": [
    {
     "data": {
      "text/plain": [
       "6-element Vector{Float64}:\n",
       " 0.99\n",
       " 0.978\n",
       " 0.949\n",
       " 0.886\n",
       " 0.744\n",
       " 0.423"
      ]
     },
     "execution_count": 2,
     "metadata": {},
     "output_type": "execute_result"
    }
   ],
   "source": [
    "eps_vals"
   ]
  },
  {
   "cell_type": "code",
   "execution_count": null,
   "id": "81c1f584-ac66-4752-8537-4a3b0020c0d9",
   "metadata": {},
   "outputs": [],
   "source": []
  }
 ],
 "metadata": {
  "kernelspec": {
   "display_name": "Julia 1.9.1",
   "language": "julia",
   "name": "julia-1.9"
  },
  "language_info": {
   "file_extension": ".jl",
   "mimetype": "application/julia",
   "name": "julia",
   "version": "1.9.1"
  }
 },
 "nbformat": 4,
 "nbformat_minor": 5
}
