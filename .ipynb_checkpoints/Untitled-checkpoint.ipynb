{
 "cells": [
  {
   "cell_type": "code",
   "execution_count": 2,
   "id": "76630a96-3860-4d65-85db-c6bf864b0f8d",
   "metadata": {},
   "outputs": [
    {
     "name": "stdout",
     "output_type": "stream",
     "text": [
      "N_Jobs_Total: 2500\n",
      "N_Runs: 100\n",
      "Job: 1, N_Quanta: 2, epsilon: 1.0\n"
     ]
    },
    {
     "ename": "LoadError",
     "evalue": "LoadError: InterruptException:\nin expression starting at /Users/erussek/Dropbox/Griffiths_Lab_Stuff/Code/Memory_Models/cowan_param_sweep.jl:59",
     "output_type": "error",
     "traceback": [
      "LoadError: InterruptException:\nin expression starting at /Users/erussek/Dropbox/Griffiths_Lab_Stuff/Code/Memory_Models/cowan_param_sweep.jl:59",
      "",
      "Stacktrace:",
      "  [1] Array",
      "    @ ./boot.jl:477 [inlined]",
      "  [2] Array",
      "    @ ./boot.jl:486 [inlined]",
      "  [3] Array",
      "    @ ./boot.jl:494 [inlined]",
      "  [4] similar",
      "    @ ./abstractarray.jl:882 [inlined]",
      "  [5] similar",
      "    @ ./abstractarray.jl:881 [inlined]",
      "  [6] similar",
      "    @ ./broadcast.jl:212 [inlined]",
      "  [7] similar",
      "    @ ./broadcast.jl:211 [inlined]",
      "  [8] copy",
      "    @ ./broadcast.jl:898 [inlined]",
      "  [9] materialize",
      "    @ ./broadcast.jl:873 [inlined]",
      " [10] broadcast_preserving_zero_d",
      "    @ ./broadcast.jl:862 [inlined]",
      " [11] *(A::Float64, B::Vector{Float64})",
      "    @ Base ./arraymath.jl:21",
      " [12] get_Pol_onestep_R(s::Vector{Int64}, object_probe_probs::Vector{Float64}, per_timestep_probe_prob::Float64, epsilon::Float64)",
      "    @ Main ~/Dropbox/Griffiths_Lab_Stuff/Code/Memory_Models/MDPModelFunctions2.jl:56",
      " [13] simulate_episode(N_Quanta::Int64, N_Objects::Int64, epsilon::Float64, N_TimeSteps::Int64, object_probe_probs::Vector{Float64}; s::Int64)",
      "    @ Main ~/Dropbox/Griffiths_Lab_Stuff/Code/Memory_Models/MDPModelFunctions2.jl:78",
      " [14] simulate_episode",
      "    @ ~/Dropbox/Griffiths_Lab_Stuff/Code/Memory_Models/MDPModelFunctions2.jl:61 [inlined]",
      " [15] simulate_precue_episode_cowan(N_Quanta::Int64, N_Objects_Total::Int64, epsilon::Float64, N_TimeSteps_Pre::Int64, N_TimeSteps_Post::Int64; cue_reliability::Float64)",
      "    @ Main ~/Dropbox/Griffiths_Lab_Stuff/Code/Memory_Models/MDPModelFunctions2.jl:170",
      " [16] simulate_precue_episode_cowan",
      "    @ ~/Dropbox/Griffiths_Lab_Stuff/Code/Memory_Models/MDPModelFunctions2.jl:150 [inlined]",
      " [17] simulate_task_mult_ms(N_Quanta::Int64, N_Objects::Int64, epsilon::Float64, N_TimeSteps_Pre::Int64, N_TimeSteps_Post::Int64, N_Trials::Int64, sim_episode_fun::typeof(simulate_precue_episode_cowan); mem_slopes::Vector{Float64}, cue_reliability::Float64)",
      "    @ Main ~/Dropbox/Griffiths_Lab_Stuff/Code/Memory_Models/MDPModelFunctions2.jl:200",
      " [18] simulate_task_mult_ms",
      "    @ ~/Dropbox/Griffiths_Lab_Stuff/Code/Memory_Models/MDPModelFunctions2.jl:192 [inlined]",
      " [19] sim_cowan_att(N_Quanta::Int64, epsilon::Float64; N_Trials::Int64, max_NT_per_sec::Int64, return_full_hist::Bool, mem_slopes::Vector{Float64})",
      "    @ Main ~/Dropbox/Griffiths_Lab_Stuff/Code/Memory_Models/MDPModelFunctions2.jl:528",
      " [20] top-level scope",
      "    @ ~/Dropbox/Griffiths_Lab_Stuff/Code/Memory_Models/cowan_param_sweep.jl:78",
      " [21] include(fname::String)",
      "    @ Base.MainInclude ./client.jl:478"
     ]
    }
   ],
   "source": [
    "include(\"cowan_param_sweep.jl\")"
   ]
  },
  {
   "cell_type": "code",
   "execution_count": 3,
   "id": "540060bc-a86e-4b05-b94f-5990d47646c3",
   "metadata": {},
   "outputs": [
    {
     "data": {
      "text/plain": [
       "50.0"
      ]
     },
     "execution_count": 3,
     "metadata": {},
     "output_type": "execute_result"
    }
   ],
   "source": [
    "2500 / 50"
   ]
  },
  {
   "cell_type": "code",
   "execution_count": null,
   "id": "694456d2-7aaa-451c-953f-ebf7b4346d2e",
   "metadata": {},
   "outputs": [],
   "source": []
  }
 ],
 "metadata": {
  "kernelspec": {
   "display_name": "Julia 1.9.1",
   "language": "julia",
   "name": "julia-1.9"
  },
  "language_info": {
   "file_extension": ".jl",
   "mimetype": "application/julia",
   "name": "julia",
   "version": "1.9.1"
  }
 },
 "nbformat": 4,
 "nbformat_minor": 5
}
