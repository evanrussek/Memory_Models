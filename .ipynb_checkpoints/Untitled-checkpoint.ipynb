{
 "cells": [
  {
   "cell_type": "code",
   "execution_count": 3,
   "id": "76630a96-3860-4d65-85db-c6bf864b0f8d",
   "metadata": {},
   "outputs": [
    {
     "name": "stdout",
     "output_type": "stream",
     "text": [
      "N_Jobs_Total: 2500\n",
      "N_Runs: 100\n",
      "Job: 1, N_Quanta: 2, epsilon: 1.0\n"
     ]
    },
    {
     "ename": "LoadError",
     "evalue": "LoadError: InterruptException:\nin expression starting at /Users/erussek/Dropbox/Griffiths_Lab_Stuff/Code/Memory_Models/cowan_param_sweep.jl:60",
     "output_type": "error",
     "traceback": [
      "LoadError: InterruptException:\nin expression starting at /Users/erussek/Dropbox/Griffiths_Lab_Stuff/Code/Memory_Models/cowan_param_sweep.jl:60",
      "",
      "Stacktrace:",
      "  [1] BitArray",
      "    @ ./bitarray.jl:39 [inlined]",
      "  [2] BitArray",
      "    @ ./bitarray.jl:71 [inlined]",
      "  [3] similar",
      "    @ ./abstractarray.jl:882 [inlined]",
      "  [4] similar",
      "    @ ./abstractarray.jl:881 [inlined]",
      "  [5] similar",
      "    @ ./broadcast.jl:214 [inlined]",
      "  [6] similar",
      "    @ ./broadcast.jl:211 [inlined]",
      "  [7] copy",
      "    @ ./broadcast.jl:898 [inlined]",
      "  [8] materialize",
      "    @ ./broadcast.jl:873 [inlined]",
      "  [9] get_possible_s_prime_and_probs(s::Vector{Int64}, A::Int64)",
      "    @ Main ~/Dropbox/Griffiths_Lab_Stuff/Code/Memory_Models/MDPModelFunctions.jl:52",
      " [10] simulate_episode(N_Quanta::Int64, N_Objects::Int64, epsilon::Float64, N_TimeSteps::Int64, object_probe_probs::Vector{Float64}; s::Int64)",
      "    @ Main ~/Dropbox/Griffiths_Lab_Stuff/Code/Memory_Models/MDPModelFunctions2.jl:84",
      " [11] simulate_episode",
      "    @ ~/Dropbox/Griffiths_Lab_Stuff/Code/Memory_Models/MDPModelFunctions2.jl:61 [inlined]",
      " [12] simulate_precue_episode_cowan(N_Quanta::Int64, N_Objects_Total::Int64, epsilon::Float64, N_TimeSteps_Pre::Int64, N_TimeSteps_Post::Int64; cue_reliability::Float64)",
      "    @ Main ~/Dropbox/Griffiths_Lab_Stuff/Code/Memory_Models/MDPModelFunctions2.jl:170",
      " [13] simulate_precue_episode_cowan",
      "    @ ~/Dropbox/Griffiths_Lab_Stuff/Code/Memory_Models/MDPModelFunctions2.jl:150 [inlined]",
      " [14] simulate_task_mult_ms(N_Quanta::Int64, N_Objects::Int64, epsilon::Float64, N_TimeSteps_Pre::Int64, N_TimeSteps_Post::Int64, N_Trials::Int64, sim_episode_fun::typeof(simulate_precue_episode_cowan); mem_slopes::Vector{Float64}, cue_reliability::Float64, baseline_prob::Float64)",
      "    @ Main ~/Dropbox/Griffiths_Lab_Stuff/Code/Memory_Models/MDPModelFunctions2.jl:200",
      " [15] simulate_task_mult_ms",
      "    @ ~/Dropbox/Griffiths_Lab_Stuff/Code/Memory_Models/MDPModelFunctions2.jl:192 [inlined]",
      " [16] sim_cowan_att(N_Quanta::Int64, epsilon::Float64; N_Trials::Int64, max_NT_per_sec::Int64, return_full_hist::Bool, mem_slopes::Vector{Float64})",
      "    @ Main ~/Dropbox/Griffiths_Lab_Stuff/Code/Memory_Models/MDPModelFunctions2.jl:528",
      " [17] top-level scope",
      "    @ ~/Dropbox/Griffiths_Lab_Stuff/Code/Memory_Models/cowan_param_sweep.jl:79",
      " [18] include(fname::String)",
      "    @ Base.MainInclude ./client.jl:478"
     ]
    }
   ],
   "source": [
    "include(\"cowan_param_sweep.jl\")"
   ]
  },
  {
   "cell_type": "code",
   "execution_count": 3,
   "id": "540060bc-a86e-4b05-b94f-5990d47646c3",
   "metadata": {},
   "outputs": [
    {
     "data": {
      "text/plain": [
       "50.0"
      ]
     },
     "execution_count": 3,
     "metadata": {},
     "output_type": "execute_result"
    }
   ],
   "source": [
    "2500 / 50"
   ]
  },
  {
   "cell_type": "code",
   "execution_count": null,
   "id": "694456d2-7aaa-451c-953f-ebf7b4346d2e",
   "metadata": {},
   "outputs": [],
   "source": []
  }
 ],
 "metadata": {
  "kernelspec": {
   "display_name": "Julia 1.9.1",
   "language": "julia",
   "name": "julia-1.9"
  },
  "language_info": {
   "file_extension": ".jl",
   "mimetype": "application/julia",
   "name": "julia",
   "version": "1.9.1"
  }
 },
 "nbformat": 4,
 "nbformat_minor": 5
}
