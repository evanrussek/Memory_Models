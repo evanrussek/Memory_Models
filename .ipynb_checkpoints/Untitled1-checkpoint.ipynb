{
 "cells": [
  {
   "cell_type": "code",
   "execution_count": 3,
   "id": "76e94ee5-61f5-41f8-89a5-1230a3402691",
   "metadata": {},
   "outputs": [
    {
     "data": {
      "text/plain": [
       "10-element Vector{Float64}:\n",
       " 0.05\n",
       " 0.1\n",
       " 0.15\n",
       " 0.2\n",
       " 0.25\n",
       " 0.3\n",
       " 0.35\n",
       " 0.4\n",
       " 0.45\n",
       " 0.5"
      ]
     },
     "execution_count": 3,
     "metadata": {},
     "output_type": "execute_result"
    }
   ],
   "source": [
    "ms_vals = collect(.05:.05:.5)"
   ]
  },
  {
   "cell_type": "code",
   "execution_count": 22,
   "id": "728608b6-1e19-4658-a576-72a8e0e4a385",
   "metadata": {},
   "outputs": [
    {
     "name": "stdout",
     "output_type": "stream",
     "text": [
      "N_Jobs_Total: 144\n",
      "Starting optimization with optimizer DiffEvoOpt{FitPopulation{Float64}, RadiusLimitedSelector, BlackBoxOptim.AdaptiveDiffEvoRandBin{3}, RandomBound{ContinuousRectSearchSpace}}\n",
      "0.00 secs, 0 evals, 0 steps\n",
      "10.26 secs, 2 evals, 1 steps, fitness=2.089313004\n",
      "20.86 secs, 4 evals, 2 steps, fitness=2.089313004\n",
      "25.77 secs, 6 evals, 3 steps, improv/step: 0.333 (last = 1.0000), fitness=2.089313004\n",
      "35.21 secs, 8 evals, 4 steps, improv/step: 0.500 (last = 1.0000), fitness=2.089313004\n",
      "45.74 secs, 10 evals, 5 steps, improv/step: 0.400 (last = 0.0000), fitness=2.089313004\n",
      "55.09 secs, 12 evals, 6 steps, improv/step: 0.333 (last = 0.0000), fitness=2.089313004\n",
      "65.01 secs, 14 evals, 7 steps, improv/step: 0.429 (last = 1.0000), fitness=2.089313004\n",
      "74.79 secs, 16 evals, 8 steps, improv/step: 0.375 (last = 0.0000), fitness=2.089313004\n",
      "79.38 secs, 17 evals, 9 steps, improv/step: 0.333 (last = 0.0000), fitness=2.089313004\n",
      "89.69 secs, 19 evals, 10 steps, improv/step: 0.400 (last = 1.0000), fitness=2.089313004\n",
      "100.06 secs, 21 evals, 11 steps, improv/step: 0.364 (last = 0.0000), fitness=1.929394480\n",
      "108.64 secs, 23 evals, 12 steps, improv/step: 0.333 (last = 0.0000), fitness=1.929394480\n",
      "118.55 secs, 25 evals, 13 steps, improv/step: 0.308 (last = 0.0000), fitness=1.819061582\n",
      "127.61 secs, 27 evals, 14 steps, improv/step: 0.286 (last = 0.0000), fitness=1.819061582\n",
      "137.95 secs, 29 evals, 15 steps, improv/step: 0.267 (last = 0.0000), fitness=1.819061582\n",
      "143.60 secs, 30 evals, 16 steps, improv/step: 0.312 (last = 1.0000), fitness=1.819061582\n",
      "153.59 secs, 32 evals, 17 steps, improv/step: 0.353 (last = 1.0000), fitness=1.819061582\n",
      "162.57 secs, 34 evals, 18 steps, improv/step: 0.389 (last = 1.0000), fitness=1.819061582\n",
      "167.91 secs, 35 evals, 19 steps, improv/step: 0.421 (last = 1.0000), fitness=1.819061582\n",
      "176.72 secs, 37 evals, 20 steps, improv/step: 0.450 (last = 1.0000), fitness=1.705094674\n",
      "187.53 secs, 39 evals, 21 steps, improv/step: 0.429 (last = 0.0000), fitness=1.705094674\n",
      "192.82 secs, 40 evals, 22 steps, improv/step: 0.409 (last = 0.0000), fitness=1.705094674\n",
      "198.18 secs, 41 evals, 23 steps, improv/step: 0.391 (last = 0.0000), fitness=1.705094674\n",
      "209.69 secs, 43 evals, 24 steps, improv/step: 0.375 (last = 0.0000), fitness=1.705094674\n",
      "216.92 secs, 45 evals, 25 steps, improv/step: 0.400 (last = 1.0000), fitness=1.705094674\n",
      "226.18 secs, 47 evals, 26 steps, improv/step: 0.385 (last = 0.0000), fitness=1.705094674\n",
      "237.07 secs, 49 evals, 27 steps, improv/step: 0.370 (last = 0.0000), fitness=1.705094674\n",
      "247.96 secs, 51 evals, 28 steps, improv/step: 0.357 (last = 0.0000), fitness=1.705094674\n",
      "258.62 secs, 53 evals, 29 steps, improv/step: 0.345 (last = 0.0000), fitness=1.705094674\n",
      "263.47 secs, 54 evals, 30 steps, improv/step: 0.333 (last = 0.0000), fitness=1.705094674\n",
      "268.64 secs, 55 evals, 31 steps, improv/step: 0.323 (last = 0.0000), fitness=1.705094674\n",
      "277.41 secs, 57 evals, 32 steps, improv/step: 0.312 (last = 0.0000), fitness=1.690067526\n",
      "288.02 secs, 59 evals, 33 steps, improv/step: 0.333 (last = 1.0000), fitness=1.690067526\n",
      "297.12 secs, 61 evals, 34 steps, improv/step: 0.353 (last = 1.0000), fitness=1.690067526\n",
      "307.03 secs, 63 evals, 35 steps, improv/step: 0.371 (last = 1.0000), fitness=1.690067526\n",
      "318.47 secs, 65 evals, 36 steps, improv/step: 0.361 (last = 0.0000), fitness=1.690067526\n",
      "329.19 secs, 67 evals, 37 steps, improv/step: 0.351 (last = 0.0000), fitness=1.690067526\n"
     ]
    },
    {
     "name": "stderr",
     "output_type": "stream",
     "text": [
      "\u001b[33m\u001b[1m┌ \u001b[22m\u001b[39m\u001b[33m\u001b[1mWarning: \u001b[22m\u001b[39mOptimization interrupted, recovering intermediate results...\n",
      "\u001b[33m\u001b[1m└ \u001b[22m\u001b[39m\u001b[90m@ BlackBoxOptim ~/.julia/packages/BlackBoxOptim/lZtsr/src/opt_controller.jl:483\u001b[39m\n"
     ]
    }
   ],
   "source": [
    "include(\"search_ms_nt_w_fitting.jl\")"
   ]
  },
  {
   "cell_type": "code",
   "execution_count": 12,
   "id": "0b317fc1-ff06-485d-b794-ee70007e7baf",
   "metadata": {},
   "outputs": [
    {
     "data": {
      "text/plain": [
       "1.6793810954448802"
      ]
     },
     "execution_count": 12,
     "metadata": {},
     "output_type": "execute_result"
    }
   ],
   "source": [
    "best_val = best_fitness(res)\n"
   ]
  },
  {
   "cell_type": "code",
   "execution_count": 17,
   "id": "8c7c91e7-590a-400d-8327-f22fc5bab8a3",
   "metadata": {},
   "outputs": [
    {
     "data": {
      "text/plain": [
       "\"Group_child_NT_100_memslope_0.022.jld2\""
      ]
     },
     "execution_count": 17,
     "metadata": {},
     "output_type": "execute_result"
    }
   ],
   "source": [
    "file_name = \"Group_$(which_group)_NT_$(nt)_memslope_$(ms).jld2\"\n"
   ]
  },
  {
   "cell_type": "code",
   "execution_count": null,
   "id": "f96f1144-90f7-46dc-8b46-224eb495c23a",
   "metadata": {},
   "outputs": [],
   "source": []
  }
 ],
 "metadata": {
  "kernelspec": {
   "display_name": "Julia 1.9.1",
   "language": "julia",
   "name": "julia-1.9"
  },
  "language_info": {
   "file_extension": ".jl",
   "mimetype": "application/julia",
   "name": "julia",
   "version": "1.9.1"
  }
 },
 "nbformat": 4,
 "nbformat_minor": 5
}
