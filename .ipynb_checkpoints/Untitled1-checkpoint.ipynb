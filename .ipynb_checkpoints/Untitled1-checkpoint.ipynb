{
 "cells": [
  {
   "cell_type": "code",
   "execution_count": null,
   "id": "76e94ee5-61f5-41f8-89a5-1230a3402691",
   "metadata": {},
   "outputs": [],
   "source": [
    "ms_vals = collect(.05:.05:.5)"
   ]
  },
  {
   "cell_type": "code",
   "execution_count": null,
   "id": "728608b6-1e19-4658-a576-72a8e0e4a385",
   "metadata": {},
   "outputs": [],
   "source": [
    "include(\"search_ms_nt_w_fitting.jl\")"
   ]
  },
  {
   "cell_type": "code",
   "execution_count": null,
   "id": "0b317fc1-ff06-485d-b794-ee70007e7baf",
   "metadata": {},
   "outputs": [],
   "source": [
    "best_val = best_fitness(res)\n"
   ]
  },
  {
   "cell_type": "code",
   "execution_count": null,
   "id": "8c7c91e7-590a-400d-8327-f22fc5bab8a3",
   "metadata": {},
   "outputs": [],
   "source": [
    "file_name = \"Group_$(which_group)_NT_$(nt)_memslope_$(ms).jld2\"\n"
   ]
  },
  {
   "cell_type": "code",
   "execution_count": null,
   "id": "f96f1144-90f7-46dc-8b46-224eb495c23a",
   "metadata": {},
   "outputs": [],
   "source": [
    "include(\"shimi_all_parameter_search_coarse.jl\")"
   ]
  },
  {
   "cell_type": "code",
   "execution_count": null,
   "id": "776f75d3-6a1c-4286-a0c1-810a47ebf4c0",
   "metadata": {},
   "outputs": [],
   "source": []
  }
 ],
 "metadata": {
  "kernelspec": {
   "display_name": "Julia 1.9.1",
   "language": "julia",
   "name": "julia-1.9"
  },
  "language_info": {
   "file_extension": ".jl",
   "mimetype": "application/julia",
   "name": "julia",
   "version": "1.9.1"
  }
 },
 "nbformat": 4,
 "nbformat_minor": 5
}
