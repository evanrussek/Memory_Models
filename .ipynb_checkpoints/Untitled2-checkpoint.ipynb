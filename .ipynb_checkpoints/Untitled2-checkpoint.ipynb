{
 "cells": [
  {
   "cell_type": "code",
   "execution_count": 1,
   "id": "df4e2186-bf87-467f-8f56-e233382c9b62",
   "metadata": {},
   "outputs": [
    {
     "name": "stderr",
     "output_type": "stream",
     "text": [
      "\u001b[32m\u001b[1m    CondaPkg \u001b[22m\u001b[39m\u001b[0mFound dependencies: /Users/erussek/.julia/packages/PythonCall/wXfah/CondaPkg.toml\n",
      "\u001b[32m\u001b[1m    CondaPkg \u001b[22m\u001b[39m\u001b[0mFound dependencies: /Users/erussek/.julia/packages/PythonPlot/KcWMF/CondaPkg.toml\n",
      "\u001b[32m\u001b[1m    CondaPkg \u001b[22m\u001b[39m\u001b[0mDependencies already up to date\n"
     ]
    },
    {
     "data": {
      "text/plain": [
       "\"none\""
      ]
     },
     "execution_count": 1,
     "metadata": {},
     "output_type": "execute_result"
    }
   ],
   "source": [
    "using JLD2\n",
    "# using PythonPlot\n",
    "include(\"MDPModelFunctions2.jl\")\n",
    "using DataFrames\n",
    "using ImageFiltering\n",
    "include(\"setupPythonPlot.jl\")\n",
    "# using PyCall"
   ]
  },
  {
   "cell_type": "code",
   "execution_count": 15,
   "id": "deee833b-2eef-4f28-8931-fe8ce4a0f97c",
   "metadata": {},
   "outputs": [
    {
     "data": {
      "text/plain": [
       "load_results (generic function with 2 methods)"
      ]
     },
     "execution_count": 15,
     "metadata": {},
     "output_type": "execute_result"
    }
   ],
   "source": [
    "\n",
    "function load_results(epsilon, N_Quanta; one_shape = 2, on_cluster = false)\n",
    "    \n",
    "    if one_shape\n",
    "        to_save_folder = \"/Users/erussek/Dropbox/Griffiths_Lab_Stuff/Data/Memory_Models/Cowan_Param_Sweep_1/one_shape\"\n",
    "    else\n",
    "        to_save_folder = \"/Users/erussek/Dropbox/Griffiths_Lab_Stuff/Data/Memory_Models/Cowan_Param_Sweep_1/two_shape\"\n",
    "    end\n",
    "    \n",
    "    local file_name = \"N_Quanta_$(N_Quanta)_epsilon_$(epsilon).jld2\"\n",
    "        \n",
    "    local full_file_path = joinpath(to_save_folder,file_name)\n",
    "\n",
    "    res = load(full_file_path)\n",
    "    \n",
    "    if one_shape\n",
    "        return res[\"state_hist_one_shape\"]\n",
    "    else\n",
    "        return res[\"state_hist_two_shape\"]\n",
    "    end\n",
    "\n",
    "end\n"
   ]
  },
  {
   "cell_type": "code",
   "execution_count": 6,
   "id": "c8e88554-e6b3-440a-8a06-3f4b05ed6d00",
   "metadata": {},
   "outputs": [],
   "source": [
    "# epsilon vals\n",
    "eps_vals = collect(1:-.02:.01) # \n",
    "\n",
    "# vary the mem_slopes\n",
    "mem_slopes = [.025, .05, .1, .15, .2, .25]\n",
    "\n",
    "# quanta values\n",
    "q_vals = collect(2:2:100); # could go to one... \n"
   ]
  },
  {
   "cell_type": "code",
   "execution_count": 14,
   "id": "2fab082b-abe6-4723-be13-9ec4d6d52cf9",
   "metadata": {},
   "outputs": [
    {
     "data": {
      "text/plain": [
       "Dict{String, Any} with 1 entry:\n",
       "  \"state_hist_two_shape\" => Dict{Any, Any}(\"CueR_0.5_N_Obj_Per_Shape_2\"=>[0.505…"
      ]
     },
     "execution_count": 14,
     "metadata": {},
     "output_type": "execute_result"
    }
   ],
   "source": [
    "eps_idx = 1\n",
    "q_idx = 1\n",
    "epsilon = eps_vals[eps_idx]\n",
    "N_Quanta = q_vals[q_idx]\n",
    "\n",
    "res = load_results(epsilon, N_Quanta; one_shape = false, on_cluster = false)\n"
   ]
  },
  {
   "cell_type": "code",
   "execution_count": null,
   "id": "fb48390a-4fd1-4bd6-b063-ff2e03a82c36",
   "metadata": {},
   "outputs": [],
   "source": []
  }
 ],
 "metadata": {
  "kernelspec": {
   "display_name": "Julia 1.9.1",
   "language": "julia",
   "name": "julia-1.9"
  },
  "language_info": {
   "file_extension": ".jl",
   "mimetype": "application/julia",
   "name": "julia",
   "version": "1.9.1"
  }
 },
 "nbformat": 4,
 "nbformat_minor": 5
}
