{
 "cells": [
  {
   "cell_type": "code",
   "execution_count": 6,
   "id": "4cd300b6-4a2d-43c5-818d-ac9e11124379",
   "metadata": {},
   "outputs": [
    {
     "ename": "LoadError",
     "evalue": "SystemError: opening file \"/Users/erussek/Dropbox/Griffiths_Lab_Stuff/Code/Memory_Models/shimi_all_parameter_search_v2/MDPModelFunctions2.jl\": No such file or directory",
     "output_type": "error",
     "traceback": [
      "SystemError: opening file \"/Users/erussek/Dropbox/Griffiths_Lab_Stuff/Code/Memory_Models/shimi_all_parameter_search_v2/MDPModelFunctions2.jl\": No such file or directory",
      "",
      "Stacktrace:",
      "  [1] systemerror(p::String, errno::Int32; extrainfo::Nothing)",
      "    @ Base ./error.jl:176",
      "  [2] #systemerror#82",
      "    @ ./error.jl:175 [inlined]",
      "  [3] systemerror",
      "    @ ./error.jl:175 [inlined]",
      "  [4] open(fname::String; lock::Bool, read::Nothing, write::Nothing, create::Nothing, truncate::Nothing, append::Nothing)",
      "    @ Base ./iostream.jl:293",
      "  [5] open",
      "    @ ./iostream.jl:275 [inlined]",
      "  [6] open(f::Base.var\"#418#419\"{String}, args::String; kwargs::Base.Pairs{Symbol, Union{}, Tuple{}, NamedTuple{(), Tuple{}}})",
      "    @ Base ./io.jl:393",
      "  [7] open",
      "    @ ./io.jl:392 [inlined]",
      "  [8] read",
      "    @ ./io.jl:473 [inlined]",
      "  [9] _include(mapexpr::Function, mod::Module, _path::String)",
      "    @ Base ./loading.jl:1955",
      " [10] include(fname::String)",
      "    @ Base.MainInclude ./client.jl:478",
      " [11] top-level scope",
      "    @ In[6]:2"
     ]
    }
   ],
   "source": [
    "## started this...\n",
    "\n",
    "include(\"MDPModelFunctions2.jl\")\n",
    "\n",
    "\n",
    "function format_res_cowan_k(res; exp_num = 1)\n",
    "    \n",
    "    if exp_num == 1\n",
    "    \n",
    "        # row is 2 obj vs 4 obj\n",
    "        # col is pre-cue, neutral, retro-cue, neutral\n",
    "        \n",
    "        part_pcorr = res;\n",
    "        model_cowan_p_corr = [part_pcorr; part_pcorr[2,:]']'\n",
    "        model_cowan_k_mtx = cowan_k(model_cowan_p_corr, 2)\n",
    "        model_cowan_k_mtx[2,:] = cowan_k(model_cowan_p_corr[2,:], 4)\n",
    "        \n",
    "        model_cowan_k = [model_cowan_k_mtx[1,:]' model_cowan_k_mtx[2,:]']';#[model_cowan_k_mtx[1,:] model_cowan_k_mtx[2,:]]\n",
    "    elseif exp_num == 2\n",
    "        \n",
    "        # IM cued, IM neutral, VSTM cued, VSTM neutral - need to adjust from what it was saved as\n",
    "        \n",
    "        (p_short_neutral, p_short_retro, p_long_neutral, p_long_retro) = res\n",
    "        model_cowan_k = cowan_k([p_short_retro p_short_neutral p_long_retro p_long_neutral],4)'\n",
    "        \n",
    "    else\n",
    "        \n",
    "        (p_IM_neutral, p_IM_retro, p_VSTM_neutral, p_VSTM_retro, p_Long_VSTM_neutral, p_Long_VSTM_retro) = res\n",
    "\n",
    "        # Load 3 cued, Load 3 Neutral, Load 6 cued, Load 6 neutral\n",
    "        IM_model = [cowan_k(p_IM_retro[1],3) cowan_k(p_IM_neutral[1],3) cowan_k(p_IM_retro[2],6) cowan_k(p_IM_neutral[2], 6)]\n",
    "        Short_VSTM_model = [cowan_k(p_VSTM_retro[1],3) cowan_k(p_VSTM_neutral[1],3) cowan_k(p_VSTM_retro[2],6) cowan_k(p_VSTM_neutral[2], 6)]\n",
    "        Long_VSTM_model = [cowan_k(p_Long_VSTM_retro[1],3) cowan_k(p_Long_VSTM_neutral[1],3) cowan_k(p_Long_VSTM_retro[2],6) cowan_k(p_Long_VSTM_neutral[2], 6)]\n",
    "\n",
    "        # 3 x 4\n",
    "        model_cowan_k = [IM_model; Short_VSTM_model; Long_VSTM_model]  \n",
    "        \n",
    "    end\n",
    "        \n",
    "    return model_cowan_k\n",
    "    \n",
    "end    \n",
    "\n",
    "# 6 parameteres for 44 datapoints \n",
    "\n",
    "exp1_cowan_k_true_7_yr = [1.16 1.14 1.13 1.02 2.80 .91 1.30 .96]' # 8\n",
    "exp1_cowan_k_true_adult = [1.98 1.94 1.97 1.95 3.87 2.66 3.64 2.87]'\n",
    "\n",
    "# experiment 2 - 4 objects\n",
    "# col is IM cued, IM neutral, VSTM cued, VSTM neutral\n",
    "\n",
    "exp2_cowan_k_true_7_yr = [1.55 1.16 1.00 0.69]' # 4\n",
    "exp2_cowan_k_true_adult = [3.54 2.58 3.58 2.65]'\n",
    "\n",
    "# experiment 3\n",
    "\n",
    "# Load 3 cued, Load 3 Neutral, Load 6 cued, Load 6 neutral\n",
    "IM_true_7_yr = [1.44 1.27 1.82 0.88]\n",
    "Short_VSTM_true_7_yr = [1.14 0.77 NaN NaN]\n",
    "Long_VSTM_true_7_yr = [1.19 0.90 NaN NaN]\n",
    "\n",
    "# 8\n",
    "\n",
    "exp3_cowan_k_true_7_yr = [IM_true_7_yr; Short_VSTM_true_7_yr; Short_VSTM_true_7_yr]\n",
    "\n",
    "\n",
    "IM_true_adult = [2.63 2.41 4.80 2.46]\n",
    "Short_VSTM_true_adult = [2.75 2.38 3.97 2.15]\n",
    "Long_VSTM_true_adult = [2.76 2.30 3.65 1.75]\n",
    "# 12\n",
    "\n",
    "exp3_cowan_k_true_adult = [IM_true_adult; Short_VSTM_true_adult; Short_VSTM_true_adult]\n"
   ]
  },
  {
   "cell_type": "code",
   "execution_count": 4,
   "id": "9fc9aece-ede8-411e-bef6-40c12cdd33dc",
   "metadata": {},
   "outputs": [
    {
     "data": {
      "text/plain": [
       "5-element Vector{Float64}:\n",
       "  20.0\n",
       "   0.8\n",
       "   5.0\n",
       "   0.4\n",
       " 100.0"
      ]
     },
     "execution_count": 4,
     "metadata": {},
     "output_type": "execute_result"
    }
   ],
   "source": [
    "# function to compute mean squared error...\n",
    "\n",
    "# takes in Adult_Quanta (int), Adult_Epsilon (0-1 bounded), Child_Quanta (int), Child_Epsilon (0-1 bounded), Mem_slope (less than 1), NT_val # 6 params...\n",
    "\n",
    "params = [20, .8, 5, .4, .1, 100]"
   ]
  },
  {
   "cell_type": "code",
   "execution_count": 3,
   "id": "c2c36a81-6034-455a-bc56-89bab05ff08e",
   "metadata": {},
   "outputs": [
    {
     "data": {
      "text/plain": [
       "44"
      ]
     },
     "execution_count": 3,
     "metadata": {},
     "output_type": "execute_result"
    }
   ],
   "source": [
    "8 + 8 + 4 + 4 + 8 + 12"
   ]
  },
  {
   "cell_type": "code",
   "execution_count": null,
   "id": "5fc4f1ab-d09e-49ef-a765-385eda5a9586",
   "metadata": {},
   "outputs": [],
   "source": []
  }
 ],
 "metadata": {
  "kernelspec": {
   "display_name": "Julia 1.9.1",
   "language": "julia",
   "name": "julia-1.9"
  },
  "language_info": {
   "file_extension": ".jl",
   "mimetype": "application/julia",
   "name": "julia",
   "version": "1.9.1"
  }
 },
 "nbformat": 4,
 "nbformat_minor": 5
}
