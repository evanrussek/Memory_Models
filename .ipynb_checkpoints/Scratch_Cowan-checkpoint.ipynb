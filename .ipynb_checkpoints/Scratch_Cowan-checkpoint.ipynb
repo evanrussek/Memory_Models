{
 "cells": [
  {
   "cell_type": "markdown",
   "id": "b7e6912f-05b4-4e4e-a02b-1c1ba678f8e8",
   "metadata": {},
   "source": [
    "### ALL Conditions:\n",
    "\n",
    "1-shape: (2 3 4 or 6 items) - just delayed forgetting / equal probe probs\n",
    "\n",
    "Attention conditions - precues with\n",
    "\n",
    "100%, 80/20, 50% X 4 item or 6 item (with probe probs being enhanced for some of them)\n",
    "\n",
    "### For all of these, you can just run for a ton of Time-Steps to remove the TS-per-sec parameters -- just get number of time-steps...\n",
    "\n",
    "\n",
    "\n",
    "\n"
   ]
  },
  {
   "cell_type": "code",
   "execution_count": 27,
   "id": "83ce8404-f5b0-4e1a-aa0e-28913c6be07f",
   "metadata": {},
   "outputs": [
    {
     "data": {
      "text/plain": [
       "sim_cowan_att (generic function with 1 method)"
      ]
     },
     "execution_count": 27,
     "metadata": {},
     "output_type": "execute_result"
    }
   ],
   "source": [
    "# part 1:\n",
    "# simulate the delayed memory episode at N_Obj = 2,3,4,6 obj under variety\n",
    "# of epsilon and N_Quanta... \n",
    "\n",
    "include(\"MDPModelFunctions2.jl\")"
   ]
  },
  {
   "cell_type": "code",
   "execution_count": 30,
   "id": "88491a8c-1c0d-4126-a483-e26626b0cfbb",
   "metadata": {},
   "outputs": [
    {
     "name": "stdout",
     "output_type": "stream",
     "text": [
      "2_Objects3_Objects4_Objects6_Objects"
     ]
    },
    {
     "data": {
      "text/plain": [
       "Dict{Any, Any} with 6 entries:\n",
       "  \"6_Objects\"  => [0.520365 0.53921; 0.52124 0.540644; … ; 0.520461 0.536396; 0…\n",
       "  \"4_Objects\"  => [0.52919 0.555467; 0.529318 0.555594; … ; 0.527539 0.548987; …\n",
       "  \"N_Trials\"   => 1000\n",
       "  \"mem_slopes\" => [0.05, 0.1]\n",
       "  \"3_Objects\"  => [0.538683 0.57284; 0.539022 0.573447; … ; 0.534839 0.561971; …\n",
       "  \"2_Objects\"  => [0.559067 0.608986; 0.559664 0.610238; … ; 0.558286 0.603679;…"
      ]
     },
     "execution_count": 30,
     "metadata": {},
     "output_type": "execute_result"
    }
   ],
   "source": [
    "N_Quanta = 5;\n",
    "epsilon = .5\n",
    "State_Hist_1_Shape = sim_cowan_1_shape(N_Quanta, epsilon; mem_slopes = [.05, .1], N_Trials = 1000, max_NT_per_sec = 800, return_full_hist = false)\n"
   ]
  },
  {
   "cell_type": "code",
   "execution_count": 31,
   "id": "13f204b5-9683-415f-8cf0-5254eea80300",
   "metadata": {},
   "outputs": [
    {
     "name": "stdout",
     "output_type": "stream",
     "text": [
      "CueR_1.0_N_Obj_Per_Shape_2 CueR_1.0_N_Obj_Per_Shape_3 CueR_0.8_N_Obj_Per_Shape_2 CueR_0.8_N_Obj_Per_Shape_3 CueR_0.5_N_Obj_Per_Shape_2 CueR_0.5_N_Obj_Per_Shape_3 "
     ]
    },
    {
     "data": {
      "text/plain": [
       "Dict{Any, Any} with 6 entries:\n",
       "  \"CueR_0.5_N_Obj_Per_Shape_2\" => [0.555805 0.556212; 0.555056 0.556343; … ; 0.…\n",
       "  \"CueR_0.8_N_Obj_Per_Shape_2\" => [0.558054 0.554019; 0.561791 0.549476; … ; 0.…\n",
       "  \"CueR_0.5_N_Obj_Per_Shape_3\" => [0.53859 0.539413; 0.537822 0.538642; … ; 0.5…\n",
       "  \"CueR_1.0_N_Obj_Per_Shape_2\" => [0.557129 0.556779; 0.562465 0.551623; … ; 0.…\n",
       "  \"CueR_1.0_N_Obj_Per_Shape_3\" => [0.536678 0.537535; 0.538844 0.534291; … ; 0.…\n",
       "  \"CueR_0.8_N_Obj_Per_Shape_3\" => [0.538313 0.54031; 0.541579 0.536192; … ; 0.5…"
      ]
     },
     "execution_count": 31,
     "metadata": {},
     "output_type": "execute_result"
    }
   ],
   "source": [
    "N_Quanta = 5;\n",
    "epsilon = .5\n",
    "State_Hist_Att = sim_cowan_att(N_Quanta, epsilon; N_Trials = 1000, max_NT_per_sec = 800, return_full_hist = false, mem_slopes = [.1, .2])\n"
   ]
  },
  {
   "cell_type": "code",
   "execution_count": 17,
   "id": "fbcc5510-0548-4903-bd72-5bdfaba63ffd",
   "metadata": {},
   "outputs": [
    {
     "data": {
      "text/plain": [
       "1600×2 Matrix{Float64}:\n",
       " 0.520844  0.540038\n",
       " 0.520646  0.539512\n",
       " 0.520811  0.539696\n",
       " 0.520326  0.538707\n",
       " 0.519845  0.537742\n",
       " 0.520134  0.538169\n",
       " 0.519721  0.537327\n",
       " 0.519785  0.537352\n",
       " 0.519496  0.536756\n",
       " 0.519665  0.537081\n",
       " 0.519836  0.537329\n",
       " 0.519753  0.537152\n",
       " 0.519972  0.537495\n",
       " ⋮         \n",
       " 0.52024   0.536002\n",
       " 0.52024   0.536002\n",
       " 0.52024   0.536002\n",
       " 0.52024   0.536002\n",
       " 0.52024   0.536002\n",
       " 0.52024   0.536002\n",
       " 0.52024   0.536002\n",
       " 0.52024   0.536002\n",
       " 0.52024   0.536002\n",
       " 0.52024   0.536002\n",
       " 0.52024   0.536002\n",
       " 0.52024   0.536002"
      ]
     },
     "execution_count": 17,
     "metadata": {},
     "output_type": "execute_result"
    }
   ],
   "source": [
    "p_rem = State_Hist_1_Shape[\"6_Objects\"]\n",
    "p_rem"
   ]
  },
  {
   "cell_type": "markdown",
   "id": "d2cd35f6-f942-48a0-b983-99d4aeba6366",
   "metadata": {},
   "source": [
    "Cowan 1 shape tests"
   ]
  },
  {
   "cell_type": "code",
   "execution_count": 31,
   "id": "2c2148ec-6811-43e2-8913-7c9386ecf700",
   "metadata": {},
   "outputs": [
    {
     "name": "stdout",
     "output_type": "stream",
     "text": [
      "2_Objects3_Objects4_Objects6_Objects"
     ]
    },
    {
     "data": {
      "text/plain": [
       "Dict{Any, Any} with 5 entries:\n",
       "  \"6_Objects\" => [2.0 1.0 … 1.0 1.0; 2.0 1.0 … 0.0 2.0; … ; 0.0 5.0 … 0.0 0.0; …\n",
       "  \"4_Objects\" => [1.0 2.0 1.0 1.0; 1.0 1.0 2.0 1.0; … ; 0.0 0.0 0.0 5.0; 0.0 0.…\n",
       "  \"N_Trials\"  => 1000\n",
       "  \"3_Objects\" => [2.0 0.0 3.0; 3.0 0.0 2.0; … ; 0.0 0.0 5.0; 0.0 0.0 5.0;;; 2.0…\n",
       "  \"2_Objects\" => [1.0 4.0; 1.0 4.0; … ; 5.0 0.0; 5.0 0.0;;; 5.0 0.0; 5.0 0.0; ……"
      ]
     },
     "execution_count": 31,
     "metadata": {},
     "output_type": "execute_result"
    }
   ],
   "source": [
    "\n",
    "### Simualte cowan 1 - shape\n",
    "\n",
    "function sim_cowan_1_shape_return_hist(N_Quanta, epsilon; N_trials = 1000, max_NT_per_sec = 800)\n",
    "\n",
    "    State_Hist_1_Shape = Dict()\n",
    "\n",
    "    State_Hist_1_Shape[\"N_Trials\"] = N_Trials\n",
    "\n",
    "    N_Sec = 2 # check whether this is correct\n",
    "    # max_NT_per_sec = 1000\n",
    "\n",
    "    N_Obj_Conds = [2,3,4,6]\n",
    "\n",
    "    N_n_obj_conds = length(N_Obj_Conds)\n",
    "\n",
    "    for obj_cond = 1:N_n_obj_conds\n",
    "\n",
    "        N_Objects = N_Obj_Conds[obj_cond]\n",
    "\n",
    "        cond_name = \"$(N_Objects)_Objects\"\n",
    "        print(cond_name)\n",
    "\n",
    "        sim_episode_fun = simulate_delayed_memory_episode;\n",
    "\n",
    "        N_TimeSteps_Pre = max_NT_per_sec*N_Sec\n",
    "        N_TimeSteps_Post = 0\n",
    "\n",
    "        # returns N_Timepoints X \n",
    "        State_Hist_1_Shape[cond_name] = simulate_task_return_state_hist(N_Quanta, N_Objects, epsilon, N_TimeSteps_Pre, N_TimeSteps_Post, N_Trials, sim_episode_fun; mem_slope = .1);\n",
    "    end\n",
    "    return State_Hist_1_Shape\n",
    "end\n",
    "\n",
    "\n",
    "N_Quanta = 5\n",
    "epsilon = .5\n",
    "\n",
    "sim_cowan_1_shape_return_hist(N_Quanta, epsilon)"
   ]
  },
  {
   "cell_type": "code",
   "execution_count": null,
   "id": "b22a628c-d934-4b0d-8cae-664de99a397f",
   "metadata": {},
   "outputs": [],
   "source": [
    "## Now do the multiple shape stuff\n",
    "\n",
    "# 100%, 80/20, 50% X 4 item or 6 item (with probe probs being enhanced for some of them)\n",
    "\n",
    "# so 3 attention X 2 attention conds to simualte\n",
    "\n",
    "# 100%, 80% 50% X 4 item or 6 item (with probe probs being enhanced for some of them)\n"
   ]
  },
  {
   "cell_type": "code",
   "execution_count": 27,
   "id": "7fa8b787-7462-4628-a676-98df5f5b600b",
   "metadata": {},
   "outputs": [
    {
     "data": {
      "text/plain": [
       "(2000, 6, 1000)"
      ]
     },
     "execution_count": 27,
     "metadata": {},
     "output_type": "execute_result"
    }
   ],
   "source": [
    "size(State_Hist_1_Shape[cond_name])"
   ]
  },
  {
   "cell_type": "code",
   "execution_count": 89,
   "id": "28b0c455-0cd5-48ef-a180-3ae3ac63a468",
   "metadata": {},
   "outputs": [
    {
     "data": {
      "text/plain": [
       "simulate_precue_episode_cowan (generic function with 1 method)"
      ]
     },
     "execution_count": 89,
     "metadata": {},
     "output_type": "execute_result"
    }
   ],
   "source": [
    "function simulate_precue_episode_cowan(N_Quanta, N_Objects_Total, epsilon, N_TimeSteps_Pre, N_TimeSteps_Post; cue_reliability = 1)\n",
    "    \n",
    "    \n",
    "    # N_Objects_Total = 2*N_Objects_Per_Shape\n",
    "    N_Objects = N_Objects_Total\n",
    "    \n",
    "    N_Objects_Per_Shape = Int(N_Objects_Total/2)\n",
    "    \n",
    "    object_probe_probs = zeros(N_Objects_Total)\n",
    "    object_probe_probs[1:N_Objects_Per_Shape] .= cue_reliability/N_Objects_Per_Shape\n",
    "    \n",
    "    object_probe_probs[N_Objects_Per_Shape+1:end] .= (1 - cue_reliability)/N_Objects_Per_Shape\n",
    "    \n",
    "   # print(object_probe_probs)\n",
    "   # print(N_B)\n",
    "    \n",
    "    # specify reward distr\n",
    "    exp_num_time_steps = 10\n",
    "    per_timestep_probe_prob = 1/exp_num_time_steps\n",
    "    \n",
    "    state_history, action_history = simulate_episode(N_Quanta, N_Objects, epsilon, N_TimeSteps_Post, object_probe_probs; s=0)\n",
    "    \n",
    "    return state_history\n",
    "    \n",
    "end\n",
    "\n",
    "\n"
   ]
  },
  {
   "cell_type": "code",
   "execution_count": 96,
   "id": "f24e7f58-eb55-490a-a68c-6d84c1c619f1",
   "metadata": {},
   "outputs": [
    {
     "name": "stdout",
     "output_type": "stream",
     "text": [
      "CueR_1.0_N_Obj_Per_Shape_2 CueR_1.0_N_Obj_Per_Shape_3 CueR_0.8_N_Obj_Per_Shape_2 CueR_0.8_N_Obj_Per_Shape_3 CueR_0.5_N_Obj_Per_Shape_2 CueR_0.5_N_Obj_Per_Shape_3 "
     ]
    },
    {
     "data": {
      "text/plain": [
       "Dict{Any, Any} with 6 entries:\n",
       "  \"CueR_0.5_N_Obj_Per_Shape_2\" => [1.0 2.0 1.0 1.0; 1.0 3.0 0.0 1.0; … ; 0.0 0.…\n",
       "  \"CueR_0.8_N_Obj_Per_Shape_2\" => [1.0 2.0 0.0 2.0; 2.0 2.0 0.0 1.0; … ; 5.0 0.…\n",
       "  \"CueR_0.5_N_Obj_Per_Shape_3\" => [1.0 1.0 … 0.0 2.0; 0.0 1.0 … 0.0 3.0; … ; 0.…\n",
       "  \"CueR_1.0_N_Obj_Per_Shape_2\" => [1.0 2.0 0.0 2.0; 1.0 2.0 0.0 2.0; … ; 0.0 5.…\n",
       "  \"CueR_1.0_N_Obj_Per_Shape_3\" => [0.0 2.0 … 1.0 1.0; 0.0 2.0 … 1.0 1.0; … ; 0.…\n",
       "  \"CueR_0.8_N_Obj_Per_Shape_3\" => [1.0 0.0 … 0.0 0.0; 1.0 0.0 … 0.0 0.0; … ; 0.…"
      ]
     },
     "execution_count": 96,
     "metadata": {},
     "output_type": "execute_result"
    }
   ],
   "source": [
    "# This can take 20-30 seconds...\n",
    "function sim_cowan_att_return_hist(N_Quanta, epsilon; N_trials = 1000, max_NT_per_sec = 800)\n",
    "\n",
    "    # These are all post cue - though sometimes the cue is uninformative... (then this should basically reduce to the one-shape case)\n",
    "    \n",
    "    N_Sec = 2\n",
    "    N_TimeSteps_Pre = 0\n",
    "    N_TimeSteps_Post = max_NT_per_sec*N_Sec\n",
    "    \n",
    "    CueR_Conds = [1., .8, .5]\n",
    "    N_CueR_Conds = length(CueR_Conds)\n",
    "\n",
    "    N_Obj_Per_Shape_Conds = [2, 3]\n",
    "    N_N_Obj_Per_Shape_Conds = length(N_Obj_Per_Shape_Conds)\n",
    "\n",
    "    State_Hist_Att = Dict()\n",
    "\n",
    "    for Cuer_Cond_Idx = 1:N_CueR_Conds\n",
    "        for N_Obj_Per_Shape_Cond_Idx = 1:N_N_Obj_Per_Shape_Conds\n",
    "\n",
    "    # Cuer_Cond_Idx=1\n",
    "    # N_Obj_Per_Shape_Cond_Idx=2\n",
    "            CueR = CueR_Conds[Cuer_Cond_Idx]\n",
    "            N_Obj_Per_Shape = N_Obj_Per_Shape_Conds[N_Obj_Per_Shape_Cond_Idx]\n",
    "\n",
    "            N_Objects_Total = 2*N_Obj_Per_Shape;\n",
    "\n",
    "            cond_name = \"CueR_$(CueR)_N_Obj_Per_Shape_$(N_Obj_Per_Shape)\"\n",
    "            print(string(cond_name, \" \"))\n",
    "\n",
    "            sim_episode_fun = simulate_precue_episode_cowan;\n",
    "\n",
    "\n",
    "\n",
    "            State_Hist_Att[cond_name] = simulate_task_return_state_hist(N_Quanta, N_Objects_Total, epsilon, N_TimeSteps_Pre, N_TimeSteps_Post, N_Trials, sim_episode_fun; cue_reliability = CueR);\n",
    "        end\n",
    "    end\n",
    "    return State_Hist_Att\n",
    "end\n",
    "\n",
    "N_Quanta = 5\n",
    "epsilon = .5\n",
    "\n",
    "State_Hist_Att = sim_cowan_att_return_hist(N_Quanta, epsilon)"
   ]
  },
  {
   "cell_type": "code",
   "execution_count": 93,
   "id": "1f6cfcc8-e6d5-493d-907c-71204e197063",
   "metadata": {},
   "outputs": [
    {
     "data": {
      "text/plain": [
       "Dict{Any, Any} with 6 entries:\n",
       "  \"CueR_0.5_N_Obj_Per_Shape_2\" => [1.0 1.0 2.0 1.0; 0.0 2.0 2.0 1.0; … ; 0.0 0.…\n",
       "  \"CueR_0.8_N_Obj_Per_Shape_2\" => [1.0 2.0 1.0 1.0; 1.0 2.0 1.0 1.0; … ; 0.0 5.…\n",
       "  \"CueR_0.5_N_Obj_Per_Shape_3\" => [0.0 2.0 … 1.0 0.0; 0.0 1.0 … 2.0 0.0; … ; 0.…\n",
       "  \"CueR_1.0_N_Obj_Per_Shape_2\" => [2.0 1.0 1.0 1.0; 1.0 2.0 1.0 1.0; … ; 0.0 5.…\n",
       "  \"CueR_1.0_N_Obj_Per_Shape_3\" => [0.0 1.0 … 2.0 1.0; 0.0 2.0 … 2.0 0.0; … ; 0.…\n",
       "  \"CueR_0.8_N_Obj_Per_Shape_3\" => [1.0 0.0 … 0.0 1.0; 1.0 0.0 … 0.0 1.0; … ; 0.…"
      ]
     },
     "execution_count": 93,
     "metadata": {},
     "output_type": "execute_result"
    }
   ],
   "source": [
    "State_Hist_Att"
   ]
  },
  {
   "cell_type": "code",
   "execution_count": 52,
   "id": "6590aa75-c287-45d0-a823-5a795f5b472c",
   "metadata": {},
   "outputs": [
    {
     "data": {
      "text/plain": [
       "0×6 Matrix{Float64}"
      ]
     },
     "execution_count": 52,
     "metadata": {},
     "output_type": "execute_result"
    }
   ],
   "source": [
    "simulate_precue_episode_cowan(N_Quanta, N_Objects_Per_Shape, epsilon, N_TimeSteps_Pre, N_TimeSteps_Post; cue_reliability = 1)"
   ]
  },
  {
   "cell_type": "code",
   "execution_count": 45,
   "id": "5471e4d0-9bb8-410e-b1e0-3b25bcd8b632",
   "metadata": {},
   "outputs": [
    {
     "data": {
      "text/plain": [
       "1.0"
      ]
     },
     "execution_count": 45,
     "metadata": {},
     "output_type": "execute_result"
    }
   ],
   "source": [
    "sum(object_probe_probs)"
   ]
  },
  {
   "cell_type": "code",
   "execution_count": null,
   "id": "3c81a0b5-5fea-4340-8302-8f1d8aeac648",
   "metadata": {},
   "outputs": [],
   "source": [
    "\""
   ]
  }
 ],
 "metadata": {
  "kernelspec": {
   "display_name": "Julia 1.9.1",
   "language": "julia",
   "name": "julia-1.9"
  },
  "language_info": {
   "file_extension": ".jl",
   "mimetype": "application/julia",
   "name": "julia",
   "version": "1.9.1"
  }
 },
 "nbformat": 4,
 "nbformat_minor": 5
}
