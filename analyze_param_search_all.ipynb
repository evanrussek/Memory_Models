{
 "cells": [
  {
   "cell_type": "code",
   "execution_count": 1,
   "id": "2ce457ab-63c0-4549-bf31-c60fa709dc28",
   "metadata": {},
   "outputs": [
    {
     "name": "stderr",
     "output_type": "stream",
     "text": [
      "\u001b[32m\u001b[1m    CondaPkg \u001b[22m\u001b[39m\u001b[0mFound dependencies: /Users/erussek/.julia/packages/PythonCall/wXfah/CondaPkg.toml\n",
      "\u001b[32m\u001b[1m    CondaPkg \u001b[22m\u001b[39m\u001b[0mFound dependencies: /Users/erussek/.julia/packages/PythonPlot/f591M/CondaPkg.toml\n",
      "\u001b[32m\u001b[1m    CondaPkg \u001b[22m\u001b[39m\u001b[0mDependencies already up to date\n"
     ]
    },
    {
     "data": {
      "text/plain": [
       "plot_over_time_exp2 (generic function with 1 method)"
      ]
     },
     "execution_count": 1,
     "metadata": {},
     "output_type": "execute_result"
    }
   ],
   "source": [
    "using JLD2\n",
    "using PythonPlot\n",
    "include(\"MDPModelFunctions2.jl\")"
   ]
  },
  {
   "cell_type": "code",
   "execution_count": null,
   "id": "4ab4ed18-aaa1-4376-8bca-e7d2f5eef473",
   "metadata": {},
   "outputs": [],
   "source": [
    "# experiment 1....\n",
    "\n",
    "# row is 2 obj vs 4 obj\n",
    "# col is pre-cue, neutral, retro-cue, neutral\n",
    "\n",
    "exp1_cowan_k_true_7_yr = [1.16 1.14 1.13 1.02; 2.80 .91 1.30 .96]\n",
    "exp1_cowan_k_true_adult = [1.98 1.94 1.97 1.95; 3.87 2.66 3.64 2.87]\n",
    "\n",
    "# experiment 2\n",
    "# col is IM cued, IM neutral, VSTM cued, VSTM neutral\n",
    "\n",
    "exp2_cowan_k_true_7_yr = [1.55 1.16 1.00 0.69]\n",
    "exp2_cowan_k_true_7_adult = [3.54 2.58 3.58 2.65]\n",
    "\n",
    "\n",
    "# experiment 3\n",
    "\n",
    "# Load 3 cued, Load 3 Neutral, Load 6 cued, Load 6 neutral\n",
    "IM_true_7_yr = [1.44 1.27 1.82 0.88]\n",
    "Short_VSTM_true_7_yr = [1.14 0.77]\n",
    "Long_VSTM_true_7_yr = [1.19 0.90]\n",
    "\n",
    "IM_true_adult = [2.63 2.41 4.80 2.46]\n",
    "Short_VSTM_true_adult = [2.75 2.38 3.97 2.15]\n",
    "Long_VSTM_true_adult = [2.76 2.30 3.65 1.75]"
   ]
  },
  {
   "cell_type": "code",
   "execution_count": 32,
   "id": "ebc6ad52-aace-4da0-95bb-43a8d49f97bf",
   "metadata": {},
   "outputs": [
    {
     "data": {
      "text/plain": [
       "load_results (generic function with 2 methods)"
      ]
     },
     "execution_count": 32,
     "metadata": {},
     "output_type": "execute_result"
    }
   ],
   "source": [
    "to_save_folder = \"/home/erussek/projects/Memory_Models/shimi_1_run1\"\n",
    "\n",
    "function load_results(epsilon, N_Quanta, NT_per_Second; exp_num = 2, on_cluster = false)\n",
    "    \n",
    "    if on_cluster\n",
    "        to_save_folder = \"/home/erussek/projects/Memory_Models/shimi_all_parameter_search\"\n",
    "    else\n",
    "        to_save_folder = \"/Users/erussek/Dropbox/Griffiths_Lab_Stuff/code/Memory_Models/shimi_all_parameter_search/exp$(exp_num)\"\n",
    "    end\n",
    "    \n",
    "    local file_name = \"N_Quanta_$(N_Quanta)_epsilon_$(epsilon)_NT_per_Second_$(NT_per_Second).jld2\"\n",
    "    \n",
    "    local full_file_path = joinpath(to_save_folder,file_name)\n",
    "\n",
    "    res = load(full_file_path)\n",
    "    print(res)\n",
    "    \n",
    "    return res[\"job_res_$(exp_num)\"]\n",
    "end\n"
   ]
  },
  {
   "cell_type": "code",
   "execution_count": 33,
   "id": "c2b86401-ae83-4cc4-b761-554586f6a819",
   "metadata": {},
   "outputs": [
    {
     "data": {
      "text/plain": [
       "3360"
      ]
     },
     "execution_count": 33,
     "metadata": {},
     "output_type": "execute_result"
    }
   ],
   "source": [
    "eps_vals = 0:.05:1\n",
    "\n",
    "# quanta values\n",
    "q_vals = 2:2:80\n",
    "\n",
    "# \n",
    "NT_vals = [100, 200, 400, 800]\n",
    "\n",
    "job_eps = []\n",
    "job_q = []\n",
    "job_nt = []\n",
    "\n",
    "for ep in eps_vals\n",
    "    for q in q_vals\n",
    "        for nt in NT_vals\n",
    "            \n",
    "            push!(job_eps, ep)\n",
    "            push!(job_q, q)\n",
    "            push!(job_nt, nt)\n",
    "            \n",
    "        end\n",
    "    end\n",
    "end\n",
    "\n",
    "n_jobs_total = length(job_nt)"
   ]
  },
  {
   "cell_type": "code",
   "execution_count": 45,
   "id": "b40462c5-9797-4079-9aad-da29cce5d86e",
   "metadata": {},
   "outputs": [
    {
     "name": "stdout",
     "output_type": "stream",
     "text": [
      "Dict{String, Any}(\"job_res_3\" => (0.5433482498225836, 0.5822551485141131, 0.5445197559347152, 0.5806067487442911))"
     ]
    },
    {
     "data": {
      "text/plain": [
       "(0.5433482498225836, 0.5822551485141131, 0.5445197559347152, 0.5806067487442911)"
      ]
     },
     "execution_count": 45,
     "metadata": {},
     "output_type": "execute_result"
    }
   ],
   "source": [
    "job_idx = 5\n",
    "epsilon = job_eps[job_idx]\n",
    "N_Quanta = job_q[job_idx]\n",
    "NT_per_Second = job_nt[job_idx]\n",
    "\n",
    "a = load_results(epsilon, N_Quanta, NT_per_Second; exp_num = 3, on_cluster = false)"
   ]
  },
  {
   "cell_type": "code",
   "execution_count": 40,
   "id": "ff4523c1-be0e-4707-83f7-af1970a71328",
   "metadata": {},
   "outputs": [
    {
     "data": {
      "text/plain": [
       "(0.5465040733785957, 0.5858816280077213, 0.5432921460848825, 0.5804419087673088)"
      ]
     },
     "execution_count": 40,
     "metadata": {},
     "output_type": "execute_result"
    }
   ],
   "source": [
    "a"
   ]
  },
  {
   "cell_type": "code",
   "execution_count": null,
   "id": "fb9ce95f-b207-47ae-baba-ea15060b3f2a",
   "metadata": {},
   "outputs": [],
   "source": []
  },
  {
   "cell_type": "code",
   "execution_count": null,
   "id": "7ba5d17a-5ab8-4d86-8c47-5bccf335a664",
   "metadata": {},
   "outputs": [],
   "source": []
  }
 ],
 "metadata": {
  "kernelspec": {
   "display_name": "Julia 1.9.1",
   "language": "julia",
   "name": "julia-1.9"
  },
  "language_info": {
   "file_extension": ".jl",
   "mimetype": "application/julia",
   "name": "julia",
   "version": "1.9.1"
  }
 },
 "nbformat": 4,
 "nbformat_minor": 5
}
