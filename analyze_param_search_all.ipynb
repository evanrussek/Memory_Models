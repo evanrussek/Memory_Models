{
 "cells": [
  {
   "cell_type": "code",
   "execution_count": 76,
   "id": "2ce457ab-63c0-4549-bf31-c60fa709dc28",
   "metadata": {},
   "outputs": [
    {
     "data": {
      "text/plain": [
       "plot_over_time_exp2 (generic function with 1 method)"
      ]
     },
     "execution_count": 76,
     "metadata": {},
     "output_type": "execute_result"
    }
   ],
   "source": [
    "using JLD2\n",
    "using PythonPlot\n",
    "include(\"MDPModelFunctions2.jl\")"
   ]
  },
  {
   "cell_type": "code",
   "execution_count": 47,
   "id": "4ab4ed18-aaa1-4376-8bca-e7d2f5eef473",
   "metadata": {},
   "outputs": [
    {
     "data": {
      "text/plain": [
       "1×4 Matrix{Float64}:\n",
       " 2.76  2.3  3.65  1.75"
      ]
     },
     "execution_count": 47,
     "metadata": {},
     "output_type": "execute_result"
    }
   ],
   "source": [
    "# experiment 1....\n",
    "\n",
    "# row is 2 obj vs 4 obj\n",
    "# col is pre-cue, neutral, retro-cue, neutral\n",
    "\n",
    "exp1_cowan_k_true_7_yr = [1.16 1.14 1.13 1.02; 2.80 .91 1.30 .96]\n",
    "exp1_cowan_k_true_adult = [1.98 1.94 1.97 1.95; 3.87 2.66 3.64 2.87]\n",
    "\n",
    "# experiment 2 - 4 objects\n",
    "# col is IM cued, IM neutral, VSTM cued, VSTM neutral\n",
    "\n",
    "exp2_cowan_k_true_7_yr = [1.55 1.16 1.00 0.69]\n",
    "exp2_cowan_k_true_7_adult = [3.54 2.58 3.58 2.65]\n",
    "\n",
    "\n",
    "# experiment 3\n",
    "\n",
    "# Load 3 cued, Load 3 Neutral, Load 6 cued, Load 6 neutral\n",
    "IM_true_7_yr = [1.44 1.27 1.82 0.88]\n",
    "Short_VSTM_true_7_yr = [1.14 0.77]\n",
    "Long_VSTM_true_7_yr = [1.19 0.90]\n",
    "\n",
    "IM_true_adult = [2.63 2.41 4.80 2.46]\n",
    "Short_VSTM_true_adult = [2.75 2.38 3.97 2.15]\n",
    "Long_VSTM_true_adult = [2.76 2.30 3.65 1.75]"
   ]
  },
  {
   "cell_type": "code",
   "execution_count": 70,
   "id": "ebc6ad52-aace-4da0-95bb-43a8d49f97bf",
   "metadata": {},
   "outputs": [
    {
     "ename": "LoadError",
     "evalue": "syntax: incomplete: \"function\" at In[70]:21 requires end",
     "output_type": "error",
     "traceback": [
      "syntax: incomplete: \"function\" at In[70]:21 requires end",
      "",
      "Stacktrace:",
      " [1] top-level scope",
      "   @ In[70]:21"
     ]
    }
   ],
   "source": [
    "to_save_folder = \"/home/erussek/projects/Memory_Models/shimi_1_run1\"\n",
    "\n",
    "function load_results(epsilon, N_Quanta, NT_per_Second; exp_num = 2, on_cluster = false)\n",
    "    \n",
    "    if on_cluster\n",
    "        to_save_folder = \"/home/erussek/projects/Memory_Models/shimi_all_parameter_search\"\n",
    "    else\n",
    "        to_save_folder = \"/Users/erussek/Dropbox/Griffiths_Lab_Stuff/code/Memory_Models/shimi_all_parameter_search/exp$(exp_num)\"\n",
    "    end\n",
    "    \n",
    "    local file_name = \"N_Quanta_$(N_Quanta)_epsilon_$(epsilon)_NT_per_Second_$(NT_per_Second).jld2\"\n",
    "    \n",
    "    local full_file_path = joinpath(to_save_folder,file_name)\n",
    "\n",
    "    res = load(full_file_path)\n",
    "    print(res)\n",
    "    \n",
    "    return res[\"job_res_$(exp_num)\"]\n",
    "end\n",
    "\n",
    "function get_model_cowan_k(res; exp_num = 1)\n",
    "    \n",
    "    if exp_num == 1\n",
    "    \n",
    "        # row is 2 obj vs 4 obj\n",
    "        # col is pre-cue, neutral, retro-cue, neutral\n",
    "        \n",
    "        part_pcorr = res;\n",
    "        model_cowan_p_corr = [part_pcorr; part_pcorr[2,:]']'\n",
    "        model_cowan_k = cowan_k(model_cowan_p_corr, 2)\n",
    "        model_cowan_k[2,:] = cowan_k(model_cowan_p_corr[2,:], 4)\n",
    "        \n",
    "    elseif exp_num == 2\n",
    "        \n",
    "        model_cowan_k = cowan_k(collect(res)',4)\n",
    "        \n",
    "    return model_cowan_k\n",
    "        \n",
    "    \n",
    "end\n",
    "\n",
    "\n"
   ]
  },
  {
   "cell_type": "code",
   "execution_count": 49,
   "id": "c2b86401-ae83-4cc4-b761-554586f6a819",
   "metadata": {},
   "outputs": [
    {
     "data": {
      "text/plain": [
       "3360"
      ]
     },
     "execution_count": 49,
     "metadata": {},
     "output_type": "execute_result"
    }
   ],
   "source": [
    "eps_vals = 0:.05:1\n",
    "\n",
    "# quanta values\n",
    "q_vals = 2:2:80\n",
    "\n",
    "# \n",
    "NT_vals = [100, 200, 400, 800]\n",
    "\n",
    "job_eps = []\n",
    "job_q = []\n",
    "job_nt = []\n",
    "\n",
    "for ep in eps_vals\n",
    "    for q in q_vals\n",
    "        for nt in NT_vals\n",
    "            \n",
    "            push!(job_eps, ep)\n",
    "            push!(job_q, q)\n",
    "            push!(job_nt, nt)\n",
    "            \n",
    "        end\n",
    "    end\n",
    "end\n",
    "\n",
    "n_jobs_total = length(job_nt)"
   ]
  },
  {
   "cell_type": "code",
   "execution_count": 60,
   "id": "b40462c5-9797-4079-9aad-da29cce5d86e",
   "metadata": {},
   "outputs": [
    {
     "name": "stdout",
     "output_type": "stream",
     "text": [
      "Dict{String, Any}(\"job_res_2\" => (0.5448939664855224, 0.5853871080767746, 0.5453970943912008, 0.5876948677545254))"
     ]
    },
    {
     "data": {
      "text/plain": [
       "(0.5448939664855224, 0.5853871080767746, 0.5453970943912008, 0.5876948677545254)"
      ]
     },
     "execution_count": 60,
     "metadata": {},
     "output_type": "execute_result"
    }
   ],
   "source": [
    "job_idx = 5\n",
    "epsilon = job_eps[job_idx]\n",
    "N_Quanta = job_q[job_idx]\n",
    "NT_per_Second = job_nt[job_idx]\n",
    "\n",
    "a = load_results(epsilon, N_Quanta, NT_per_Second; exp_num = 2, on_cluster = false)\n",
    "#b = get_model_cowan_k(a)"
   ]
  },
  {
   "cell_type": "code",
   "execution_count": 69,
   "id": "ff4523c1-be0e-4707-83f7-af1970a71328",
   "metadata": {},
   "outputs": [
    {
     "data": {
      "text/plain": [
       "1×4 Matrix{Float64}:\n",
       " 0.359152  0.683097  0.363177  0.701559"
      ]
     },
     "execution_count": 69,
     "metadata": {},
     "output_type": "execute_result"
    }
   ],
   "source": [
    "cowan_k(collect(a)',4)"
   ]
  },
  {
   "cell_type": "code",
   "execution_count": 77,
   "id": "fb9ce95f-b207-47ae-baba-ea15060b3f2a",
   "metadata": {},
   "outputs": [
    {
     "data": {
      "text/plain": [
       "([0.5608030159440913 0.5595760533333937 … 0.5588693111651181 0.5597058636900717; 0.53158824667813 0.5311536307913209 … 0.5311453078672993 0.5320556075853093], [0.5606577755593036 0.5616057567459085 … 0.6058272652225665 0.6058272652225665; 0.5299876881675327 0.5295778665343496 … 0.55192459274939 0.55192459274939], [0.5590524291219604 0.5600546022277211 … 0.5599299058648461 0.5592328584126205; 0.5322104696349552 0.5309827819295119 … 0.5309939389695694 0.5302394643163519], [0.5596431409569618 0.5602893861970517 … 0.605497585268602 0.605497585268602; 0.5300502624689075 0.5299600732419304 … 0.5499465130256037 0.5499465130256037], [0.5608346159802613 0.5617741157249635 … 0.5605579904616566 0.5603201557981878; 0.5289455405206883 0.5289381508853921 … 0.5298218686005269 0.529327728338794], [0.5623375222289123 0.5624482291706189 … 0.6101131046241034 0.6101131046241034; 0.5310798726123843 0.5311097156743976 … 0.5555510722429982 0.5555510722429982])"
      ]
     },
     "execution_count": 77,
     "metadata": {},
     "output_type": "execute_result"
    }
   ],
   "source": [
    "a = sim_exp3(epsilon, N_Quanta, NT_per_Second; return_last_only=false)"
   ]
  },
  {
   "cell_type": "code",
   "execution_count": 75,
   "id": "7ba5d17a-5ab8-4d86-8c47-5bccf335a664",
   "metadata": {},
   "outputs": [
    {
     "data": {
      "text/plain": [
       "2×70 Matrix{Float64}:\n",
       " 0.559493  0.558569  0.557435  0.557971  …  0.558107  0.558365  0.55774\n",
       " 0.532329  0.531887  0.530532  0.530232     0.53023   0.529182  0.529305"
      ]
     },
     "execution_count": 75,
     "metadata": {},
     "output_type": "execute_result"
    }
   ],
   "source": [
    "a[1]"
   ]
  },
  {
   "cell_type": "code",
   "execution_count": null,
   "id": "633321c7-7117-4259-8a94-3adcc0068b0b",
   "metadata": {},
   "outputs": [],
   "source": []
  }
 ],
 "metadata": {
  "kernelspec": {
   "display_name": "Julia 1.9.1",
   "language": "julia",
   "name": "julia-1.9"
  },
  "language_info": {
   "file_extension": ".jl",
   "mimetype": "application/julia",
   "name": "julia",
   "version": "1.9.1"
  }
 },
 "nbformat": 4,
 "nbformat_minor": 5
}
