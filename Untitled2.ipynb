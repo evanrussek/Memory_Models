{
 "cells": [
  {
   "cell_type": "code",
   "execution_count": 9,
   "id": "a744efcf-388e-493a-9cd1-32fba6361a16",
   "metadata": {},
   "outputs": [],
   "source": [
    "#using BenchmarkTools\n",
    "#@time include(\"shimi_1_parameter_search.jl\")"
   ]
  },
  {
   "cell_type": "code",
   "execution_count": 10,
   "id": "1598bb8a-d7cd-4a75-a4c0-580bd043b01c",
   "metadata": {},
   "outputs": [
    {
     "data": {
      "text/plain": [
       "180.0"
      ]
     },
     "execution_count": 10,
     "metadata": {},
     "output_type": "execute_result"
    }
   ],
   "source": [
    "360/2"
   ]
  },
  {
   "cell_type": "code",
   "execution_count": 4,
   "id": "3e414e86-626a-4af1-86da-ec3af8bda5b8",
   "metadata": {},
   "outputs": [
    {
     "name": "stderr",
     "output_type": "stream",
     "text": [
      "\u001b[32m\u001b[1m   Resolving\u001b[22m\u001b[39m package versions...\n",
      "\u001b[32m\u001b[1m    Updating\u001b[22m\u001b[39m `~/Dropbox/Griffiths_Lab_Stuff/Code/Memory_Models/Project.toml`\n",
      "  \u001b[90m[6e4b80f9] \u001b[39m\u001b[92m+ BenchmarkTools v1.3.2\u001b[39m\n",
      "\u001b[32m\u001b[1m    Updating\u001b[22m\u001b[39m `~/Dropbox/Griffiths_Lab_Stuff/Code/Memory_Models/Manifest.toml`\n",
      "  \u001b[90m[6e4b80f9] \u001b[39m\u001b[92m+ BenchmarkTools v1.3.2\u001b[39m\n",
      "  \u001b[90m[9abbd945] \u001b[39m\u001b[92m+ Profile\u001b[39m\n",
      "\u001b[32m\u001b[1mPrecompiling\u001b[22m\u001b[39m project...\n",
      "\u001b[32m  ✓ \u001b[39mBenchmarkTools\n",
      "  1 dependency successfully precompiled in 1 seconds. 221 already precompiled. 1 skipped during auto due to previous errors.\n"
     ]
    }
   ],
   "source": [
    "# using BenchmarkTools\n",
    "using Pkg;\n",
    "Pkg.add(\"BenchmarkTools\")"
   ]
  },
  {
   "cell_type": "code",
   "execution_count": 2,
   "id": "cbbeb0e4-f584-49af-980d-6d28bc85172b",
   "metadata": {},
   "outputs": [
    {
     "data": {
      "text/plain": [
       "360"
      ]
     },
     "execution_count": 2,
     "metadata": {},
     "output_type": "execute_result"
    }
   ],
   "source": [
    "60*6"
   ]
  },
  {
   "cell_type": "code",
   "execution_count": 3,
   "id": "d4aa676b-b46c-4247-817c-503eecd63195",
   "metadata": {},
   "outputs": [
    {
     "data": {
      "text/plain": [
       "7"
      ]
     },
     "execution_count": 3,
     "metadata": {},
     "output_type": "execute_result"
    }
   ],
   "source": [
    "\n",
    "n_jobs_per_run = 360 # should be about 30 minutes...\n",
    "\n",
    "n_runs = Int(ceil(n_jobs_total/n_jobs_per_run)) # 7 runs for ~30 minutes"
   ]
  },
  {
   "cell_type": "code",
   "execution_count": null,
   "id": "bc9bf7ba-b4da-4ab2-a158-9f1a899a08c9",
   "metadata": {},
   "outputs": [],
   "source": [
    "using Pkg\n",
    "Pkg.instantiate()"
   ]
  },
  {
   "cell_type": "code",
   "execution_count": 1,
   "id": "2053d99a-bbb2-444f-ad8a-b44426719445",
   "metadata": {},
   "outputs": [
    {
     "ename": "LoadError",
     "evalue": "UndefVarError: `jobs_per_run` not defined",
     "output_type": "error",
     "traceback": [
      "UndefVarError: `jobs_per_run` not defined",
      "",
      "Stacktrace:",
      " [1] top-level scope",
      "   @ In[1]:1"
     ]
    }
   ],
   "source": [
    "size(jobs_per_run)"
   ]
  },
  {
   "cell_type": "code",
   "execution_count": 3,
   "id": "f80f91e2-9e89-4a4c-b0a2-0a698a9e63d8",
   "metadata": {},
   "outputs": [
    {
     "ename": "LoadError",
     "evalue": "UndefVarError: `job_nt` not defined",
     "output_type": "error",
     "traceback": [
      "UndefVarError: `job_nt` not defined",
      "",
      "Stacktrace:",
      " [1] top-level scope",
      "   @ In[3]:2"
     ]
    }
   ],
   "source": [
    "\n",
    "n_jobs_total = length(job_nt)\n",
    "\n",
    "n_jobs_per_run = 360 # should be about 30 minutes...\n",
    "\n",
    "n_runs = Int(ceil(n_jobs_total/n_jobs_per_run))\n",
    "\n",
    "# run_job_idx = \n",
    "\n",
    "jobs_per_run = reshape(Vector(1:(n_jobs_per_run*n_runs)), (n_jobs_per_run, n_runs))'"
   ]
  },
  {
   "cell_type": "code",
   "execution_count": 6,
   "id": "06d80c6e-32e5-4010-874c-54b96edeae58",
   "metadata": {},
   "outputs": [
    {
     "name": "stdout",
     "output_type": "stream",
     "text": [
      "N_Jobs_Total: 2520\n"
     ]
    },
    {
     "data": {
      "text/plain": [
       "7×360 adjoint(::Matrix{Int64}) with eltype Int64:\n",
       "    1     2     3     4     5     6  …   355   356   357   358   359   360\n",
       "  361   362   363   364   365   366      715   716   717   718   719   720\n",
       "  721   722   723   724   725   726     1075  1076  1077  1078  1079  1080\n",
       " 1081  1082  1083  1084  1085  1086     1435  1436  1437  1438  1439  1440\n",
       " 1441  1442  1443  1444  1445  1446     1795  1796  1797  1798  1799  1800\n",
       " 1801  1802  1803  1804  1805  1806  …  2155  2156  2157  2158  2159  2160\n",
       " 2161  2162  2163  2164  2165  2166     2515  2516  2517  2518  2519  2520"
      ]
     },
     "execution_count": 6,
     "metadata": {},
     "output_type": "execute_result"
    }
   ],
   "source": [
    "\n",
    "## Specify parameters for each job...\n",
    "# 21 epsilon values\n",
    "eps_vals = 0:.05:1\n",
    "\n",
    "# quanta values\n",
    "q_vals = 2:2:40\n",
    "\n",
    "# \n",
    "NT_vals = [25, 50, 100, 200, 400, 800]\n",
    "\n",
    "job_eps = []\n",
    "job_q = []\n",
    "job_nt = []\n",
    "\n",
    "for ep in eps_vals\n",
    "    for q in q_vals\n",
    "        for nt in NT_vals\n",
    "            push!(job_eps, ep)\n",
    "            push!(job_q, q)\n",
    "            push!(job_nt, nt)\n",
    "        end\n",
    "    end\n",
    "end\n",
    "\n",
    "n_jobs_total = length(job_nt)\n",
    "\n",
    "println(\"N_Jobs_Total: $n_jobs_total\")\n",
    "\n",
    "n_jobs_per_run = 360 # should be about 30 minutes...\n",
    "\n",
    "n_runs = Int(ceil(n_jobs_total/n_jobs_per_run))\n",
    "jobs_per_run = reshape(Vector(1:(n_jobs_per_run*n_runs)), (n_jobs_per_run, n_runs))'\n"
   ]
  },
  {
   "cell_type": "code",
   "execution_count": 5,
   "id": "1bccf429-5d4a-40cf-b115-5ade7bb0e34d",
   "metadata": {},
   "outputs": [
    {
     "ename": "LoadError",
     "evalue": "UndefVarError: `jobs_per_runs` not defined",
     "output_type": "error",
     "traceback": [
      "UndefVarError: `jobs_per_runs` not defined",
      "",
      "Stacktrace:",
      " [1] top-level scope",
      "   @ In[5]:1"
     ]
    }
   ],
   "source": [
    "size(jobs_per_runs)"
   ]
  },
  {
   "cell_type": "code",
   "execution_count": null,
   "id": "6be083c6-1dfb-4332-a72c-af518a68e301",
   "metadata": {},
   "outputs": [],
   "source": []
  }
 ],
 "metadata": {
  "kernelspec": {
   "display_name": "Julia 1.9.1",
   "language": "julia",
   "name": "julia-1.9"
  },
  "language_info": {
   "file_extension": ".jl",
   "mimetype": "application/julia",
   "name": "julia",
   "version": "1.9.1"
  }
 },
 "nbformat": 4,
 "nbformat_minor": 5
}
