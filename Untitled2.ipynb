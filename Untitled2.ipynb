{
 "cells": [
  {
   "cell_type": "code",
   "execution_count": 1,
   "id": "a744efcf-388e-493a-9cd1-32fba6361a16",
   "metadata": {},
   "outputs": [
    {
     "name": "stdout",
     "output_type": "stream",
     "text": [
      "N_Jobs_Total: 2520\n",
      "Job: 19, N_Quanta: 8, epsilon: 0.0, NT_per_Second: 25\n",
      "Job: 20, N_Quanta: 8, epsilon: 0.0, NT_per_Second: 50\n",
      "Job: 21, N_Quanta: 8, epsilon: 0.0, NT_per_Second: 100\n",
      "Job: 22, N_Quanta: 8, epsilon: 0.0, NT_per_Second: 200\n",
      "Job: 23, N_Quanta: 8, epsilon: 0.0, NT_per_Second: 400\n",
      "Job: 24, N_Quanta: 8, epsilon: 0.0, NT_per_Second: 800\n",
      " 31.491326 seconds (1.02 G allocations: 69.190 GiB, 13.84% gc time, 5.71% compilation time: 3% of which was recompilation)\n"
     ]
    }
   ],
   "source": [
    "using BenchmarkTools\n",
    "@time include(\"shimi_1_parameter_search.jl\")"
   ]
  },
  {
   "cell_type": "code",
   "execution_count": 4,
   "id": "3e414e86-626a-4af1-86da-ec3af8bda5b8",
   "metadata": {},
   "outputs": [
    {
     "name": "stderr",
     "output_type": "stream",
     "text": [
      "\u001b[32m\u001b[1m   Resolving\u001b[22m\u001b[39m package versions...\n",
      "\u001b[32m\u001b[1m    Updating\u001b[22m\u001b[39m `~/Dropbox/Griffiths_Lab_Stuff/Code/Memory_Models/Project.toml`\n",
      "  \u001b[90m[6e4b80f9] \u001b[39m\u001b[92m+ BenchmarkTools v1.3.2\u001b[39m\n",
      "\u001b[32m\u001b[1m    Updating\u001b[22m\u001b[39m `~/Dropbox/Griffiths_Lab_Stuff/Code/Memory_Models/Manifest.toml`\n",
      "  \u001b[90m[6e4b80f9] \u001b[39m\u001b[92m+ BenchmarkTools v1.3.2\u001b[39m\n",
      "  \u001b[90m[9abbd945] \u001b[39m\u001b[92m+ Profile\u001b[39m\n",
      "\u001b[32m\u001b[1mPrecompiling\u001b[22m\u001b[39m project...\n",
      "\u001b[32m  ✓ \u001b[39mBenchmarkTools\n",
      "  1 dependency successfully precompiled in 1 seconds. 221 already precompiled. 1 skipped during auto due to previous errors.\n"
     ]
    }
   ],
   "source": [
    "# using BenchmarkTools\n",
    "using Pkg;\n",
    "Pkg.add(\"BenchmarkTools\")"
   ]
  },
  {
   "cell_type": "code",
   "execution_count": 2,
   "id": "cbbeb0e4-f584-49af-980d-6d28bc85172b",
   "metadata": {},
   "outputs": [
    {
     "data": {
      "text/plain": [
       "360"
      ]
     },
     "execution_count": 2,
     "metadata": {},
     "output_type": "execute_result"
    }
   ],
   "source": [
    "60*6"
   ]
  },
  {
   "cell_type": "code",
   "execution_count": 3,
   "id": "d4aa676b-b46c-4247-817c-503eecd63195",
   "metadata": {},
   "outputs": [
    {
     "data": {
      "text/plain": [
       "7"
      ]
     },
     "execution_count": 3,
     "metadata": {},
     "output_type": "execute_result"
    }
   ],
   "source": [
    "\n",
    "n_jobs_per_run = 360 # should be about 30 minutes...\n",
    "\n",
    "n_runs = Int(ceil(n_jobs_total/n_jobs_per_run)) # 7 runs for ~30 minutes"
   ]
  },
  {
   "cell_type": "code",
   "execution_count": null,
   "id": "bc9bf7ba-b4da-4ab2-a158-9f1a899a08c9",
   "metadata": {},
   "outputs": [],
   "source": []
  }
 ],
 "metadata": {
  "kernelspec": {
   "display_name": "Julia 1.9.1",
   "language": "julia",
   "name": "julia-1.9"
  },
  "language_info": {
   "file_extension": ".jl",
   "mimetype": "application/julia",
   "name": "julia",
   "version": "1.9.1"
  }
 },
 "nbformat": 4,
 "nbformat_minor": 5
}
