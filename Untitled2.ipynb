{
 "cells": [
  {
   "cell_type": "code",
   "execution_count": 1,
   "id": "df4e2186-bf87-467f-8f56-e233382c9b62",
   "metadata": {},
   "outputs": [
    {
     "name": "stderr",
     "output_type": "stream",
     "text": [
      "\u001b[32m\u001b[1m    CondaPkg \u001b[22m\u001b[39m\u001b[0mFound dependencies: /Users/erussek/.julia/packages/PythonCall/wXfah/CondaPkg.toml\n",
      "\u001b[32m\u001b[1m    CondaPkg \u001b[22m\u001b[39m\u001b[0mFound dependencies: /Users/erussek/.julia/packages/PythonPlot/KcWMF/CondaPkg.toml\n",
      "\u001b[32m\u001b[1m    CondaPkg \u001b[22m\u001b[39m\u001b[0mDependencies already up to date\n"
     ]
    },
    {
     "data": {
      "text/plain": [
       "\"none\""
      ]
     },
     "execution_count": 1,
     "metadata": {},
     "output_type": "execute_result"
    }
   ],
   "source": [
    "using JLD2\n",
    "# using PythonPlot\n",
    "include(\"MDPModelFunctions2.jl\")\n",
    "using DataFrames\n",
    "using ImageFiltering\n",
    "include(\"setupPythonPlot.jl\")\n",
    "# using PyCall"
   ]
  },
  {
   "cell_type": "code",
   "execution_count": 16,
   "id": "deee833b-2eef-4f28-8931-fe8ce4a0f97c",
   "metadata": {},
   "outputs": [
    {
     "data": {
      "text/plain": [
       "load_results (generic function with 2 methods)"
      ]
     },
     "execution_count": 16,
     "metadata": {},
     "output_type": "execute_result"
    }
   ],
   "source": [
    "\n",
    "function load_results(epsilon, N_Quanta; one_shape = 2, on_cluster = false)\n",
    "    \n",
    "    if one_shape\n",
    "        to_save_folder = \"/Users/erussek/Dropbox/Griffiths_Lab_Stuff/Data/Memory_Models/Cowan_Param_Sweep_1/one_shape\"\n",
    "    else\n",
    "        to_save_folder = \"/Users/erussek/Dropbox/Griffiths_Lab_Stuff/Data/Memory_Models/Cowan_Param_Sweep_1/two_shape\"\n",
    "    end\n",
    "    \n",
    "    local file_name = \"N_Quanta_$(N_Quanta)_epsilon_$(epsilon).jld2\"\n",
    "        \n",
    "    local full_file_path = joinpath(to_save_folder,file_name)\n",
    "\n",
    "    res = load(full_file_path)\n",
    "    \n",
    "    if one_shape\n",
    "        return res[\"state_hist_one_shape\"]\n",
    "    else\n",
    "        return res[\"state_hist_two_shape\"]\n",
    "    end\n",
    "\n",
    "end\n"
   ]
  },
  {
   "cell_type": "code",
   "execution_count": 6,
   "id": "c8e88554-e6b3-440a-8a06-3f4b05ed6d00",
   "metadata": {},
   "outputs": [],
   "source": [
    "# epsilon vals\n",
    "eps_vals = collect(1:-.02:.01) # \n",
    "\n",
    "# vary the mem_slopes\n",
    "mem_slopes = [.025, .05, .1, .15, .2, .25]\n",
    "\n",
    "# quanta values\n",
    "q_vals = collect(2:2:100); # could go to one... \n"
   ]
  },
  {
   "cell_type": "code",
   "execution_count": 18,
   "id": "2fab082b-abe6-4723-be13-9ec4d6d52cf9",
   "metadata": {},
   "outputs": [
    {
     "data": {
      "text/plain": [
       "Dict{Any, Any} with 6 entries:\n",
       "  \"6_Objects\"  => [0.504022 0.507939 … 0.529399 0.535835; 0.504085 0.508019 … 0…\n",
       "  \"4_Objects\"  => [0.505854 0.511545 … 0.542526 0.551752; 0.505748 0.511274 … 0…\n",
       "  \"N_Trials\"   => 1000\n",
       "  \"mem_slopes\" => [0.025, 0.05, 0.1, 0.15, 0.2, 0.25]\n",
       "  \"3_Objects\"  => [0.508295 0.516336 … 0.559708 0.572489; 0.508634 0.51692 … 0.…\n",
       "  \"2_Objects\"  => [0.511767 0.523104 … 0.583025 0.600267; 0.5119 0.52329 … 0.58…"
      ]
     },
     "execution_count": 18,
     "metadata": {},
     "output_type": "execute_result"
    }
   ],
   "source": [
    "eps_idx = 1\n",
    "q_idx = 1\n",
    "epsilon = eps_vals[eps_idx]\n",
    "N_Quanta = q_vals[q_idx]\n",
    "\n",
    "res = load_results(epsilon, N_Quanta; one_shape = true, on_cluster = false)\n"
   ]
  },
  {
   "cell_type": "code",
   "execution_count": 35,
   "id": "fb48390a-4fd1-4bd6-b063-ff2e03a82c36",
   "metadata": {},
   "outputs": [
    {
     "data": {
      "text/plain": [
       "prob_remember_new (generic function with 1 method)"
      ]
     },
     "execution_count": 35,
     "metadata": {},
     "output_type": "execute_result"
    }
   ],
   "source": [
    "function prob_remember(num_quanta; mem_slope=.1)\n",
    "    return .5 .+ (1 .- exp.(mem_slope*-(num_quanta)))./2\n",
    "end\n",
    "\n",
    "function prob_remember_new(num_quanta; baseline_prob = .5, mem_slope=.1)\n",
    "    return baseline_prob .+ (1 .- exp.(mem_slope*-(num_quanta)))*(1-baseline_prob)\n",
    "end"
   ]
  },
  {
   "cell_type": "code",
   "execution_count": 36,
   "id": "a3c91090-d3c5-4cc2-9679-d68128d2295e",
   "metadata": {},
   "outputs": [],
   "source": [
    "using PythonPlot"
   ]
  },
  {
   "cell_type": "code",
   "execution_count": 49,
   "id": "8d3d61bb-2e3b-43da-a1d4-a3a4038b4cb1",
   "metadata": {},
   "outputs": [
    {
     "data": {
      "image/png": "[encoded data removed]",
      "text/plain": [
       "Figure(<py Figure size 200x200 with 1 Axes>)"
      ]
     },
     "metadata": {},
     "output_type": "display_data"
    },
    {
     "data": {
      "text/plain": [
       "Python: [<matplotlib.lines.Line2D object at 0x32ea901a0>]"
      ]
     },
     "execution_count": 49,
     "metadata": {},
     "output_type": "execute_result"
    }
   ],
   "source": [
    "nq = 0:1:100\n",
    "fig,ax = subplots(1, figsize = (2,2))\n",
    "ax.plot(nq, prob_remember_new(nq, mem_slope = .05, baseline_prob = 1/12))"
   ]
  },
  {
   "cell_type": "code",
   "execution_count": null,
   "id": "e4570a71-32ec-43de-8864-17e0f3744070",
   "metadata": {},
   "outputs": [],
   "source": []
  },
  {
   "cell_type": "code",
   "execution_count": null,
   "id": "2ae5966b-3a06-46fb-8d5e-27e204986846",
   "metadata": {},
   "outputs": [],
   "source": []
  }
 ],
 "metadata": {
  "kernelspec": {
   "display_name": "Julia 1.9.1",
   "language": "julia",
   "name": "julia-1.9"
  },
  "language_info": {
   "file_extension": ".jl",
   "mimetype": "application/julia",
   "name": "julia",
   "version": "1.9.1"
  }
 },
 "nbformat": 4,
 "nbformat_minor": 5
}
