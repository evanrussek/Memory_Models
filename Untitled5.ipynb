{
 "cells": [
  {
   "cell_type": "code",
   "execution_count": null,
   "id": "32d883c4-495b-4033-b1d0-8213892cd287",
   "metadata": {},
   "outputs": [
    {
     "name": "stdout",
     "output_type": "stream",
     "text": [
      "N_Jobs_Total: 15000\n",
      "N_Runs: 300\n",
      "Job: 201, N_Quanta: 68, epsilon: 1.0, NT_per_Second: 1600, mem_slope: 0.2\n",
      "Job: 202, N_Quanta: 68, epsilon: 1.0, NT_per_Second: 3200, mem_slope: 0.05\n",
      "Job: 203, N_Quanta: 68, epsilon: 1.0, NT_per_Second: 3200, mem_slope: 0.1\n",
      "Job: 204, N_Quanta: 68, epsilon: 1.0, NT_per_Second: 3200, mem_slope: 0.2\n",
      "Job: 205, N_Quanta: 70, epsilon: 1.0, NT_per_Second: 1600, mem_slope: 0.05\n",
      "Job: 206, N_Quanta: 70, epsilon: 1.0, NT_per_Second: 1600, mem_slope: 0.1\n",
      "Job: 207, N_Quanta: 70, epsilon: 1.0, NT_per_Second: 1600, mem_slope: 0.2\n",
      "Job: 208, N_Quanta: 70, epsilon: 1.0, NT_per_Second: 3200, mem_slope: 0.05\n",
      "Job: 209, N_Quanta: 70, epsilon: 1.0, NT_per_Second: 3200, mem_slope: 0.1\n",
      "Job: 210, N_Quanta: 70, epsilon: 1.0, NT_per_Second: 3200, mem_slope: 0.2\n",
      "Job: 211, N_Quanta: 72, epsilon: 1.0, NT_per_Second: 1600, mem_slope: 0.05\n",
      "Job: 212, N_Quanta: 72, epsilon: 1.0, NT_per_Second: 1600, mem_slope: 0.1\n",
      "Job: 213, N_Quanta: 72, epsilon: 1.0, NT_per_Second: 1600, mem_slope: 0.2\n",
      "Job: 214, N_Quanta: 72, epsilon: 1.0, NT_per_Second: 3200, mem_slope: 0.05\n"
     ]
    }
   ],
   "source": [
    "include(\"tanoue_param_search.jl\")"
   ]
  },
  {
   "cell_type": "code",
   "execution_count": 2,
   "id": "35a41114-6eb1-4fab-807e-60846523a87c",
   "metadata": {},
   "outputs": [
    {
     "data": {
      "text/plain": [
       "13.333333333333334"
      ]
     },
     "execution_count": 2,
     "metadata": {},
     "output_type": "execute_result"
    }
   ],
   "source": [
    "4000/300"
   ]
  },
  {
   "cell_type": "code",
   "execution_count": 1,
   "id": "c838d11f-0466-4fd4-ac47-c836b5846289",
   "metadata": {},
   "outputs": [
    {
     "data": {
      "text/plain": [
       "300.0"
      ]
     },
     "execution_count": 1,
     "metadata": {},
     "output_type": "execute_result"
    }
   ],
   "source": [
    "15000/50"
   ]
  },
  {
   "cell_type": "code",
   "execution_count": null,
   "id": "da588c1e-4d37-45ba-b2ae-bf84ad5ccc02",
   "metadata": {},
   "outputs": [],
   "source": []
  }
 ],
 "metadata": {
  "kernelspec": {
   "display_name": "Julia 1.9.1",
   "language": "julia",
   "name": "julia-1.9"
  },
  "language_info": {
   "file_extension": ".jl",
   "mimetype": "application/julia",
   "name": "julia",
   "version": "1.9.1"
  }
 },
 "nbformat": 4,
 "nbformat_minor": 5
}
