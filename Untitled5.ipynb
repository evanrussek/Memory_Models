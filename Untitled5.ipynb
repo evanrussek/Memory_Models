{
 "cells": [
  {
   "cell_type": "code",
   "execution_count": 3,
   "id": "32d883c4-495b-4033-b1d0-8213892cd287",
   "metadata": {},
   "outputs": [
    {
     "name": "stdout",
     "output_type": "stream",
     "text": [
      "N_Jobs_Total: 52500\n",
      "N_Runs: 26250\n",
      "Job: 9, N_Quanta: 2, epsilon: 1.0, NT_per_Second: 50, mem_slope: 0.2\n",
      "Job: 10, N_Quanta: 2, epsilon: 1.0, NT_per_Second: 100, mem_slope: 0.05\n"
     ]
    }
   ],
   "source": [
    "include(\"tanoue_param_search.jl\")"
   ]
  },
  {
   "cell_type": "code",
   "execution_count": 5,
   "id": "35a41114-6eb1-4fab-807e-60846523a87c",
   "metadata": {},
   "outputs": [
    {
     "data": {
      "text/plain": [
       "175.0"
      ]
     },
     "execution_count": 5,
     "metadata": {},
     "output_type": "execute_result"
    }
   ],
   "source": [
    "52500/300"
   ]
  },
  {
   "cell_type": "code",
   "execution_count": null,
   "id": "c838d11f-0466-4fd4-ac47-c836b5846289",
   "metadata": {},
   "outputs": [],
   "source": []
  }
 ],
 "metadata": {
  "kernelspec": {
   "display_name": "Julia 1.9.1",
   "language": "julia",
   "name": "julia-1.9"
  },
  "language_info": {
   "file_extension": ".jl",
   "mimetype": "application/julia",
   "name": "julia",
   "version": "1.9.1"
  }
 },
 "nbformat": 4,
 "nbformat_minor": 5
}
