{
 "cells": [
  {
   "cell_type": "code",
   "execution_count": 3,
   "id": "32d883c4-495b-4033-b1d0-8213892cd287",
   "metadata": {},
   "outputs": [
    {
     "name": "stdout",
     "output_type": "stream",
     "text": [
      "N_Jobs_Total: 4000\n",
      "N_Runs: 286\n",
      "Job: 1, N_Quanta: 2, epsilon: 1.0, NT_per_Second: 800, mem_slope: 0.05\n"
     ]
    },
    {
     "ename": "LoadError",
     "evalue": "LoadError: InterruptException:\nin expression starting at /Users/erussek/Dropbox/Griffiths_Lab_Stuff/Code/Memory_Models/shimi_all_param_search_fine2.jl:71",
     "output_type": "error",
     "traceback": [
      "LoadError: InterruptException:\nin expression starting at /Users/erussek/Dropbox/Griffiths_Lab_Stuff/Code/Memory_Models/shimi_all_param_search_fine2.jl:71",
      "",
      "Stacktrace:",
      " [1] top-level scope",
      "   @ ~/Dropbox/Griffiths_Lab_Stuff/Code/Memory_Models/shimi_all_param_search_fine2.jl:93",
      " [2] include(fname::String)",
      "   @ Base.MainInclude ./client.jl:478"
     ]
    }
   ],
   "source": [
    "include(\"shimi_all_param_search_fine2.jl\")"
   ]
  },
  {
   "cell_type": "code",
   "execution_count": 2,
   "id": "35a41114-6eb1-4fab-807e-60846523a87c",
   "metadata": {},
   "outputs": [
    {
     "data": {
      "text/plain": [
       "13.333333333333334"
      ]
     },
     "execution_count": 2,
     "metadata": {},
     "output_type": "execute_result"
    }
   ],
   "source": [
    "4000/300"
   ]
  },
  {
   "cell_type": "code",
   "execution_count": null,
   "id": "c838d11f-0466-4fd4-ac47-c836b5846289",
   "metadata": {},
   "outputs": [],
   "source": []
  }
 ],
 "metadata": {
  "kernelspec": {
   "display_name": "Julia 1.9.1",
   "language": "julia",
   "name": "julia-1.9"
  },
  "language_info": {
   "file_extension": ".jl",
   "mimetype": "application/julia",
   "name": "julia",
   "version": "1.9.1"
  }
 },
 "nbformat": 4,
 "nbformat_minor": 5
}
