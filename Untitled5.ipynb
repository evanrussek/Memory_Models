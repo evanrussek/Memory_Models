{
 "cells": [
  {
   "cell_type": "code",
   "execution_count": null,
   "id": "32d883c4-495b-4033-b1d0-8213892cd287",
   "metadata": {},
   "outputs": [
    {
     "name": "stdout",
     "output_type": "stream",
     "text": [
      "N_Jobs_Total: 2500\n",
      "N_Runs: 50\n",
      "Job: 1, N_Quanta: 2, epsilon: 1.0, NT_per_Second: 200, mem_slope: 0.2\n",
      "Job: 2, N_Quanta: 4, epsilon: 1.0, NT_per_Second: 200, mem_slope: 0.2\n",
      "Job: 3, N_Quanta: 6, epsilon: 1.0, NT_per_Second: 200, mem_slope: 0.2\n",
      "Job: 4, N_Quanta: 8, epsilon: 1.0, NT_per_Second: 200, mem_slope: 0.2\n",
      "Job: 5, N_Quanta: 10, epsilon: 1.0, NT_per_Second: 200, mem_slope: 0.2\n",
      "Job: 6, N_Quanta: 12, epsilon: 1.0, NT_per_Second: 200, mem_slope: 0.2\n",
      "Job: 7, N_Quanta: 14, epsilon: 1.0, NT_per_Second: 200, mem_slope: 0.2\n",
      "Job: 8, N_Quanta: 16, epsilon: 1.0, NT_per_Second: 200, mem_slope: 0.2\n",
      "Job: 9, N_Quanta: 18, epsilon: 1.0, NT_per_Second: 200, mem_slope: 0.2\n",
      "Job: 10, N_Quanta: 20, epsilon: 1.0, NT_per_Second: 200, mem_slope: 0.2\n"
     ]
    }
   ],
   "source": [
    "include(\"shimi_all_param_search_fine2.jl\")"
   ]
  },
  {
   "cell_type": "code",
   "execution_count": 2,
   "id": "35a41114-6eb1-4fab-807e-60846523a87c",
   "metadata": {},
   "outputs": [
    {
     "data": {
      "text/plain": [
       "13.333333333333334"
      ]
     },
     "execution_count": 2,
     "metadata": {},
     "output_type": "execute_result"
    }
   ],
   "source": [
    "4000/300"
   ]
  },
  {
   "cell_type": "code",
   "execution_count": null,
   "id": "c838d11f-0466-4fd4-ac47-c836b5846289",
   "metadata": {},
   "outputs": [],
   "source": []
  }
 ],
 "metadata": {
  "kernelspec": {
   "display_name": "Julia 1.9.1",
   "language": "julia",
   "name": "julia-1.9"
  },
  "language_info": {
   "file_extension": ".jl",
   "mimetype": "application/julia",
   "name": "julia",
   "version": "1.9.1"
  }
 },
 "nbformat": 4,
 "nbformat_minor": 5
}
