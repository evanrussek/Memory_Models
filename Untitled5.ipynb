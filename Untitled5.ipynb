{
 "cells": [
  {
   "cell_type": "code",
   "execution_count": null,
   "id": "32d883c4-495b-4033-b1d0-8213892cd287",
   "metadata": {},
   "outputs": [
    {
     "name": "stdout",
     "output_type": "stream",
     "text": [
      "N_Jobs_Total: 2450\n",
      "N_Runs: 82\n",
      "Job: 121, N_Quanta: 24, epsilon: 0.96, NT_per_Second: 800, mem_slope: 0.2\n",
      "Job: 122, N_Quanta: 25, epsilon: 0.96, NT_per_Second: 800, mem_slope: 0.2\n",
      "Job: 123, N_Quanta: 26, epsilon: 0.96, NT_per_Second: 800, mem_slope: 0.2\n",
      "Job: 124, N_Quanta: 27, epsilon: 0.96, NT_per_Second: 800, mem_slope: 0.2\n",
      "Job: 125, N_Quanta: 28, epsilon: 0.96, NT_per_Second: 800, mem_slope: 0.2\n",
      "Job: 126, N_Quanta: 29, epsilon: 0.96, NT_per_Second: 800, mem_slope: 0.2\n",
      "Job: 127, N_Quanta: 30, epsilon: 0.96, NT_per_Second: 800, mem_slope: 0.2\n",
      "Job: 128, N_Quanta: 31, epsilon: 0.96, NT_per_Second: 800, mem_slope: 0.2\n",
      "Job: 129, N_Quanta: 32, epsilon: 0.96, NT_per_Second: 800, mem_slope: 0.2\n",
      "Job: 130, N_Quanta: 33, epsilon: 0.96, NT_per_Second: 800, mem_slope: 0.2\n",
      "Job: 131, N_Quanta: 34, epsilon: 0.96, NT_per_Second: 800, mem_slope: 0.2\n",
      "Job: 132, N_Quanta: 35, epsilon: 0.96, NT_per_Second: 800, mem_slope: 0.2\n",
      "Job: 133, N_Quanta: 36, epsilon: 0.96, NT_per_Second: 800, mem_slope: 0.2\n"
     ]
    }
   ],
   "source": [
    "include(\"tanoue_param_search.jl\")"
   ]
  },
  {
   "cell_type": "code",
   "execution_count": null,
   "id": "35a41114-6eb1-4fab-807e-60846523a87c",
   "metadata": {},
   "outputs": [],
   "source": []
  }
 ],
 "metadata": {
  "kernelspec": {
   "display_name": "Julia 1.9.1",
   "language": "julia",
   "name": "julia-1.9"
  },
  "language_info": {
   "file_extension": ".jl",
   "mimetype": "application/julia",
   "name": "julia",
   "version": "1.9.1"
  }
 },
 "nbformat": 4,
 "nbformat_minor": 5
}
