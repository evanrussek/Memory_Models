{
 "cells": [
  {
   "cell_type": "code",
   "execution_count": null,
   "id": "32d883c4-495b-4033-b1d0-8213892cd287",
   "metadata": {},
   "outputs": [
    {
     "name": "stdout",
     "output_type": "stream",
     "text": [
      "N_Jobs_Total: 62500\n",
      "N_Runs: 256\n",
      "Job: 981, N_Quanta: 80, epsilon: 1.0, NT_per_Second: 25, mem_slope: 0.025\n",
      "Job: 982, N_Quanta: 80, epsilon: 1.0, NT_per_Second: 25, mem_slope: 0.05\n",
      "Job: 983, N_Quanta: 80, epsilon: 1.0, NT_per_Second: 25, mem_slope: 0.1\n",
      "Job: 984, N_Quanta: 80, epsilon: 1.0, NT_per_Second: 25, mem_slope: 0.2\n",
      "Job: 985, N_Quanta: 80, epsilon: 1.0, NT_per_Second: 25, mem_slope: 0.4\n",
      "Job: 986, N_Quanta: 80, epsilon: 1.0, NT_per_Second: 50, mem_slope: 0.025\n",
      "Job: 987, N_Quanta: 80, epsilon: 1.0, NT_per_Second: 50, mem_slope: 0.05\n",
      "Job: 988, N_Quanta: 80, epsilon: 1.0, NT_per_Second: 50, mem_slope: 0.1\n",
      "Job: 989, N_Quanta: 80, epsilon: 1.0, NT_per_Second: 50, mem_slope: 0.2\n",
      "Job: 990, N_Quanta: 80, epsilon: 1.0, NT_per_Second: 50, mem_slope: 0.4\n",
      "Job: 991, N_Quanta: 80, epsilon: 1.0, NT_per_Second: 100, mem_slope: 0.025\n"
     ]
    }
   ],
   "source": [
    "include(\"tanoue_param_search.jl\")"
   ]
  },
  {
   "cell_type": "code",
   "execution_count": null,
   "id": "35a41114-6eb1-4fab-807e-60846523a87c",
   "metadata": {},
   "outputs": [],
   "source": []
  }
 ],
 "metadata": {
  "kernelspec": {
   "display_name": "Julia 1.9.1",
   "language": "julia",
   "name": "julia-1.9"
  },
  "language_info": {
   "file_extension": ".jl",
   "mimetype": "application/julia",
   "name": "julia",
   "version": "1.9.1"
  }
 },
 "nbformat": 4,
 "nbformat_minor": 5
}
