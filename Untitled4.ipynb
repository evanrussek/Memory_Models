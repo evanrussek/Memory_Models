{
 "cells": [
  {
   "cell_type": "code",
   "execution_count": 4,
   "id": "e3f82d9f-fea5-4e99-8672-313e5c647583",
   "metadata": {},
   "outputs": [],
   "source": [
    "import seaborn as sns"
   ]
  },
  {
   "cell_type": "code",
   "execution_count": 6,
   "id": "59abea5b-e8b4-4c1b-939a-fbd10422482d",
   "metadata": {},
   "outputs": [
    {
     "data": {
      "text/plain": [
       "{'axes.linewidth': 1.0,\n",
       " 'grid.linewidth': 0.8,\n",
       " 'lines.linewidth': 1.2000000000000002,\n",
       " 'lines.markersize': 4.800000000000001,\n",
       " 'patch.linewidth': 0.8,\n",
       " 'xtick.major.width': 1.0,\n",
       " 'ytick.major.width': 1.0,\n",
       " 'xtick.minor.width': 0.8,\n",
       " 'ytick.minor.width': 0.8,\n",
       " 'xtick.major.size': 4.800000000000001,\n",
       " 'ytick.major.size': 4.800000000000001,\n",
       " 'xtick.minor.size': 3.2,\n",
       " 'ytick.minor.size': 3.2,\n",
       " 'font.size': 9.600000000000001,\n",
       " 'axes.labelsize': 9.600000000000001,\n",
       " 'axes.titlesize': 9.600000000000001,\n",
       " 'xtick.labelsize': 8.8,\n",
       " 'ytick.labelsize': 8.8,\n",
       " 'legend.fontsize': 8.8,\n",
       " 'legend.title_fontsize': 9.600000000000001}"
      ]
     },
     "execution_count": 6,
     "metadata": {},
     "output_type": "execute_result"
    }
   ],
   "source": [
    "sns.plotting_context(\"paper\")"
   ]
  },
  {
   "cell_type": "code",
   "execution_count": 3,
   "id": "9f31d0b4-1733-49a4-a80a-4345a83fd56c",
   "metadata": {},
   "outputs": [
    {
     "name": "stdout",
     "output_type": "stream",
     "text": [
      "Retrieving notices: ...working... done\n",
      "Collecting package metadata (current_repodata.json): done\n",
      "Solving environment: done\n",
      "\n",
      "\n",
      "==> WARNING: A newer version of conda exists. <==\n",
      "  current version: 23.3.1\n",
      "  latest version: 23.11.0\n",
      "\n",
      "Please update conda by running\n",
      "\n",
      "    $ conda update -n base -c defaults conda\n",
      "\n",
      "Or to minimize the number of packages updated during conda update use\n",
      "\n",
      "     conda install conda=23.11.0\n",
      "\n",
      "\n",
      "\n",
      "## Package Plan ##\n",
      "\n",
      "  environment location: /Users/erussek/opt/anaconda3/envs/RestaurantStoppingModels\n",
      "\n",
      "  added / updated specs:\n",
      "    - seaborn\n",
      "\n",
      "\n",
      "The following packages will be downloaded:\n",
      "\n",
      "    package                    |            build\n",
      "    ---------------------------|-----------------\n",
      "    seaborn-0.12.2             |  py310hca03da5_0         496 KB\n",
      "    ------------------------------------------------------------\n",
      "                                           Total:         496 KB\n",
      "\n",
      "The following NEW packages will be INSTALLED:\n",
      "\n",
      "  seaborn            pkgs/main/osx-arm64::seaborn-0.12.2-py310hca03da5_0 \n",
      "\n",
      "The following packages will be UPDATED:\n",
      "\n",
      "  ca-certificates    conda-forge::ca-certificates-2023.11.~ --> pkgs/main::ca-certificates-2023.12.12-hca03da5_0 \n",
      "\n",
      "The following packages will be SUPERSEDED by a higher-priority channel:\n",
      "\n",
      "  certifi            conda-forge/noarch::certifi-2023.11.1~ --> pkgs/main/osx-arm64::certifi-2023.11.17-py310hca03da5_0 \n",
      "  openssl             conda-forge::openssl-3.2.0-h0d3ecfb_1 --> pkgs/main::openssl-3.0.12-h1a28f6b_0 \n",
      "\n",
      "\n",
      "\n",
      "Downloading and Extracting Packages\n",
      "                                                                                \n",
      "Preparing transaction: done\n",
      "Verifying transaction: done\n",
      "Executing transaction: done\n",
      "\n",
      "Note: you may need to restart the kernel to use updated packages.\n"
     ]
    }
   ],
   "source": [
    "conda install seaborn\n"
   ]
  },
  {
   "cell_type": "code",
   "execution_count": null,
   "id": "bac76010-e546-4d76-bc89-af4e75bb777c",
   "metadata": {},
   "outputs": [],
   "source": []
  }
 ],
 "metadata": {
  "kernelspec": {
   "display_name": "Python 3 (ipykernel)",
   "language": "python",
   "name": "python3"
  },
  "language_info": {
   "codemirror_mode": {
    "name": "ipython",
    "version": 3
   },
   "file_extension": ".py",
   "mimetype": "text/x-python",
   "name": "python",
   "nbconvert_exporter": "python",
   "pygments_lexer": "ipython3",
   "version": "3.10.13"
  }
 },
 "nbformat": 4,
 "nbformat_minor": 5
}
