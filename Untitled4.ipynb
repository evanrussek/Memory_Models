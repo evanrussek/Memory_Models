{
 "cells": [
  {
   "cell_type": "code",
   "execution_count": null,
   "id": "f2b1800f-b883-474e-b6cd-6e469363fec9",
   "metadata": {},
   "outputs": [
    {
     "name": "stdout",
     "output_type": "stream",
     "text": [
      "N_Jobs_Total: 19502\n",
      "N_Runs: 98\n",
      "Job: 1, N_Quanta: 2, epsilon: 1.0, NT_per_Second: 25, mem_slope: 0.2\n",
      "Job: 2, N_Quanta: 2, epsilon: 1.0, NT_per_Second: 50, mem_slope: 0.2\n",
      "Job: 3, N_Quanta: 3, epsilon: 1.0, NT_per_Second: 25, mem_slope: 0.2\n",
      "Job: 4, N_Quanta: 3, epsilon: 1.0, NT_per_Second: 50, mem_slope: 0.2\n",
      "Job: 5, N_Quanta: 4, epsilon: 1.0, NT_per_Second: 25, mem_slope: 0.2\n",
      "Job: 6, N_Quanta: 4, epsilon: 1.0, NT_per_Second: 50, mem_slope: 0.2\n",
      "Job: 7, N_Quanta: 5, epsilon: 1.0, NT_per_Second: 25, mem_slope: 0.2\n",
      "Job: 8, N_Quanta: 5, epsilon: 1.0, NT_per_Second: 50, mem_slope: 0.2\n"
     ]
    }
   ],
   "source": [
    "include(\"shimi_all_param_search_fine2.jl\")"
   ]
  },
  {
   "cell_type": "code",
   "execution_count": 2,
   "id": "7d8decb3-e8ce-4b50-badf-19b2bb7d70f3",
   "metadata": {},
   "outputs": [
    {
     "name": "stdout",
     "output_type": "stream",
     "text": [
      "N_Jobs_Total: 61250\n",
      "N_Runs: 250\n",
      "Job: 981, N_Quanta: 41, epsilon: 1.0, NT_per_Second: 25, mem_slope: 0.025\n",
      "Job: 982, N_Quanta: 41, epsilon: 1.0, NT_per_Second: 25, mem_slope: 0.05\n",
      "Job: 983, N_Quanta: 41, epsilon: 1.0, NT_per_Second: 25, mem_slope: 0.1\n",
      "Job: 984, N_Quanta: 41, epsilon: 1.0, NT_per_Second: 25, mem_slope: 0.2\n",
      "Job: 985, N_Quanta: 41, epsilon: 1.0, NT_per_Second: 25, mem_slope: 0.4\n",
      "Job: 986, N_Quanta: 41, epsilon: 1.0, NT_per_Second: 50, mem_slope: 0.025\n",
      "Job: 987, N_Quanta: 41, epsilon: 1.0, NT_per_Second: 50, mem_slope: 0.05\n",
      "Job: 988, N_Quanta: 41, epsilon: 1.0, NT_per_Second: 50, mem_slope: 0.1\n",
      "Job: 989, N_Quanta: 41, epsilon: 1.0, NT_per_Second: 50, mem_slope: 0.2\n",
      "Job: 990, N_Quanta: 41, epsilon: 1.0, NT_per_Second: 50, mem_slope: 0.4\n",
      "Job: 991, N_Quanta: 41, epsilon: 1.0, NT_per_Second: 100, mem_slope: 0.025\n",
      "Job: 992, N_Quanta: 41, epsilon: 1.0, NT_per_Second: 100, mem_slope: 0.05\n",
      "Job: 993, N_Quanta: 41, epsilon: 1.0, NT_per_Second: 100, mem_slope: 0.1\n",
      "Job: 994, N_Quanta: 41, epsilon: 1.0, NT_per_Second: 100, mem_slope: 0.2\n",
      "Job: 995, N_Quanta: 41, epsilon: 1.0, NT_per_Second: 100, mem_slope: 0.4\n",
      "Job: 996, N_Quanta: 41, epsilon: 1.0, NT_per_Second: 200, mem_slope: 0.025\n",
      "Job: 997, N_Quanta: 41, epsilon: 1.0, NT_per_Second: 200, mem_slope: 0.05\n",
      "Job: 998, N_Quanta: 41, epsilon: 1.0, NT_per_Second: 200, mem_slope: 0.1\n",
      "Job: 999, N_Quanta: 41, epsilon: 1.0, NT_per_Second: 200, mem_slope: 0.2\n",
      "Job: 1000, N_Quanta: 41, epsilon: 1.0, NT_per_Second: 200, mem_slope: 0.4\n"
     ]
    },
    {
     "ename": "LoadError",
     "evalue": "LoadError: InterruptException:\nin expression starting at /Users/erussek/Dropbox/Griffiths_Lab_Stuff/Code/Memory_Models/tanoue_param_search.jl:71",
     "output_type": "error",
     "traceback": [
      "LoadError: InterruptException:\nin expression starting at /Users/erussek/Dropbox/Griffiths_Lab_Stuff/Code/Memory_Models/tanoue_param_search.jl:71",
      "",
      "Stacktrace:",
      "  [1] Array",
      "    @ ./boot.jl:477 [inlined]",
      "  [2] Array",
      "    @ ./boot.jl:486 [inlined]",
      "  [3] Array",
      "    @ ./boot.jl:494 [inlined]",
      "  [4] similar",
      "    @ ./abstractarray.jl:882 [inlined]",
      "  [5] similar",
      "    @ ./abstractarray.jl:881 [inlined]",
      "  [6] similar",
      "    @ ./broadcast.jl:212 [inlined]",
      "  [7] similar",
      "    @ ./broadcast.jl:211 [inlined]",
      "  [8] copy",
      "    @ ./broadcast.jl:898 [inlined]",
      "  [9] materialize",
      "    @ ./broadcast.jl:873 [inlined]",
      " [10] get_state_reward(s::Vector{Int64}, object_probe_probs::Vector{Float64}, per_timestep_probe_prob::Float64)",
      "    @ Main ~/Dropbox/Griffiths_Lab_Stuff/Code/Memory_Models/MDPModelFunctions.jl:87",
      " [11] #54",
      "    @ ./none:0 [inlined]",
      " [12] iterate",
      "    @ ./generator.jl:47 [inlined]",
      " [13] collect(itr::Base.Generator{Vector{Vector{Int64}}, var\"#54#55\"{Vector{Float64}, Float64}})",
      "    @ Base ./array.jl:782",
      " [14] get_Pol_onestep_R(s::Vector{Int64}, object_probe_probs::Vector{Float64}, per_timestep_probe_prob::Float64, epsilon::Float64)",
      "    @ Main ~/Dropbox/Griffiths_Lab_Stuff/Code/Memory_Models/MDPModelFunctions2.jl:39",
      " [15] simulate_episode(N_Quanta::Int64, N_Objects::Int64, epsilon::Float64, N_TimeSteps::Int64, object_probe_probs::Vector{Float64}; s::Int64)",
      "    @ Main ~/Dropbox/Griffiths_Lab_Stuff/Code/Memory_Models/MDPModelFunctions2.jl:78",
      " [16] simulate_episode",
      "    @ ~/Dropbox/Griffiths_Lab_Stuff/Code/Memory_Models/MDPModelFunctions2.jl:61 [inlined]",
      " [17] simulate_retrocue_episode(N_Quanta::Int64, N_Objects::Int64, epsilon::Float64, N_TimeSteps_Pre::Int64, N_TimeSteps_Post::Int64; cue_reliability::Int64)",
      "    @ Main ~/Dropbox/Griffiths_Lab_Stuff/Code/Memory_Models/MDPModelFunctions2.jl:134",
      " [18] simulate_retrocue_episode",
      "    @ ~/Dropbox/Griffiths_Lab_Stuff/Code/Memory_Models/MDPModelFunctions2.jl:126 [inlined]",
      " [19] simulate_task(N_Quanta::Int64, N_Objects::Int64, epsilon::Float64, N_TimeSteps_Pre::Int64, N_TimeSteps_Post::Int64, N_Trials::Int64, sim_episode_fun::typeof(simulate_retrocue_episode); mem_slope::Float64)",
      "    @ Main ~/Dropbox/Griffiths_Lab_Stuff/Code/Memory_Models/MDPModelFunctions2.jl:154",
      " [20] simulate_task",
      "    @ ~/Dropbox/Griffiths_Lab_Stuff/Code/Memory_Models/MDPModelFunctions2.jl:148 [inlined]",
      " [21] sim_tanoue_exp1(epsilon::Float64, N_Quanta::Int64, NT_per_Second::Int64; mem_slope::Float64, return_last_only::Bool, N_Trials::Int64)",
      "    @ Main ~/Dropbox/Griffiths_Lab_Stuff/Code/Memory_Models/MDPModelFunctions2.jl:362",
      " [22] top-level scope",
      "    @ ~/Dropbox/Griffiths_Lab_Stuff/Code/Memory_Models/tanoue_param_search.jl:86",
      " [23] include(fname::String)",
      "    @ Base.MainInclude ./client.jl:478"
     ]
    }
   ],
   "source": [
    "include(\"tanoue_param_search.jl\")"
   ]
  },
  {
   "cell_type": "code",
   "execution_count": 3,
   "id": "e216f7e4-6240-4fa9-9a23-58f361b4d384",
   "metadata": {},
   "outputs": [
    {
     "data": {
      "text/plain": [
       "49"
      ]
     },
     "execution_count": 3,
     "metadata": {},
     "output_type": "execute_result"
    }
   ],
   "source": [
    "length(q_vals)"
   ]
  },
  {
   "cell_type": "code",
   "execution_count": null,
   "id": "a1eb7764-efc9-4f7f-bd80-84bd9c880868",
   "metadata": {},
   "outputs": [],
   "source": []
  }
 ],
 "metadata": {
  "kernelspec": {
   "display_name": "Julia 1.9.1",
   "language": "julia",
   "name": "julia-1.9"
  },
  "language_info": {
   "file_extension": ".jl",
   "mimetype": "application/julia",
   "name": "julia",
   "version": "1.9.1"
  }
 },
 "nbformat": 4,
 "nbformat_minor": 5
}
