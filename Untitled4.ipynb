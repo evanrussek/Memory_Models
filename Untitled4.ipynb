{
 "cells": [
  {
   "cell_type": "code",
   "execution_count": null,
   "id": "f2b1800f-b883-474e-b6cd-6e469363fec9",
   "metadata": {},
   "outputs": [
    {
     "name": "stdout",
     "output_type": "stream",
     "text": [
      "N_Jobs_Total: 19502\n",
      "N_Runs: 98\n",
      "Job: 1, N_Quanta: 2, epsilon: 1.0, NT_per_Second: 25, mem_slope: 0.2\n",
      "Job: 2, N_Quanta: 2, epsilon: 1.0, NT_per_Second: 50, mem_slope: 0.2\n",
      "Job: 3, N_Quanta: 3, epsilon: 1.0, NT_per_Second: 25, mem_slope: 0.2\n",
      "Job: 4, N_Quanta: 3, epsilon: 1.0, NT_per_Second: 50, mem_slope: 0.2\n",
      "Job: 5, N_Quanta: 4, epsilon: 1.0, NT_per_Second: 25, mem_slope: 0.2\n",
      "Job: 6, N_Quanta: 4, epsilon: 1.0, NT_per_Second: 50, mem_slope: 0.2\n",
      "Job: 7, N_Quanta: 5, epsilon: 1.0, NT_per_Second: 25, mem_slope: 0.2\n",
      "Job: 8, N_Quanta: 5, epsilon: 1.0, NT_per_Second: 50, mem_slope: 0.2\n"
     ]
    }
   ],
   "source": [
    "include(\"shimi_all_param_search_fine2.jl\")"
   ]
  },
  {
   "cell_type": "code",
   "execution_count": 2,
   "id": "7d8decb3-e8ce-4b50-badf-19b2bb7d70f3",
   "metadata": {},
   "outputs": [
    {
     "data": {
      "text/plain": [
       "50"
      ]
     },
     "execution_count": 2,
     "metadata": {},
     "output_type": "execute_result"
    }
   ],
   "source": [
    "include(\"tanoue_param_search.jl\")"
   ]
  },
  {
   "cell_type": "code",
   "execution_count": 3,
   "id": "e216f7e4-6240-4fa9-9a23-58f361b4d384",
   "metadata": {},
   "outputs": [
    {
     "data": {
      "text/plain": [
       "49"
      ]
     },
     "execution_count": 3,
     "metadata": {},
     "output_type": "execute_result"
    }
   ],
   "source": [
    "length(q_vals)"
   ]
  },
  {
   "cell_type": "code",
   "execution_count": null,
   "id": "a1eb7764-efc9-4f7f-bd80-84bd9c880868",
   "metadata": {},
   "outputs": [],
   "source": []
  }
 ],
 "metadata": {
  "kernelspec": {
   "display_name": "Julia 1.9.1",
   "language": "julia",
   "name": "julia-1.9"
  },
  "language_info": {
   "file_extension": ".jl",
   "mimetype": "application/julia",
   "name": "julia",
   "version": "1.9.1"
  }
 },
 "nbformat": 4,
 "nbformat_minor": 5
}
