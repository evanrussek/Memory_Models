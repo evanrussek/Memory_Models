{
 "cells": [
  {
   "cell_type": "code",
   "execution_count": 20,
   "metadata": {},
   "outputs": [
    {
     "data": {
      "text/plain": [
       "3-element Vector{Int64}:\n",
       "  5\n",
       "  7\n",
       " 10"
      ]
     },
     "execution_count": 20,
     "metadata": {},
     "output_type": "execute_result"
    }
   ],
   "source": [
    "using JLD2\n",
    "\n",
    "include(\"MDPModelFunctions2.jl\")\n",
    "\n",
    "#enter in the condition-wise information\n",
    "\n",
    "N_Object_Vals = [1,2] .+ 1\n",
    "N_Seconds_NoCue = [5,7,10]\n"
   ]
  },
  {
   "cell_type": "code",
   "execution_count": null,
   "metadata": {},
   "outputs": [],
   "source": [
    "# create  function to simulate delayed forgetting conditions\n",
    "function simulate_delayed_memory(N_Object_Vals, N_Seconds_NoCue, mem_slopes, N_Quanta, epsilon, NT_per_Sec)\n",
    "    \n",
    "    N_N_Object_vals = length(N_Object_Vals)\n",
    "    N_N_Seconds_NoCue = length(N_Seconds_NoCue)\n",
    "    N_mem_slopes = length(mem_slopes)\n",
    "\n",
    "    delay_prob_correct = zeros(N_N_Object_vals, N_N_Seconds_NoCue, length(mem_slopes))\n",
    "\n",
    "    for N_Obj_idx = 1:N_N_Object_vals\n",
    "\n",
    "        # First we'll simulate the model without a retro-cue\n",
    "    \n",
    "        N_Objects = N_Object_Vals[N_Obj_idx]\n",
    "        print(N_Objects)\n",
    "        N_Seconds = N_Seconds_NoCue[end]\n",
    "    \n",
    "        N_TimeSteps_Pre = Int(round(N_Seconds * NT_per_Sec))\n",
    "        N_TimeSteps_Post = 0\n",
    "        Relevant_Timepoint = Int.(round.(N_Seconds_NoCue.*NT_per_Sec))\n",
    "\n",
    "    \n",
    "        # prob correct is Num Time Steps X Num Objects X Num Mem Slopes\n",
    "        prob_correct = simulate_task_mult_ms(N_Quanta, N_Objects, epsilon, N_TimeSteps_Pre, N_TimeSteps_Post, N_Trials, simulate_delayed_memory_episode, Relevant_Timepoint; mem_slopes = mem_slopes, cue_reliability = 1, baseline_prob = .5)\n",
    "    \n",
    "        delay_prob_correct[N_Obj_idx, : , :] = prob_correct#prob_correct[Relevant_Timepoint, 1, :];\n",
    "\n",
    "        # GC.gc(true)\n",
    "\n",
    "    end"
   ]
  },
  {
   "cell_type": "code",
   "execution_count": 28,
   "metadata": {},
   "outputs": [
    {
     "name": "stdout",
     "output_type": "stream",
     "text": [
      "23"
     ]
    }
   ],
   "source": [
    "mem_slopes = [.05, .1, .2, .4]\n",
    "NT_per_Sec = 200\n",
    "N_Quanta = 100.\n",
    "epsilon = 0.1\n",
    "N_Trials = 1000\n",
    "\n",
    "N_N_Object_vals = length(N_Object_Vals)\n",
    "N_N_Seconds_NoCue = length(N_Seconds_NoCue)\n",
    "N_mem_slopes = length(mem_slopes)\n",
    "\n",
    "delay_prob_correct = zeros(N_N_Object_vals, N_N_Seconds_NoCue, length(mem_slopes))\n",
    "\n",
    "for N_Obj_idx = 1:N_N_Object_vals\n",
    "\n",
    "    # First we'll simulate the model without a retro-cue\n",
    "\n",
    "    # N_Obj_idx = 1\n",
    "\n",
    "    N_Objects = N_Object_Vals[N_Obj_idx]\n",
    "    print(N_Objects)\n",
    "    N_Seconds = N_Seconds_NoCue[end]\n",
    "\n",
    "    N_TimeSteps_Pre = Int(round(N_Seconds * NT_per_Sec))\n",
    "    N_TimeSteps_Post = 0\n",
    "    Relevant_Timepoint = Int.(round.(N_Seconds_NoCue.*NT_per_Sec))\n",
    "\n",
    "\n",
    "    # prob correct is Num Time Steps X Num Objects X Num Mem Slopes\n",
    "    prob_correct = simulate_task_mult_ms(N_Quanta, N_Objects, epsilon, N_TimeSteps_Pre, N_TimeSteps_Post, N_Trials, simulate_delayed_memory_episode, Relevant_Timepoint; mem_slopes = mem_slopes, cue_reliability = 1, baseline_prob = .5)\n",
    "\n",
    "    delay_prob_correct[N_Obj_idx, : , :] = prob_correct#prob_correct[Relevant_Timepoint, 1, :];\n",
    "\n",
    "    # GC.gc(true)\n",
    "end"
   ]
  },
  {
   "cell_type": "code",
   "execution_count": 27,
   "metadata": {},
   "outputs": [
    {
     "data": {
      "text/plain": [
       "2×3×4 Array{Float64, 3}:\n",
       "[:, :, 1] =\n",
       " 0.955788  0.9559    0.955811\n",
       " 0.904244  0.904465  0.904252\n",
       "\n",
       "[:, :, 2] =\n",
       " 0.993145  0.993163  0.993149\n",
       " 0.979532  0.979612  0.979532\n",
       "\n",
       "[:, :, 3] =\n",
       " 0.996477  0.996477  0.996477\n",
       " 0.996373  0.996378  0.996373\n",
       "\n",
       "[:, :, 4] =\n",
       " 0.9965    0.9965    0.9965\n",
       " 0.996999  0.996999  0.996999"
      ]
     },
     "execution_count": 27,
     "metadata": {},
     "output_type": "execute_result"
    }
   ],
   "source": [
    "delay_prob_correct"
   ]
  },
  {
   "cell_type": "code",
   "execution_count": 14,
   "metadata": {},
   "outputs": [
    {
     "data": {
      "text/plain": [
       "1"
      ]
     },
     "execution_count": 14,
     "metadata": {},
     "output_type": "execute_result"
    }
   ],
   "source": [
    "N_Objects = N_Object_Vals[N_Obj_idx]\n"
   ]
  },
  {
   "cell_type": "code",
   "execution_count": null,
   "metadata": {},
   "outputs": [],
   "source": []
  }
 ],
 "metadata": {
  "kernelspec": {
   "display_name": "Julia 1.9.1",
   "language": "julia",
   "name": "julia-1.9"
  },
  "language_info": {
   "file_extension": ".jl",
   "mimetype": "application/julia",
   "name": "julia",
   "version": "1.9.1"
  }
 },
 "nbformat": 4,
 "nbformat_minor": 2
}
