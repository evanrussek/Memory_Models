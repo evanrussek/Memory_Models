{
 "cells": [
  {
   "cell_type": "code",
   "execution_count": null,
   "metadata": {},
   "outputs": [
    {
     "name": "stdout",
     "output_type": "stream",
     "text": [
      "-0.6931471805599452\n",
      "-0.6931471805599453\n"
     ]
    }
   ],
   "source": [
    "using StatsBase\n",
    "\n",
    "dist_1_8 = [1., 1., 1., 1., 0, 0, 0, 0]\n",
    "dist_2_8 = [1., 1., 1., 1., 1., 1., 1., 1.]\n",
    "\n",
    "dist_1_4 = [1., 1., 0, 0]\n",
    "dist_2_4 = [1., 1., 1., 1.]\n",
    "\n",
    "# divide each of these by their sum\n",
    "dist_1_8 = dist_1_8 ./ sum(dist_1_8)\n",
    "dist_2_8 = dist_2_8 ./ sum(dist_2_8)\n",
    "dist_1_4 = dist_1_4 ./ sum(dist_1_4)\n",
    "dist_2_4 = dist_2_4 ./ sum(dist_2_4)\n",
    "\n",
    "println(StatsBase.entropy(dist_1_8) - StatsBase.entropy(dist_2_8))\n",
    "println(StatsBase.entropy(dist_1_4) - StatsBase.entropy(dist_2_4))\n"
   ]
  },
  {
   "cell_type": "code",
   "execution_count": 15,
   "metadata": {},
   "outputs": [
    {
     "data": {
      "text/plain": [
       "-0.6931471805599453"
      ]
     },
     "execution_count": 15,
     "metadata": {},
     "output_type": "execute_result"
    }
   ],
   "source": [
    "StatsBase.entropy(dist_1_4) - StatsBase.entropy(dist_2_4)\n"
   ]
  },
  {
   "cell_type": "code",
   "execution_count": 19,
   "metadata": {},
   "outputs": [
    {
     "data": {
      "text/plain": [
       "4-element Vector{Float64}:\n",
       " 0.25\n",
       " 0.25\n",
       " 0.25\n",
       " 0.25"
      ]
     },
     "execution_count": 19,
     "metadata": {},
     "output_type": "execute_result"
    }
   ],
   "source": [
    "dist_2_4"
   ]
  },
  {
   "cell_type": "code",
   "execution_count": null,
   "metadata": {},
   "outputs": [],
   "source": []
  }
 ],
 "metadata": {
  "kernelspec": {
   "display_name": "Julia 1.9.1",
   "language": "julia",
   "name": "julia-1.9"
  },
  "language_info": {
   "file_extension": ".jl",
   "mimetype": "application/julia",
   "name": "julia",
   "version": "1.9.1"
  }
 },
 "nbformat": 4,
 "nbformat_minor": 2
}
