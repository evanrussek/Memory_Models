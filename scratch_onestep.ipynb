{
 "cells": [
  {
   "cell_type": "code",
   "execution_count": 7,
   "id": "20893480-f5ab-4bdd-939f-e04dc3fbca18",
   "metadata": {},
   "outputs": [],
   "source": [
    "include(\"MDPModelFunctions.jl\")\n",
    "using StatsBase\n",
    "\n",
    "N_Quanta = 5\n",
    "N_Objects = 3\n",
    "using PythonPlot\n",
    "using Random"
   ]
  },
  {
   "cell_type": "code",
   "execution_count": 2,
   "id": "ce18a91d-60ad-4fff-b37e-10d724013c96",
   "metadata": {},
   "outputs": [
    {
     "data": {
      "text/plain": [
       "get_Pol_onestep_R (generic function with 1 method)"
      ]
     },
     "execution_count": 2,
     "metadata": {},
     "output_type": "execute_result"
    }
   ],
   "source": [
    "function sample_state(N_Objects, N_Quanta)\n",
    "    \n",
    "    # Step 1: Generate N-1 random integers\n",
    "    random_integers = rand(1:N_Quanta, N_Objects-1)\n",
    "\n",
    "    # Step 2: Sort the generated integers\n",
    "    sort!(random_integers)\n",
    "    \n",
    "    # Step 3: Calculate the differences\n",
    "    differences = [random_integers[1]; diff(random_integers); N_Quanta - random_integers[end]]\n",
    "\n",
    "    return shuffle(differences)\n",
    "    \n",
    "end\n",
    "\n",
    "function get_Pol_onestep_R(s, object_probe_probs, per_timestep_probe_prob, epsilon) # also get the policy?\n",
    "    \n",
    "    # could this be biased?\n",
    "    \n",
    "    N_Objects = length(s)\n",
    "\n",
    "    \n",
    "    legal_actions = findall(s.>0)\n",
    "    N_legal_actions = length(legal_actions)\n",
    "    Q = zeros(N_legal_actions)\n",
    "\n",
    "    for a_idx in 1:N_legal_actions\n",
    "    # a_idx = 1\n",
    "\n",
    "        A = legal_actions[a_idx]\n",
    "\n",
    "        possible_S_prime, prob_S_prime = get_possible_s_prime_and_probs(s,A)\n",
    "        possible_R_prime = [get_state_reward(this_s, object_probe_probs, per_timestep_probe_prob) for this_s in possible_S_prime]\n",
    "\n",
    "        Q[a_idx] = prob_S_prime'*possible_R_prime # just look to the next state\n",
    "    end\n",
    "    \n",
    "    Q = round.(Q,digits=6)\n",
    "\n",
    "    max_val = maximum(Q)\n",
    "\n",
    "    max_Q_idxs = findall(Q .== max_val)\n",
    "    max_actions = legal_actions[max_Q_idxs]\n",
    "\n",
    "    prob_actions_Q = zeros(N_Objects)\n",
    "    prob_actions_Q[max_actions] .= 1 ./ length(max_actions)     \n",
    "    \n",
    "    prob_action_random = s / sum(s) # quanta chosen at random -- could also have states chosen at random\n",
    "    \n",
    "    prob_actions = (1 - epsilon)*prob_actions_Q + epsilon*prob_action_random\n",
    "    \n",
    "    return prob_actions\n",
    "end"
   ]
  },
  {
   "cell_type": "code",
   "execution_count": 3,
   "id": "7547d73f-2a17-4745-bf6d-8f6e80601da5",
   "metadata": {},
   "outputs": [
    {
     "data": {
      "text/plain": [
       "simulate_episode (generic function with 2 methods)"
      ]
     },
     "execution_count": 3,
     "metadata": {},
     "output_type": "execute_result"
    }
   ],
   "source": [
    "# run an episode...\n",
    "# simulate_episode\n",
    "\n",
    "\n",
    "\n",
    "#NT = 1000\n",
    "#exp_num_time_steps = 10\n",
    "#per_timestep_probe_prob = 1/exp_num_time_steps\n",
    "#object_probe_probs = 1/N_Objects*ones(N_Objects)\n",
    "\n",
    "function simulate_episode(N_Quanta, N_Objects, epsilon, N_TimeSteps, object_probe_probs; s=0)\n",
    "    \n",
    "    exp_num_time_steps = 10\n",
    "    per_timestep_probe_prob = 1/exp_num_time_steps\n",
    "\n",
    "    state_history = zeros(N_TimeSteps, N_Objects)\n",
    "    action_history = zeros(N_TimeSteps)\n",
    "\n",
    "    if s == 0\n",
    "        s = sample_state(N_Objects, N_Quanta)\n",
    "    end\n",
    "\n",
    "    for t in 1:N_TimeSteps\n",
    "\n",
    "        # store the state\n",
    "        state_history[t,:] .= s\n",
    "\n",
    "        prob_actions = get_Pol_onestep_R(s, object_probe_probs, per_timestep_probe_prob, epsilon)\n",
    "\n",
    "        A = sample(1:N_Objects, ProbabilityWeights(prob_actions))\n",
    "\n",
    "        action_history[t] = A\n",
    "\n",
    "        possible_S_prime, prob_S_prime = get_possible_s_prime_and_probs(s,A)\n",
    "\n",
    "        s = sample(possible_S_prime, ProbabilityWeights(prob_S_prime))\n",
    "\n",
    "    end\n",
    "\n",
    "    return state_history, action_history\n",
    "    \n",
    "end\n",
    "\n",
    "\n"
   ]
  },
  {
   "cell_type": "code",
   "execution_count": 8,
   "id": "4e2a6b03-5a09-483c-852d-57e4e42ac492",
   "metadata": {},
   "outputs": [],
   "source": [
    "function simulate_delayed_memory_episode(N_Quanta, N_Objects, epsilon, N_TimeSteps_Pre, N_TimeSteps_Post)\n",
    "    \n",
    "    # equal likely object probing\n",
    "    object_probe_probs = 1/N_Objects*ones(N_Objects)\n",
    "\n",
    "    # specify reward distr\n",
    "    exp_num_time_steps = 10\n",
    "    per_timestep_probe_prob = 1/exp_num_time_steps\n",
    "    \n",
    "    \n",
    "    state_history, action_history = simulate_episode(N_Quanta, N_Objects, epsilon, N_TimeSteps_Pre, object_probe_probs; s=0)\n",
    "    \n",
    "    return state_history\n",
    "    \n",
    "end\n",
    "\n",
    "function simulate_precue_episode(N_Quanta, N_Objects, epsilon, N_TimeSteps_Pre, N_TimeSteps_Post; cue_reliability = 1)\n",
    "    \n",
    "    object_probe_probs = zeros(N_Objects)\n",
    "    object_probe_probs[1] = cue_reliability\n",
    "    object_probe_probs[2:end] .= (1 - cue_reliability)/(N_Objects - 1)\n",
    "    \n",
    "    # specify reward distr\n",
    "    exp_num_time_steps = 10\n",
    "    per_timestep_probe_prob = 1/exp_num_time_steps\n",
    "    \n",
    "    state_history, action_history = simulate_episode(N_Quanta, N_Objects, epsilon, N_TimeSteps_Post, object_probe_probs; s=0)\n",
    "    \n",
    "    return state_history\n",
    "    \n",
    "end\n",
    "\n",
    "function simulate_retrocue_episode(N_Quanta, N_Objects, epsilon, N_TimeSteps_Pre, N_TimeSteps_Post; cue_reliability = 1)\n",
    "    \n",
    "    # specify reward distr\n",
    "    exp_num_time_steps = 10\n",
    "    per_timestep_probe_prob = 1/exp_num_time_steps\n",
    "    \n",
    "    # equal likely object probing\n",
    "    object_probe_probs = 1/N_Objects*ones(N_Objects)\n",
    "    state_history_pre, _ = simulate_episode(N_Quanta, N_Objects, epsilon, N_TimeSteps_Pre, object_probe_probs; s=0)\n",
    "    \n",
    "        \n",
    "    object_probe_probs = zeros(N_Objects)\n",
    "    object_probe_probs[1] = cue_reliability\n",
    "    object_probe_probs[2:end] .= (1 - cue_reliability)/(N_Objects - 1)\n",
    "    \n",
    "    state_history_post, _ = simulate_episode(N_Quanta, N_Objects, epsilon, N_TimeSteps_Post, object_probe_probs; s=state_history_pre[end,:])\n",
    "\n",
    "    \n",
    "    return [state_history_pre; state_history_post]\n",
    "    \n",
    "end\n",
    "\n",
    "function simulate_task(N_Quanta, N_Objects, epsilon, N_TimeSteps_Pre, N_TimeSteps_Post, N_Trials, sim_episode_fun)\n",
    "    \n",
    "    N_TimeSteps = N_TimeSteps_Pre + N_TimeSteps_Post\n",
    "    prob_remember_all = zeros(N_TimeSteps, N_Objects, N_Trials)\n",
    "    \n",
    "    for t in 1:N_Trials\n",
    "        state_history = sim_episode_fun(N_Quanta, N_Objects, epsilon, N_TimeSteps_Pre, N_TimeSteps_Post)\n",
    "        prob_remember_all[:, :, t] = prob_remember.(state_history)\n",
    "    end\n",
    "    \n",
    "    return dropdims(mean(prob_remember_all, dims=3), dims=3)\n",
    "    \n",
    "end\n",
    "\n",
    "N_Quanta = 12\n",
    "N_Objects = 4\n",
    "epsilon = .2\n",
    "\n",
    "N_TimeSteps_Pre= 0\n",
    "N_TimeSteps_Post=500\n",
    "N_TimeSteps = N_TimeSteps_Pre + N_TimeSteps_Post\n",
    "\n",
    "prob_remember_stims = simulate_task(N_Quanta, N_Objects, epsilon, N_TimeSteps_Pre, N_TimeSteps_Post, 1000, simulate_precue_episode);"
   ]
  },
  {
   "cell_type": "code",
   "execution_count": 9,
   "id": "166e9026-ad74-49ee-a610-c75681549f0d",
   "metadata": {},
   "outputs": [
    {
     "data": {
      "image/png": "[encoded data removed]",
      "text/plain": [
       "Figure(<py Figure size 900x900 with 1 Axes>)"
      ]
     },
     "metadata": {},
     "output_type": "display_data"
    },
    {
     "data": {
      "text/plain": [
       "Python: <matplotlib.legend.Legend object at 0x156b88b10>"
      ]
     },
     "execution_count": 9,
     "metadata": {},
     "output_type": "execute_result"
    }
   ],
   "source": [
    "fig,ax = subplots(1,figsize=(3,3),dpi=300)\n",
    "ax.plot(1:N_TimeSteps, prob_remember_stims[:,1], label = \"1\")\n",
    "ax.plot(1:N_TimeSteps, prob_remember_stims[:,2], label = \"2\")\n",
    "ax.plot(1:N_TimeSteps, prob_remember_stims[:,3], label = \"3\")\n",
    "ax.plot(1:N_TimeSteps, prob_remember_stims[:,4], label = \"4\")\n",
    "\n",
    "ax.legend()"
   ]
  },
  {
   "cell_type": "code",
   "execution_count": 11,
   "id": "fbc2babd-5812-4c01-968c-9cafd1f092b9",
   "metadata": {},
   "outputs": [],
   "source": [
    "# now run a simulation of experiment 1\n",
    "function cowan_k(p_corr, num_obj)\n",
    "   return num_obj .* (p_corr - (1 .- p_corr))\n",
    "end\n",
    "\n",
    "\n",
    "\n",
    "function sim_exp1(epsilon, N_Quanta, NT_per_Second)\n",
    "    \n",
    "    \"\"\"\n",
    "    d_all: is prob correct over time for 3 consitions\n",
    "    row 1: precue\n",
    "    row2: neutral\n",
    "    row3: retrocue\n",
    "    \"\"\"\n",
    "    \n",
    "    N_Trials = 1000;\n",
    "    \n",
    "    N_Object_Vals = [2,4]\n",
    "\n",
    "    # these are each 1 second, but question is how many model time-steps occur per real world second...\n",
    "    N_TimeSteps_Pre = NT_per_Second\n",
    "    N_TimeSteps_Post = NT_per_Second\n",
    "    N_TimeSteps = N_TimeSteps_Pre + N_TimeSteps_Post\n",
    "\n",
    "    d_all = zeros(3, length(N_Object_Vals), N_TimeSteps)\n",
    "\n",
    "    for (obj_idx, N_Objects) in enumerate(N_Object_Vals)\n",
    "\n",
    "        # pre-cue all time-steps are post\n",
    "        d_precue = simulate_task(N_Quanta, N_Objects, epsilon, 0, N_TimeSteps, N_Trials, simulate_precue_episode);\n",
    "        d_precue = d_precue[:,1]\n",
    "        d_all[1,obj_idx,:] = d_precue\n",
    "\n",
    "        # delayed memory - all time-steps are pre\n",
    "        d_neutral = simulate_task(N_Quanta, N_Objects, epsilon, N_TimeSteps, 0, N_Trials, simulate_delayed_memory_episode);\n",
    "        d_neutral = d_neutral[:,1]\n",
    "        d_all[2,obj_idx,:] = d_neutral\n",
    "        \n",
    "        # retro-cue\n",
    "        d_retro = simulate_task(N_Quanta, N_Objects, epsilon, N_TimeSteps_Pre, N_TimeSteps_Post, N_Trials, simulate_retrocue_episode);\n",
    "        d_retro = d_retro[:,1]\n",
    "        d_all[3,obj_idx,:] = d_retro\n",
    "\n",
    "    end\n",
    "    \n",
    "    return d_all\n",
    "    \n",
    "end\n",
    "\n",
    "\n",
    "N_Quanta = 10\n",
    "epsilon = .8\n",
    "NT_per_Second = 500\n",
    "\n",
    "d_all = sim_exp1(epsilon, N_Quanta, NT_per_Second);\n"
   ]
  },
  {
   "cell_type": "code",
   "execution_count": 12,
   "id": "a2f04273-de24-4844-8efe-b1f6b0d3e789",
   "metadata": {},
   "outputs": [],
   "source": [
    "# size(d_all)"
   ]
  },
  {
   "cell_type": "code",
   "execution_count": 13,
   "id": "5f5e1c5d-7d81-4cc2-930a-9c6b40b13894",
   "metadata": {},
   "outputs": [
    {
     "data": {
      "image/png": "[encoded data removed]",
      "text/plain": [
       "Figure(<py Figure size 600x300 with 2 Axes>)"
      ]
     },
     "metadata": {},
     "output_type": "display_data"
    }
   ],
   "source": [
    "fig,ax = subplots(1, 2, figsize = (6,3), constrained_layout=true, sharey=true)\n",
    "\n",
    "N_TimeSteps = 2*NT_per_Second\n",
    "\n",
    "for (obj_idx, N_Objects) in enumerate([2,4])\n",
    "    \n",
    "    TS = 1:N_TimeSteps\n",
    "    \n",
    "    d_precue = cowan_k(d_all[1,obj_idx,:], N_Objects);\n",
    "    ax[obj_idx-1].plot(TS, d_precue, label = \"PreCue\")\n",
    "    \n",
    "    d_neutral = cowan_k(d_all[2,obj_idx,:], N_Objects);\n",
    "    ax[obj_idx-1].plot(TS, d_neutral, label = \"Neutral\")\n",
    "    \n",
    "    d_retro = cowan_k(d_all[3,obj_idx,:], N_Objects);\n",
    "    ax[obj_idx-1].plot(TS, d_retro, label = \"RetroCue\")\n",
    "    ax[obj_idx-1].legend()\n",
    "    ax[obj_idx-1].set_xlabel(\"Time-Steps\")\n",
    "    \n",
    "    ax[obj_idx-1].set_ylabel(\"Cowan's K\")\n",
    "    \n",
    "    ax[obj_idx-1].set_title(string(N_Objects) * \" Objects\")\n",
    "\n",
    "end"
   ]
  },
  {
   "cell_type": "code",
   "execution_count": 527,
   "id": "a1d658fd-4cbc-46d0-a1b8-e628734f48a8",
   "metadata": {},
   "outputs": [
    {
     "data": {
      "text/plain": [
       "3-element view(::Vector{Float64}, [1, 2, 3]) with eltype Float64:\n",
       " 0.3333333333333333\n",
       " 0.3333333333333333\n",
       " 0.3333333333333333"
      ]
     },
     "execution_count": 527,
     "metadata": {},
     "output_type": "execute_result"
    }
   ],
   "source": [
    "s = [1 , 1, 1]\n",
    "# possible_S_prime, prob_S_prime= get_possible_s_prime_and_probs(s,1)\n",
    "\n",
    "N_Objects = length(s)\n",
    "\n",
    "\n",
    "legal_actions = findall(s.>0)\n",
    "N_legal_actions = length(legal_actions)\n",
    "Q = zeros(N_legal_actions)\n",
    "\n",
    "for a_idx in 1:N_legal_actions\n",
    "# a_idx = 1\n",
    "\n",
    "    A = legal_actions[a_idx]\n",
    "\n",
    "    possible_S_prime, prob_S_prime = get_possible_s_prime_and_probs(s,A)\n",
    "    possible_R_prime = [get_state_reward(this_s, object_probe_probs, per_timestep_probe_prob) for this_s in possible_S_prime]\n",
    "\n",
    "    Q[a_idx] = prob_S_prime'*possible_R_prime # just look to the next state\n",
    "end\n",
    "Q = round.(Q,digits=8)\n",
    "\n",
    "# possible_R_prime = [get_state_reward(this_s, object_probe_probs, per_timestep_probe_prob) for this_s in possible_S_prime]\n",
    "max_val = maximum(Q)\n",
    "\n",
    "max_Q_idxs = findall(Q .== max_val)\n",
    "max_actions = legal_actions[max_Q_idxs]\n",
    "\n",
    "prob_actions_Q = zeros(N_Objects)\n",
    "prob_actions_Q[max_actions] .= 1 ./ length(max_actions)   \n",
    "#get_Pol_onestep_R(s, object_probe_probs, per_timestep_probe_prob, 0)"
   ]
  },
  {
   "cell_type": "code",
   "execution_count": 462,
   "id": "07a7575f-90c4-4d6a-be65-ec98ed03ec0b",
   "metadata": {},
   "outputs": [
    {
     "data": {
      "text/plain": [
       "3-element Vector{Float64}:\n",
       " 0.05869837\n",
       " 0.05869837\n",
       " 0.05869837"
      ]
     },
     "execution_count": 462,
     "metadata": {},
     "output_type": "execute_result"
    }
   ],
   "source": [
    "round.(Q, digits = 8)"
   ]
  },
  {
   "cell_type": "code",
   "execution_count": 5,
   "id": "cea6e977-c92a-4fb8-94bc-91ae15eaa3dc",
   "metadata": {},
   "outputs": [],
   "source": [
    "# using ExpFamilyDistributions"
   ]
  },
  {
   "cell_type": "code",
   "execution_count": 6,
   "id": "7c8ac7ff-a43c-4994-b041-3b0782135e5d",
   "metadata": {},
   "outputs": [],
   "source": [
    "# Pkg.add(\"ExpFamilyDistributions\")"
   ]
  },
  {
   "cell_type": "code",
   "execution_count": 7,
   "id": "9c096e9e-7e20-43cc-ba7a-ae76d75d1218",
   "metadata": {},
   "outputs": [
    {
     "ename": "LoadError",
     "evalue": "UndefVarError: `A` not defined",
     "output_type": "error",
     "traceback": [
      "UndefVarError: `A` not defined",
      "",
      "Stacktrace:",
      " [1] top-level scope",
      "   @ In[7]:1"
     ]
    }
   ],
   "source": [
    "get_possible_s_prime_and_probs(collect(s),A)"
   ]
  },
  {
   "cell_type": "code",
   "execution_count": 8,
   "id": "4ce967cc-b195-49b5-8997-e40ac9acb308",
   "metadata": {},
   "outputs": [
    {
     "data": {
      "text/plain": [
       "3-element ProbabilityWeights{Float64, Float64, Vector{Float64}}:\n",
       " 0.2\n",
       " 0.1\n",
       " 0.3"
      ]
     },
     "execution_count": 8,
     "metadata": {},
     "output_type": "execute_result"
    }
   ],
   "source": [
    "using StatsBase\n",
    "ProbabilityWeights([0.2, 0.1, 0.3])"
   ]
  },
  {
   "cell_type": "code",
   "execution_count": 9,
   "id": "09617f4f-bb48-4093-8d57-20e00a08692b",
   "metadata": {},
   "outputs": [
    {
     "name": "stdout",
     "output_type": "stream",
     "text": [
      "Sample from a length-3 simplex: [0.6251407628176552, 0.36680193264504246, 0.5631340901948926]\n"
     ]
    }
   ],
   "source": [
    "using StatsBase\n",
    "\n",
    "function sample_simplex(N)\n",
    "    # Generate N+1 random points\n",
    "    points = rand(N+1, N)\n",
    "    \n",
    "    # Compute the barycentric coordinates\n",
    "    weights = rand(N+1)\n",
    "    weights /= sum(weights)\n",
    "    \n",
    "    # Sort the points based on the weights\n",
    "    sorted_points = points[sortperm(weights), :]\n",
    "    \n",
    "    # Calculate the sample point using the normalized barycentric coordinates\n",
    "    normalized_weights = weights / sum(weights)\n",
    "    sample_point = sum(sorted_points .* normalized_weights, dims=1)\n",
    "    \n",
    "    return vec(sample_point)\n",
    "end\n",
    "\n",
    "# Example: Sampling from a 4-dimensional simplex\n",
    "N = 3  # Change N to the desired dimension - 1\n",
    "this_sample = sample_simplex(N)\n",
    "println(\"Sample from a length-$N simplex: $this_sample\")"
   ]
  },
  {
   "cell_type": "code",
   "execution_count": 10,
   "id": "84e228c8-bf54-453d-90c6-fd861a60f5f8",
   "metadata": {},
   "outputs": [
    {
     "data": {
      "text/plain": [
       "1.5550767856575902"
      ]
     },
     "execution_count": 10,
     "metadata": {},
     "output_type": "execute_result"
    }
   ],
   "source": [
    "sum(this_sample)"
   ]
  },
  {
   "cell_type": "code",
   "execution_count": 11,
   "id": "0897d450-6d7e-4c4c-9bca-c1fb90e1be83",
   "metadata": {},
   "outputs": [
    {
     "data": {
      "text/plain": [
       "3-element Vector{Float64}:\n",
       " 0.6251407628176552\n",
       " 0.36680193264504246\n",
       " 0.5631340901948926"
      ]
     },
     "execution_count": 11,
     "metadata": {},
     "output_type": "execute_result"
    }
   ],
   "source": [
    "this_sample"
   ]
  },
  {
   "cell_type": "code",
   "execution_count": 12,
   "id": "a77ae6e1-d277-4c69-a7e6-7fb32ecb729a",
   "metadata": {},
   "outputs": [
    {
     "data": {
      "text/plain": [
       "1.6666666666666667"
      ]
     },
     "execution_count": 12,
     "metadata": {},
     "output_type": "execute_result"
    }
   ],
   "source": [
    "N_Objects = 3\n",
    "N_Quanta = 5\n",
    "5/3"
   ]
  },
  {
   "cell_type": "code",
   "execution_count": 14,
   "id": "e359dc9a-ef18-4edf-95a4-d9da2ace71bb",
   "metadata": {},
   "outputs": [],
   "source": [
    "using Random, Distributions"
   ]
  },
  {
   "cell_type": "code",
   "execution_count": 25,
   "id": "ebc3d697-a853-4310-ba8a-e1ec38575069",
   "metadata": {},
   "outputs": [
    {
     "data": {
      "text/plain": [
       "sample_start_state (generic function with 1 method)"
      ]
     },
     "execution_count": 25,
     "metadata": {},
     "output_type": "execute_result"
    }
   ],
   "source": [
    "function sample_start_state(N_Objects, N_Quanta)\n",
    "\n",
    "    d = Exponential()\n",
    "    x = rand(d, 3)\n",
    "    x = x/sum(x)\n",
    "   \n",
    "    return x\n",
    "end"
   ]
  },
  {
   "cell_type": "code",
   "execution_count": 26,
   "id": "f6b1346c-b0ed-4c51-a89c-0389b00e7ac1",
   "metadata": {},
   "outputs": [
    {
     "data": {
      "text/plain": [
       "3-element Vector{Float64}:\n",
       " 0.1197316527836375\n",
       " 0.35485205438984213\n",
       " 0.5254162928265205"
      ]
     },
     "execution_count": 26,
     "metadata": {},
     "output_type": "execute_result"
    }
   ],
   "source": [
    "x = sample_start_state(N_Objects, N_Quanta)"
   ]
  },
  {
   "cell_type": "code",
   "execution_count": 55,
   "id": "cc74ce34-69df-4d9f-83b1-edd6cc07aaea",
   "metadata": {},
   "outputs": [
    {
     "data": {
      "text/plain": [
       "3-element Vector{Float64}:\n",
       " 1.0\n",
       " 2.0\n",
       " 3.0"
      ]
     },
     "execution_count": 55,
     "metadata": {},
     "output_type": "execute_result"
    }
   ],
   "source": [
    "sort(round.(x*N_Quanta))"
   ]
  },
  {
   "cell_type": "code",
   "execution_count": 24,
   "id": "15de6964-5c1b-417b-bf0c-38a52b9f3713",
   "metadata": {},
   "outputs": [
    {
     "data": {
      "text/plain": [
       "5"
      ]
     },
     "execution_count": 24,
     "metadata": {},
     "output_type": "execute_result"
    }
   ],
   "source": [
    "N_Quanta"
   ]
  },
  {
   "cell_type": "code",
   "execution_count": 54,
   "id": "fa4dd964-8405-456a-b13c-7521dd7c4197",
   "metadata": {},
   "outputs": [
    {
     "data": {
      "text/plain": [
       "3-element Vector{Float64}:\n",
       " 2.0\n",
       " 1.0\n",
       " 2.0"
      ]
     },
     "execution_count": 54,
     "metadata": {},
     "output_type": "execute_result"
    }
   ],
   "source": [
    "\n",
    "nums = sort(floor.((N_Quanta+1)*rand(N_Objects)))\n",
    "\n",
    "x = zeros(N_Objects)\n",
    "x[1] = nums[1]\n",
    "\n",
    "for o in 2:N_Objects\n",
    "    x[o] = nums[0]\n",
    "    "
   ]
  },
  {
   "cell_type": "code",
   "execution_count": 120,
   "id": "040bbd84-b81d-4de8-9f8e-3b6599d79049",
   "metadata": {},
   "outputs": [
    {
     "data": {
      "text/plain": [
       "20"
      ]
     },
     "execution_count": 120,
     "metadata": {},
     "output_type": "execute_result"
    }
   ],
   "source": [
    "function sample_integers_summing_to_x(N, X)\n",
    "    \n",
    "    # X is n quanta\n",
    "    # Step 1: Generate N-1 random integers\n",
    "    random_integers = rand(1:X, N-1)\n",
    "\n",
    "    # Step 2: Sort the generated integers\n",
    "    sort!(random_integers)\n",
    "\n",
    "    # Step 3: Calculate the differences\n",
    "    differences = [random_integers[1]; diff(random_integers); X - random_integers[end]]\n",
    "\n",
    "    return shuffle(differences)\n",
    "end\n",
    "\n",
    "# Example usage:\n",
    "N = 5\n",
    "X = 20\n",
    "result = sample_integers_summing_to_x(N, X)\n",
    "shuffle(result)\n",
    "sum(result)"
   ]
  },
  {
   "cell_type": "code",
   "execution_count": 121,
   "id": "f98adf0b-576c-40d8-9baa-18f6ddd32f48",
   "metadata": {},
   "outputs": [
    {
     "data": {
      "text/plain": [
       "5-element Vector{Int64}:\n",
       "  2\n",
       "  1\n",
       "  1\n",
       "  5\n",
       " 11"
      ]
     },
     "execution_count": 121,
     "metadata": {},
     "output_type": "execute_result"
    }
   ],
   "source": [
    "result"
   ]
  },
  {
   "cell_type": "code",
   "execution_count": 100,
   "id": "6b2b5241-7157-4df9-b1ad-be7d70441a1a",
   "metadata": {},
   "outputs": [
    {
     "data": {
      "text/plain": [
       "5"
      ]
     },
     "execution_count": 100,
     "metadata": {},
     "output_type": "execute_result"
    }
   ],
   "source": [
    "length(result)"
   ]
  },
  {
   "cell_type": "code",
   "execution_count": 128,
   "id": "4324d281-2809-4c5a-92d7-ad0aad519b2d",
   "metadata": {},
   "outputs": [
    {
     "data": {
      "text/plain": [
       "sample_state (generic function with 1 method)"
      ]
     },
     "execution_count": 128,
     "metadata": {},
     "output_type": "execute_result"
    }
   ],
   "source": [
    "function sample_state(N_Objects, N_Quanta)\n",
    "    \n",
    "    # Step 1: Generate N-1 random integers\n",
    "    random_integers = rand(1:N_Quanta, N_Objects-1)\n",
    "\n",
    "    # Step 2: Sort the generated integers\n",
    "    sort!(random_integers)\n",
    "    print(random_integers)\n",
    "    \n",
    "    # Step 3: Calculate the differences\n",
    "    differences = [random_integers[1]; diff(random_integers); N_Quanta - random_integers[end]]\n",
    "\n",
    "    return shuffle(differences)\n",
    "    \n",
    "end"
   ]
  },
  {
   "cell_type": "code",
   "execution_count": 141,
   "id": "d380c722-8738-41fd-8c30-b839c9dea983",
   "metadata": {},
   "outputs": [
    {
     "name": "stdout",
     "output_type": "stream",
     "text": [
      "[1, 1, 2, 3]"
     ]
    },
    {
     "data": {
      "text/plain": [
       "5-element Vector{Int64}:\n",
       " 0\n",
       " 1\n",
       " 0\n",
       " 1\n",
       " 1"
      ]
     },
     "execution_count": 141,
     "metadata": {},
     "output_type": "execute_result"
    }
   ],
   "source": [
    "sample_state(5,3)"
   ]
  },
  {
   "cell_type": "code",
   "execution_count": null,
   "id": "dc6eba1c-c454-48c9-b9e9-1a115a87c2af",
   "metadata": {},
   "outputs": [],
   "source": []
  }
 ],
 "metadata": {
  "kernelspec": {
   "display_name": "Julia 1.9.1",
   "language": "julia",
   "name": "julia-1.9"
  },
  "language_info": {
   "file_extension": ".jl",
   "mimetype": "application/julia",
   "name": "julia",
   "version": "1.9.1"
  }
 },
 "nbformat": 4,
 "nbformat_minor": 5
}
