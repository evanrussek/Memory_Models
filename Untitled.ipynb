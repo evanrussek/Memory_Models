{
 "cells": [
  {
   "cell_type": "code",
   "execution_count": 3,
   "id": "76630a96-3860-4d65-85db-c6bf864b0f8d",
   "metadata": {},
   "outputs": [
    {
     "name": "stdout",
     "output_type": "stream",
     "text": [
      "N_Jobs_Total: 625\n",
      "N_Runs: 13\n",
      "Job: 1, N_Quanta: 2, epsilon: 1.0\n",
      "2_Objects3_Objects4_Objects6_ObjectsCueR_1.0_N_Obj_Per_Shape_2 CueR_1.0_N_Obj_Per_Shape_3 CueR_0.8_N_Obj_Per_Shape_2 CueR_0.8_N_Obj_Per_Shape_3 CueR_0.5_N_Obj_Per_Shape_2 CueR_0.5_N_Obj_Per_Shape_3 Job: 2, N_Quanta: 6, epsilon: 1.0\n",
      "2_Objects3_Objects4_Objects6_ObjectsCueR_1.0_N_Obj_Per_Shape_2 CueR_1.0_N_Obj_Per_Shape_3 CueR_0.8_N_Obj_Per_Shape_2 CueR_0.8_N_Obj_Per_Shape_3 CueR_0.5_N_Obj_Per_Shape_2 CueR_0.5_N_Obj_Per_Shape_3 Job: 3, N_Quanta: 10, epsilon: 1.0\n",
      "2_Objects3_Objects4_Objects6_ObjectsCueR_1.0_N_Obj_Per_Shape_2 CueR_1.0_N_Obj_Per_Shape_3 CueR_0.8_N_Obj_Per_Shape_2 CueR_0.8_N_Obj_Per_Shape_3 CueR_0.5_N_Obj_Per_Shape_2 CueR_0.5_N_Obj_Per_Shape_3 Job: 4, N_Quanta: 14, epsilon: 1.0\n",
      "2_Objects3_Objects4_Objects6_ObjectsCueR_1.0_N_Obj_Per_Shape_2 CueR_1.0_N_Obj_Per_Shape_3 CueR_0.8_N_Obj_Per_Shape_2 CueR_0.8_N_Obj_Per_Shape_3 CueR_0.5_N_Obj_Per_Shape_2 CueR_0.5_N_Obj_Per_Shape_3 Job: 5, N_Quanta: 18, epsilon: 1.0\n",
      "2_Objects3_Objects4_Objects"
     ]
    },
    {
     "ename": "LoadError",
     "evalue": "LoadError: InterruptException:\nin expression starting at /Users/erussek/Dropbox/Griffiths_Lab_Stuff/Code/Memory_Models/cowan_param_sweep.jl:57",
     "output_type": "error",
     "traceback": [
      "LoadError: InterruptException:\nin expression starting at /Users/erussek/Dropbox/Griffiths_Lab_Stuff/Code/Memory_Models/cowan_param_sweep.jl:57",
      "",
      "Stacktrace:",
      "  [1] Array",
      "    @ ./boot.jl:477 [inlined]",
      "  [2] Array",
      "    @ ./boot.jl:486 [inlined]",
      "  [3] similar",
      "    @ ./abstractarray.jl:882 [inlined]",
      "  [4] similar",
      "    @ ./abstractarray.jl:881 [inlined]",
      "  [5] _array_for",
      "    @ ./array.jl:671 [inlined]",
      "  [6] collect(itr::Base.Generator{Vector{Vector{Int64}}, var\"#94#95\"{Vector{Float64}, Float64}})",
      "    @ Base ./array.jl:787",
      "  [7] get_Pol_onestep_R(s::Vector{Int64}, object_probe_probs::Vector{Float64}, per_timestep_probe_prob::Float64, epsilon::Float64)",
      "    @ Main ~/Dropbox/Griffiths_Lab_Stuff/Code/Memory_Models/MDPModelFunctions2.jl:39",
      "  [8] simulate_episode(N_Quanta::Int64, N_Objects::Int64, epsilon::Float64, N_TimeSteps::Int64, object_probe_probs::Vector{Float64}; s::Int64)",
      "    @ Main ~/Dropbox/Griffiths_Lab_Stuff/Code/Memory_Models/MDPModelFunctions2.jl:78",
      "  [9] simulate_episode",
      "    @ ~/Dropbox/Griffiths_Lab_Stuff/Code/Memory_Models/MDPModelFunctions2.jl:61 [inlined]",
      " [10] simulate_delayed_memory_episode(N_Quanta::Int64, N_Objects::Int64, epsilon::Float64, N_TimeSteps_Pre::Int64, N_TimeSteps_Post::Int64; cue_reliability::Int64)",
      "    @ Main ~/Dropbox/Griffiths_Lab_Stuff/Code/Memory_Models/MDPModelFunctions2.jl:104",
      " [11] simulate_delayed_memory_episode",
      "    @ ~/Dropbox/Griffiths_Lab_Stuff/Code/Memory_Models/MDPModelFunctions2.jl:94 [inlined]",
      " [12] simulate_task_return_state_hist(N_Quanta::Int64, N_Objects::Int64, epsilon::Float64, N_TimeSteps_Pre::Int64, N_TimeSteps_Post::Int64, N_Trials::Int64, sim_episode_fun::typeof(simulate_delayed_memory_episode); cue_reliability::Int64)",
      "    @ Main ~/Dropbox/Griffiths_Lab_Stuff/Code/Memory_Models/MDPModelFunctions2.jl:199",
      " [13] simulate_task_return_state_hist(N_Quanta::Int64, N_Objects::Int64, epsilon::Float64, N_TimeSteps_Pre::Int64, N_TimeSteps_Post::Int64, N_Trials::Int64, sim_episode_fun::Function)",
      "    @ Main ~/Dropbox/Griffiths_Lab_Stuff/Code/Memory_Models/MDPModelFunctions2.jl:193",
      " [14] sim_cowan_1_shape_return_hist(N_Quanta::Int64, epsilon::Float64; N_trials::Int64, max_NT_per_sec::Int64)",
      "    @ Main ~/Dropbox/Griffiths_Lab_Stuff/Code/Memory_Models/MDPModelFunctions2.jl:452",
      " [15] sim_cowan_1_shape_return_hist(N_Quanta::Int64, epsilon::Float64)",
      "    @ Main ~/Dropbox/Griffiths_Lab_Stuff/Code/Memory_Models/MDPModelFunctions2.jl:426",
      " [16] top-level scope",
      "    @ ~/Dropbox/Griffiths_Lab_Stuff/Code/Memory_Models/cowan_param_sweep.jl:71",
      " [17] include(fname::String)",
      "    @ Base.MainInclude ./client.jl:478"
     ]
    }
   ],
   "source": [
    "include(\"cowan_param_sweep.jl\")"
   ]
  },
  {
   "cell_type": "code",
   "execution_count": 4,
   "id": "540060bc-a86e-4b05-b94f-5990d47646c3",
   "metadata": {},
   "outputs": [
    {
     "data": {
      "text/plain": [
       "25.0"
      ]
     },
     "execution_count": 4,
     "metadata": {},
     "output_type": "execute_result"
    }
   ],
   "source": [
    "625 / 25"
   ]
  },
  {
   "cell_type": "code",
   "execution_count": null,
   "id": "694456d2-7aaa-451c-953f-ebf7b4346d2e",
   "metadata": {},
   "outputs": [],
   "source": []
  }
 ],
 "metadata": {
  "kernelspec": {
   "display_name": "Julia 1.9.1",
   "language": "julia",
   "name": "julia-1.9"
  },
  "language_info": {
   "file_extension": ".jl",
   "mimetype": "application/julia",
   "name": "julia",
   "version": "1.9.1"
  }
 },
 "nbformat": 4,
 "nbformat_minor": 5
}
