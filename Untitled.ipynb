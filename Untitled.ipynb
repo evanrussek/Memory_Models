{
 "cells": [
  {
   "cell_type": "code",
   "execution_count": 3,
   "id": "76630a96-3860-4d65-85db-c6bf864b0f8d",
   "metadata": {},
   "outputs": [
    {
     "name": "stdout",
     "output_type": "stream",
     "text": [
      "N_Jobs_Total: 5000\n",
      "Job: 1, N_Quanta: 2, epsilon: 1.0, NT_per_Second: 50\n",
      "23Job: 2, N_Quanta: 2, epsilon: 1.0, NT_per_Second: 100\n",
      "23Job: 3, N_Quanta: 2, epsilon: 1.0, NT_per_Second: 200\n",
      "23Job: 4, N_Quanta: 2, epsilon: 1.0, NT_per_Second: 400\n",
      "23Job: 5, N_Quanta: 6, epsilon: 1.0, NT_per_Second: 50\n",
      "23Job: 6, N_Quanta: 6, epsilon: 1.0, NT_per_Second: 100\n",
      "23Job: 7, N_Quanta: 6, epsilon: 1.0, NT_per_Second: 200\n",
      "23Job: 8, N_Quanta: 6, epsilon: 1.0, NT_per_Second: 400\n",
      "23Job: 9, N_Quanta: 10, epsilon: 1.0, NT_per_Second: 50\n",
      "23Job: 10, N_Quanta: 10, epsilon: 1.0, NT_per_Second: 100\n",
      "23Job: 11, N_Quanta: 10, epsilon: 1.0, NT_per_Second: 200\n",
      "23Job: 12, N_Quanta: 10, epsilon: 1.0, NT_per_Second: 400\n",
      "23Job: 13, N_Quanta: 14, epsilon: 1.0, NT_per_Second: 50\n",
      "23Job: 14, N_Quanta: 14, epsilon: 1.0, NT_per_Second: 100\n",
      "23Job: 15, N_Quanta: 14, epsilon: 1.0, NT_per_Second: 200\n",
      "23Job: 16, N_Quanta: 14, epsilon: 1.0, NT_per_Second: 400\n",
      "23Job: 17, N_Quanta: 18, epsilon: 1.0, NT_per_Second: 50\n",
      "23Job: 18, N_Quanta: 18, epsilon: 1.0, NT_per_Second: 100\n",
      "23Job: 19, N_Quanta: 18, epsilon: 1.0, NT_per_Second: 200\n",
      "23Job: 20, N_Quanta: 18, epsilon: 1.0, NT_per_Second: 400\n",
      "2"
     ]
    },
    {
     "ename": "LoadError",
     "evalue": "LoadError: InterruptException:\nin expression starting at /Users/erussek/Dropbox/Griffiths_Lab_Stuff/Code/Memory_Models/simmonkeydelay.jl:102",
     "output_type": "error",
     "traceback": [
      "LoadError: InterruptException:\nin expression starting at /Users/erussek/Dropbox/Griffiths_Lab_Stuff/Code/Memory_Models/simmonkeydelay.jl:102",
      "",
      "Stacktrace:",
      "  [1] copy",
      "    @ ./array.jl:365 [inlined]",
      "  [2] get_s_prime_given_action_and_degraded_object",
      "    @ ~/Dropbox/Griffiths_Lab_Stuff/Code/Memory_Models/MDPModelFunctions.jl:31 [inlined]",
      "  [3] #79",
      "    @ ./none:0 [inlined]",
      "  [4] iterate",
      "    @ ./generator.jl:47 [inlined]",
      "  [5] collect(itr::Base.Generator{UnitRange{Int64}, var\"#79#80\"{Vector{Int64}, Int64}})",
      "    @ Base ./array.jl:782",
      "  [6] get_possible_s_prime_and_probs(s::Vector{Int64}, A::Int64)",
      "    @ Main ~/Dropbox/Griffiths_Lab_Stuff/Code/Memory_Models/MDPModelFunctions.jl:46",
      "  [7] get_Pol_onestep_R(s::Vector{Int64}, object_probe_probs::Vector{Float64}, per_timestep_probe_prob::Float64, epsilon::Float64)",
      "    @ Main ~/Dropbox/Griffiths_Lab_Stuff/Code/Memory_Models/MDPModelFunctions2.jl:38",
      "  [8] simulate_episode(N_Quanta::Int64, N_Objects::Int64, epsilon::Float64, N_TimeSteps::Int64, object_probe_probs::Vector{Float64}; s::Int64)",
      "    @ Main ~/Dropbox/Griffiths_Lab_Stuff/Code/Memory_Models/MDPModelFunctions2.jl:78",
      "  [9] simulate_episode",
      "    @ ~/Dropbox/Griffiths_Lab_Stuff/Code/Memory_Models/MDPModelFunctions2.jl:61 [inlined]",
      " [10] simulate_delayed_memory_episode(N_Quanta::Int64, N_Objects::Int64, epsilon::Float64, N_TimeSteps_Pre::Int64, N_TimeSteps_Post::Int64; cue_reliability::Int64)",
      "    @ Main ~/Dropbox/Griffiths_Lab_Stuff/Code/Memory_Models/MDPModelFunctions2.jl:104",
      " [11] simulate_delayed_memory_episode",
      "    @ ~/Dropbox/Griffiths_Lab_Stuff/Code/Memory_Models/MDPModelFunctions2.jl:94 [inlined]",
      " [12] simulate_task_mult_ms(N_Quanta::Int64, N_Objects::Int64, epsilon::Float64, N_TimeSteps_Pre::Int64, N_TimeSteps_Post::Int64, N_Trials::Int64, sim_episode_fun::typeof(simulate_delayed_memory_episode), relevant_timepoints::Vector{Int64}; keep_first_object_only::Bool, mem_slopes::Vector{Float64}, cue_reliability::Int64, baseline_prob::Float64)",
      "    @ Main ~/Dropbox/Griffiths_Lab_Stuff/Code/Memory_Models/MDPModelFunctions2.jl:205",
      " [13] simulate_delayed_memory(N_Object_Vals::Vector{Int64}, N_Seconds_NoCue::Vector{Int64}, mem_slopes::Vector{Float64}, N_Quanta::Int64, epsilon::Float64, NT_per_Sec::Int64)",
      "    @ Main ~/Dropbox/Griffiths_Lab_Stuff/Code/Memory_Models/simmonkeydelay.jl:41",
      " [14] top-level scope",
      "    @ ~/Dropbox/Griffiths_Lab_Stuff/Code/Memory_Models/simmonkeydelay.jl:117",
      " [15] include(fname::String)",
      "    @ Base.MainInclude ./client.jl:478"
     ]
    }
   ],
   "source": [
    "include(\"simmonkeydelay.jl\")"
   ]
  },
  {
   "cell_type": "code",
   "execution_count": 3,
   "id": "540060bc-a86e-4b05-b94f-5990d47646c3",
   "metadata": {},
   "outputs": [
    {
     "data": {
      "text/plain": [
       "7-element Vector{Float64}:\n",
       "  0.25\n",
       "  0.5\n",
       "  1.0\n",
       "  2.0\n",
       "  4.0\n",
       "  8.0\n",
       " 16.0"
      ]
     },
     "execution_count": 3,
     "metadata": {},
     "output_type": "execute_result"
    }
   ],
   "source": [
    "N_Seconds_NoCue"
   ]
  },
  {
   "cell_type": "code",
   "execution_count": 9,
   "id": "694456d2-7aaa-451c-953f-ebf7b4346d2e",
   "metadata": {},
   "outputs": [
    {
     "data": {
      "text/plain": [
       "7-element Vector{Float64}:\n",
       "  0.25\n",
       "  0.5\n",
       "  1.0\n",
       "  2.0\n",
       "  4.0\n",
       "  8.0\n",
       " 16.0"
      ]
     },
     "execution_count": 9,
     "metadata": {},
     "output_type": "execute_result"
    }
   ],
   "source": [
    "N_Seconds_NoCue = .25 * 2 .^ (0:6)\n"
   ]
  },
  {
   "cell_type": "code",
   "execution_count": 8,
   "id": "679ebdda",
   "metadata": {},
   "outputs": [
    {
     "ename": "LoadError",
     "evalue": "syntax: invalid syntax \"2.^\"; add space(s) to clarify",
     "output_type": "error",
     "traceback": [
      "syntax: invalid syntax \"2.^\"; add space(s) to clarify",
      "",
      "Stacktrace:",
      " [1] top-level scope",
      "   @ In[8]:1"
     ]
    }
   ],
   "source": [
    "N_Seconds_Pre_Vals = .25 * 2.^ (0:5)\n"
   ]
  },
  {
   "cell_type": "code",
   "execution_count": 1,
   "id": "c9c07277",
   "metadata": {},
   "outputs": [
    {
     "data": {
      "text/plain": [
       "25.0"
      ]
     },
     "execution_count": 1,
     "metadata": {},
     "output_type": "execute_result"
    }
   ],
   "source": [
    "7500/300"
   ]
  },
  {
   "cell_type": "code",
   "execution_count": null,
   "id": "ea1f78e0-4733-4541-9c41-e944881bb0b0",
   "metadata": {},
   "outputs": [],
   "source": []
  }
 ],
 "metadata": {
  "kernelspec": {
   "display_name": "Julia 1.9.1",
   "language": "julia",
   "name": "julia-1.9"
  },
  "language_info": {
   "file_extension": ".jl",
   "mimetype": "application/julia",
   "name": "julia",
   "version": "1.9.1"
  }
 },
 "nbformat": 4,
 "nbformat_minor": 5
}
