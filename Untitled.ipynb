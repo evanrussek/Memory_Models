{
 "cells": [
  {
   "cell_type": "code",
   "execution_count": null,
   "id": "76630a96-3860-4d65-85db-c6bf864b0f8d",
   "metadata": {},
   "outputs": [
    {
     "name": "stdout",
     "output_type": "stream",
     "text": [
      "N_Jobs_Total: 7500\n",
      "Job: 1, N_Quanta: 2, epsilon: 1.0, NT_per_Second: 25\n",
      "2345681023456810Job: 2, N_Quanta: 2, epsilon: 1.0, NT_per_Second: 50\n",
      "2345681023456810Job: 3, N_Quanta: 2, epsilon: 1.0, NT_per_Second: 100\n",
      "2345681023456810Job: 4, N_Quanta: 2, epsilon: 1.0, NT_per_Second: 200\n",
      "2345681023456810Job: 5, N_Quanta: 2, epsilon: 1.0, NT_per_Second: 400\n",
      "2345681023456810Job: 6, N_Quanta: 2, epsilon: 1.0, NT_per_Second: 800\n",
      "2345681023456810Job: 7, N_Quanta: 6, epsilon: 1.0, NT_per_Second: 25\n",
      "2345681023456810Job: 8, N_Quanta: 6, epsilon: 1.0, NT_per_Second: 50\n",
      "2345681023456810Job: 9, N_Quanta: 6, epsilon: 1.0, NT_per_Second: 100\n",
      "23456810234568"
     ]
    }
   ],
   "source": [
    "include(\"manyloadsim.jl\")"
   ]
  },
  {
   "cell_type": "code",
   "execution_count": 3,
   "id": "540060bc-a86e-4b05-b94f-5990d47646c3",
   "metadata": {},
   "outputs": [
    {
     "data": {
      "text/plain": [
       "7-element Vector{Float64}:\n",
       "  0.25\n",
       "  0.5\n",
       "  1.0\n",
       "  2.0\n",
       "  4.0\n",
       "  8.0\n",
       " 16.0"
      ]
     },
     "execution_count": 3,
     "metadata": {},
     "output_type": "execute_result"
    }
   ],
   "source": [
    "N_Seconds_NoCue"
   ]
  },
  {
   "cell_type": "code",
   "execution_count": 9,
   "id": "694456d2-7aaa-451c-953f-ebf7b4346d2e",
   "metadata": {},
   "outputs": [
    {
     "data": {
      "text/plain": [
       "7-element Vector{Float64}:\n",
       "  0.25\n",
       "  0.5\n",
       "  1.0\n",
       "  2.0\n",
       "  4.0\n",
       "  8.0\n",
       " 16.0"
      ]
     },
     "execution_count": 9,
     "metadata": {},
     "output_type": "execute_result"
    }
   ],
   "source": [
    "N_Seconds_NoCue = .25 * 2 .^ (0:6)\n"
   ]
  },
  {
   "cell_type": "code",
   "execution_count": 8,
   "id": "679ebdda",
   "metadata": {},
   "outputs": [
    {
     "ename": "LoadError",
     "evalue": "syntax: invalid syntax \"2.^\"; add space(s) to clarify",
     "output_type": "error",
     "traceback": [
      "syntax: invalid syntax \"2.^\"; add space(s) to clarify",
      "",
      "Stacktrace:",
      " [1] top-level scope",
      "   @ In[8]:1"
     ]
    }
   ],
   "source": [
    "N_Seconds_Pre_Vals = .25 * 2.^ (0:5)\n"
   ]
  },
  {
   "cell_type": "code",
   "execution_count": 1,
   "id": "c9c07277",
   "metadata": {},
   "outputs": [
    {
     "data": {
      "text/plain": [
       "25.0"
      ]
     },
     "execution_count": 1,
     "metadata": {},
     "output_type": "execute_result"
    }
   ],
   "source": [
    "7500/300"
   ]
  },
  {
   "cell_type": "code",
   "execution_count": null,
   "id": "ea1f78e0-4733-4541-9c41-e944881bb0b0",
   "metadata": {},
   "outputs": [],
   "source": []
  }
 ],
 "metadata": {
  "kernelspec": {
   "display_name": "Julia 1.9.1",
   "language": "julia",
   "name": "julia-1.9"
  },
  "language_info": {
   "file_extension": ".jl",
   "mimetype": "application/julia",
   "name": "julia",
   "version": "1.9.1"
  }
 },
 "nbformat": 4,
 "nbformat_minor": 5
}
