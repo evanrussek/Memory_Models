{
 "cells": [
  {
   "cell_type": "code",
   "execution_count": 29,
   "id": "4cd300b6-4a2d-43c5-818d-ac9e11124379",
   "metadata": {},
   "outputs": [
    {
     "name": "stderr",
     "output_type": "stream",
     "text": [
      "WARNING: using BlackBoxOptim.params in module Main conflicts with an existing identifier.\n"
     ]
    }
   ],
   "source": [
    "## started this...\n",
    "\n",
    "include(\"MDPModelFunctions2.jl\")\n",
    "#using PyCall\n",
    "\n",
    "#pb = pyimport(\"pybads\")\n",
    "#pyimport(\"sys\").stdout.flush()\n",
    "using BlackBoxOptim"
   ]
  },
  {
   "cell_type": "code",
   "execution_count": 30,
   "id": "0df90ab0-d3f8-4be1-a7c5-89dbfb8a14a8",
   "metadata": {},
   "outputs": [],
   "source": [
    "#using Pkg\n",
    "#Pkg.add(\"BlackBoxOptim\")"
   ]
  },
  {
   "cell_type": "code",
   "execution_count": 27,
   "id": "57c37064-cb0e-4d6e-9935-8894b937b290",
   "metadata": {},
   "outputs": [
    {
     "data": {
      "text/plain": [
       "1"
      ]
     },
     "execution_count": 27,
     "metadata": {},
     "output_type": "execute_result"
    }
   ],
   "source": [
    "Threads.nthreads()"
   ]
  },
  {
   "cell_type": "code",
   "execution_count": 31,
   "id": "fff61f9b-5b83-4626-836b-be574541d68e",
   "metadata": {},
   "outputs": [
    {
     "data": {
      "text/plain": [
       "3×4 Matrix{Float64}:\n",
       " 2.63  2.41  4.8   2.46\n",
       " 2.75  2.38  3.97  2.15\n",
       " 2.75  2.38  3.97  2.15"
      ]
     },
     "execution_count": 31,
     "metadata": {},
     "output_type": "execute_result"
    }
   ],
   "source": [
    "\n",
    "function format_res_cowan_k(res; exp_num = 1)\n",
    "    \n",
    "    if exp_num == 1\n",
    "    \n",
    "        # row is 2 obj vs 4 obj\n",
    "        # col is pre-cue, neutral, retro-cue, neutral\n",
    "        \n",
    "        part_pcorr = res;\n",
    "        model_cowan_p_corr = [part_pcorr; part_pcorr[2,:]']'\n",
    "        model_cowan_k_mtx = cowan_k(model_cowan_p_corr, 2)\n",
    "        model_cowan_k_mtx[2,:] = cowan_k(model_cowan_p_corr[2,:], 4)\n",
    "        \n",
    "        model_cowan_k = [model_cowan_k_mtx[1,:]' model_cowan_k_mtx[2,:]']';#[model_cowan_k_mtx[1,:] model_cowan_k_mtx[2,:]]\n",
    "    elseif exp_num == 2\n",
    "        \n",
    "        # IM cued, IM neutral, VSTM cued, VSTM neutral - need to adjust from what it was saved as\n",
    "        \n",
    "        (p_short_neutral, p_short_retro, p_long_neutral, p_long_retro) = res\n",
    "        model_cowan_k = cowan_k([p_short_retro p_short_neutral p_long_retro p_long_neutral],4)'\n",
    "        \n",
    "    else\n",
    "        \n",
    "        (p_IM_neutral, p_IM_retro, p_VSTM_neutral, p_VSTM_retro, p_Long_VSTM_neutral, p_Long_VSTM_retro) = res\n",
    "\n",
    "        # Load 3 cued, Load 3 Neutral, Load 6 cued, Load 6 neutral\n",
    "        IM_model = [cowan_k(p_IM_retro[1],3) cowan_k(p_IM_neutral[1],3) cowan_k(p_IM_retro[2],6) cowan_k(p_IM_neutral[2], 6)]\n",
    "        Short_VSTM_model = [cowan_k(p_VSTM_retro[1],3) cowan_k(p_VSTM_neutral[1],3) cowan_k(p_VSTM_retro[2],6) cowan_k(p_VSTM_neutral[2], 6)]\n",
    "        Long_VSTM_model = [cowan_k(p_Long_VSTM_retro[1],3) cowan_k(p_Long_VSTM_neutral[1],3) cowan_k(p_Long_VSTM_retro[2],6) cowan_k(p_Long_VSTM_neutral[2], 6)]\n",
    "\n",
    "        # 3 x 4\n",
    "        model_cowan_k = [IM_model; Short_VSTM_model; Long_VSTM_model]  \n",
    "        \n",
    "    end\n",
    "        \n",
    "    return model_cowan_k\n",
    "    \n",
    "end    \n",
    "\n",
    "\n",
    "# 6 parameteres for 44 datapoints \n",
    "\n",
    "exp1_cowan_k_true_7_yr = [1.16 1.14 1.13 1.02 2.80 .91 1.30 .96]' # 8\n",
    "exp1_cowan_k_true_adult = [1.98 1.94 1.97 1.95 3.87 2.66 3.64 2.87]'\n",
    "\n",
    "# experiment 2 - 4 objects\n",
    "# col is IM cued, IM neutral, VSTM cued, VSTM neutral\n",
    "\n",
    "exp2_cowan_k_true_7_yr = [1.55 1.16 1.00 0.69]' # 4\n",
    "exp2_cowan_k_true_adult = [3.54 2.58 3.58 2.65]'\n",
    "\n",
    "# experiment 3\n",
    "\n",
    "# Load 3 cued, Load 3 Neutral, Load 6 cued, Load 6 neutral\n",
    "IM_true_7_yr = [1.44 1.27 1.82 0.88]\n",
    "Short_VSTM_true_7_yr = [1.14 0.77 NaN NaN]\n",
    "Long_VSTM_true_7_yr = [1.19 0.90 NaN NaN]\n",
    "\n",
    "# 8\n",
    "\n",
    "exp3_cowan_k_true_7_yr = [IM_true_7_yr; Short_VSTM_true_7_yr; Short_VSTM_true_7_yr]\n",
    "\n",
    "\n",
    "IM_true_adult = [2.63 2.41 4.80 2.46]\n",
    "Short_VSTM_true_adult = [2.75 2.38 3.97 2.15]\n",
    "Long_VSTM_true_adult = [2.76 2.30 3.65 1.75]\n",
    "# 12\n",
    "\n",
    "exp3_cowan_k_true_adult = [IM_true_adult; Short_VSTM_true_adult; Short_VSTM_true_adult]"
   ]
  },
  {
   "cell_type": "code",
   "execution_count": 32,
   "id": "79908083-2444-4bf8-baf0-f6dc5fbe4bc9",
   "metadata": {},
   "outputs": [
    {
     "data": {
      "text/plain": [
       "compute_mse (generic function with 1 method)"
      ]
     },
     "execution_count": 32,
     "metadata": {},
     "output_type": "execute_result"
    }
   ],
   "source": [
    "# function to compute mean squared error...\n",
    "\n",
    "# takes in Adult_Quanta (int), Adult_Epsilon (0-1 bounded), Child_Quanta (int), Child_Epsilon (0-1 bounded), Mem_slope (less than 1), NT_val # 6 params...\n",
    "\n",
    "# params = [20, .8, 5, .4, .1, 100]\n",
    "\n",
    "function compute_mse(params, exp1_cowan_k_true_7_yr, exp1_cowan_k_true_adult, exp2_cowan_k_true_7_yr, exp2_cowan_k_true_adult, exp3_cowan_k_true_7_yr, exp3_cowan_k_true_adult)\n",
    "\n",
    "    adult_quanta = round(100*params[1])\n",
    "    adult_epsilon = params[2]\n",
    "    child_quanta = round(100*params[3])\n",
    "    child_epsilon = params[4]\n",
    "    mem_slope = params[5]\n",
    "    nt_val = Int(round(1000*params[6]))\n",
    "\n",
    "    N_Trials = 1\n",
    "\n",
    "    # simulate for children...\n",
    "    children_res_1 = sim_exp1(child_epsilon, child_quanta, nt_val; mem_slope = mem_slope, N_Trials = N_Trials);\n",
    "    children_cowan_k1 = format_res_cowan_k(children_res_1; exp_num = 1)\n",
    "    children_res_2 = sim_exp2(child_epsilon, child_quanta, nt_val; mem_slope = mem_slope, N_Trials = N_Trials);\n",
    "    children_cowan_k2 = format_res_cowan_k(children_res_2; exp_num = 2)\n",
    "    children_res_3 = sim_exp3(child_epsilon, child_quanta, nt_val; mem_slope = mem_slope, N_Trials = N_Trials);\n",
    "    children_cowan_k3 = format_res_cowan_k(children_res_3; exp_num = 3)\n",
    "\n",
    "\n",
    "    adult_res_1 = sim_exp1(adult_epsilon, adult_quanta, nt_val; mem_slope = mem_slope, N_Trials = N_Trials);\n",
    "    adult_cowan_k1 = format_res_cowan_k(adult_res_1; exp_num = 1)\n",
    "    adult_res_2 = sim_exp2(adult_epsilon, adult_quanta, nt_val; mem_slope = mem_slope, N_Trials = N_Trials);\n",
    "    adult_cowan_k2 = format_res_cowan_k(adult_res_2; exp_num = 2)\n",
    "    adult_res_3 = sim_exp3(adult_epsilon, adult_quanta, nt_val; mem_slope = mem_slope, N_Trials = N_Trials);\n",
    "    adult_cowan_k3 = format_res_cowan_k(adult_res_3; exp_num = 3)\n",
    "\n",
    "    child_mse1 = sum((children_cowan_k1 .- exp1_cowan_k_true_7_yr).^2)\n",
    "    adult_mse1 = sum((adult_cowan_k1 .- exp1_cowan_k_true_adult).^2)\n",
    "\n",
    "    child_mse2 = sum((children_cowan_k2 .- exp2_cowan_k_true_7_yr).^2)\n",
    "    adult_mse2 = sum((adult_cowan_k2 .- exp2_cowan_k_true_adult).^2)\n",
    "\n",
    "    child_sq_err = (children_cowan_k3[:] .- exp3_cowan_k_true_7_yr[:]).^2\n",
    "    child_mse3 = sum(child_sq_err[.!isnan.(child_sq_err)])\n",
    "    adult_mse3 = sum((adult_cowan_k3 .- exp3_cowan_k_true_adult).^2)\n",
    "\n",
    "    child_mse = child_mse1 + child_mse2 + child_mse3\n",
    "    adult_mse = adult_mse1 + adult_mse2 + adult_mse3\n",
    "\n",
    "    both_mse = child_mse + adult_mse\n",
    "    \n",
    "    return both_mse\n",
    "    \n",
    "end"
   ]
  },
  {
   "cell_type": "code",
   "execution_count": 33,
   "id": "9b5fbac8-032f-4e71-95c7-df5b4762768e",
   "metadata": {},
   "outputs": [
    {
     "data": {
      "text/plain": [
       "78.70434726005253"
      ]
     },
     "execution_count": 33,
     "metadata": {},
     "output_type": "execute_result"
    }
   ],
   "source": [
    "params = [20, .8, 5, .4, .1, 100]\n",
    "compute_mse(params, exp1_cowan_k_true_7_yr, exp1_cowan_k_true_adult, exp2_cowan_k_true_7_yr, exp2_cowan_k_true_adult, exp3_cowan_k_true_7_yr, exp3_cowan_k_true_adult)"
   ]
  },
  {
   "cell_type": "code",
   "execution_count": 21,
   "id": "e5f69af0-4d7a-408a-9cd8-da896dc66e9d",
   "metadata": {},
   "outputs": [
    {
     "data": {
      "text/plain": [
       "Dict{String, Integer} with 3 entries:\n",
       "  \"noise_final_samples\"  => 2\n",
       "  \"uncertainty_handling\" => true\n",
       "  \"max_fun_evals\"        => 40"
      ]
     },
     "execution_count": 21,
     "metadata": {},
     "output_type": "execute_result"
    }
   ],
   "source": [
    "options = Dict(\"uncertainty_handling\" => true, \"max_fun_evals\" => 40,\"noise_final_samples\" => 2 )"
   ]
  },
  {
   "cell_type": "code",
   "execution_count": 22,
   "id": "cb974f1e-6abd-40a2-a472-f73bd1833ce6",
   "metadata": {},
   "outputs": [
    {
     "name": "stdout",
     "output_type": "stream",
     "text": [
      "bads:TooCloseBounds: For each variable, hard and plausible bounds should not be too close. Moving plausible bounds.\n",
      "Variables (index) internally transformed to log coordinates: [[0 2]\n",
      " [0 4]]\n"
     ]
    },
    {
     "data": {
      "text/plain": [
       "PyObject <pybads.bads.bads.BADS object at 0x293a56380>"
      ]
     },
     "execution_count": 22,
     "metadata": {},
     "output_type": "execute_result"
    }
   ],
   "source": [
    "# takes in Adult_Quanta (int), Adult_Epsilon (0-1 bounded), Child_Quanta (int), Child_Epsilon (0-1 bounded), Mem_slope (less than 1), NT_val # 6 params...\n",
    "lb = [2, 0, 2, 0, .001, 10]\n",
    "ub = [100, 1, 100, 1, 1, 1000]\n",
    "plausible_lower_bounds = [10, .8, 2, .8, .05, 500]\n",
    "plausible_upper_bounds = [100, 1, 100, 1, .6, 1000]\n",
    "\n",
    "target(params) = compute_mse(params, exp1_cowan_k_true_7_yr, exp1_cowan_k_true_adult, exp2_cowan_k_true_7_yr, exp2_cowan_k_true_adult, exp3_cowan_k_true_7_yr, exp3_cowan_k_true_adult)\n",
    "x0 = [20,.9, 20, .9, .1, 600]\n",
    "\n",
    "bads = pb.BADS(target, x0, lb, ub, plausible_lower_bounds, plausible_upper_bounds, options = options)"
   ]
  },
  {
   "cell_type": "code",
   "execution_count": 23,
   "id": "912b034d-e907-4103-8229-0ce890769ce5",
   "metadata": {},
   "outputs": [
    {
     "name": "stdout",
     "output_type": "stream",
     "text": [
      "Beginning optimization of a STOCHASTIC objective function\n",
      "\n",
      " Iteration    f-count      E[f(x)]        SD[f(x)]           MeshScale          Method              Actions\n",
      "     0           1         194.445             nan               1                                  \n",
      "     0          33         52.9346             nan               1          Initial mesh            Initial points\n",
      "     0          38         28.0739         1.01263               1        Successful poll           Train\n",
      "Optimization terminated: reached maximum number of function evaluations options['max_fun_evals'].\n",
      "Observed function value at minimum: 28.040573702451134 (1 sample). Estimated: 28.07390370170654 ± 1.0126302652810046 (GP mean ± SEM).\n"
     ]
    },
    {
     "ename": "LoadError",
     "evalue": "PyError ($(Expr(:escape, :(ccall(#= /Users/erussek/.julia/packages/PyCall/1gn3u/src/pyfncall.jl:43 =# @pysym(:PyObject_Call), PyPtr, (PyPtr, PyPtr, PyPtr), o, pyargsptr, kw))))) <class 'TypeError'>\nTypeError(\"cannot pickle 'PyCall.jlwrap' object\")\n  File \"/Users/erussek/.julia/conda/3/lib/python3.10/site-packages/pybads/bads/bads.py\", line 1518, in optimize\n    optimize_result = OptimizeResult(self)\n  File \"/Users/erussek/.julia/conda/3/lib/python3.10/site-packages/pybads/bads/optimize_result.py\", line 81, in __init__\n    self.set_attributes(bads)\n  File \"/Users/erussek/.julia/conda/3/lib/python3.10/site-packages/pybads/bads/optimize_result.py\", line 90, in set_attributes\n    self[\"fun\"] = bads.function_logger.fun\n  File \"/Users/erussek/.julia/conda/3/lib/python3.10/site-packages/pybads/bads/optimize_result.py\", line 177, in __setitem__\n    dict.__setitem__(self, key, copy.deepcopy(val))\n  File \"/Users/erussek/.julia/conda/3/lib/python3.10/copy.py\", line 161, in deepcopy\n    rv = reductor(4)\n",
     "output_type": "error",
     "traceback": [
      "PyError ($(Expr(:escape, :(ccall(#= /Users/erussek/.julia/packages/PyCall/1gn3u/src/pyfncall.jl:43 =# @pysym(:PyObject_Call), PyPtr, (PyPtr, PyPtr, PyPtr), o, pyargsptr, kw))))) <class 'TypeError'>\nTypeError(\"cannot pickle 'PyCall.jlwrap' object\")\n  File \"/Users/erussek/.julia/conda/3/lib/python3.10/site-packages/pybads/bads/bads.py\", line 1518, in optimize\n    optimize_result = OptimizeResult(self)\n  File \"/Users/erussek/.julia/conda/3/lib/python3.10/site-packages/pybads/bads/optimize_result.py\", line 81, in __init__\n    self.set_attributes(bads)\n  File \"/Users/erussek/.julia/conda/3/lib/python3.10/site-packages/pybads/bads/optimize_result.py\", line 90, in set_attributes\n    self[\"fun\"] = bads.function_logger.fun\n  File \"/Users/erussek/.julia/conda/3/lib/python3.10/site-packages/pybads/bads/optimize_result.py\", line 177, in __setitem__\n    dict.__setitem__(self, key, copy.deepcopy(val))\n  File \"/Users/erussek/.julia/conda/3/lib/python3.10/copy.py\", line 161, in deepcopy\n    rv = reductor(4)\n",
      "",
      "Stacktrace:",
      "  [1] pyerr_check",
      "    @ ~/.julia/packages/PyCall/1gn3u/src/exception.jl:75 [inlined]",
      "  [2] pyerr_check",
      "    @ ~/.julia/packages/PyCall/1gn3u/src/exception.jl:79 [inlined]",
      "  [3] _handle_error(msg::String)",
      "    @ PyCall ~/.julia/packages/PyCall/1gn3u/src/exception.jl:96",
      "  [4] macro expansion",
      "    @ ~/.julia/packages/PyCall/1gn3u/src/exception.jl:110 [inlined]",
      "  [5] #107",
      "    @ ~/.julia/packages/PyCall/1gn3u/src/pyfncall.jl:43 [inlined]",
      "  [6] disable_sigint",
      "    @ ./c.jl:473 [inlined]",
      "  [7] __pycall!",
      "    @ ~/.julia/packages/PyCall/1gn3u/src/pyfncall.jl:42 [inlined]",
      "  [8] _pycall!(ret::PyObject, o::PyObject, args::Tuple{}, nargs::Int64, kw::Ptr{Nothing})",
      "    @ PyCall ~/.julia/packages/PyCall/1gn3u/src/pyfncall.jl:29",
      "  [9] _pycall!",
      "    @ ~/.julia/packages/PyCall/1gn3u/src/pyfncall.jl:11 [inlined]",
      " [10] #_#114",
      "    @ ~/.julia/packages/PyCall/1gn3u/src/pyfncall.jl:86 [inlined]",
      " [11] (::PyObject)()",
      "    @ PyCall ~/.julia/packages/PyCall/1gn3u/src/pyfncall.jl:86",
      " [12] top-level scope",
      "    @ In[23]:1"
     ]
    }
   ],
   "source": [
    "bads.optimize()\n"
   ]
  },
  {
   "cell_type": "code",
   "execution_count": 15,
   "id": "75f0f67f-d644-4006-b9e7-be35b14ec537",
   "metadata": {},
   "outputs": [
    {
     "ename": "LoadError",
     "evalue": "UndefVarError: `optimize_result` not defined",
     "output_type": "error",
     "traceback": [
      "UndefVarError: `optimize_result` not defined",
      ""
     ]
    }
   ],
   "source": [
    "optimize_result"
   ]
  },
  {
   "cell_type": "code",
   "execution_count": null,
   "id": "adcff883-b6c3-4510-bee8-8c0c7a7b0637",
   "metadata": {},
   "outputs": [],
   "source": []
  }
 ],
 "metadata": {
  "kernelspec": {
   "display_name": "Julia 1.9.1",
   "language": "julia",
   "name": "julia-1.9"
  },
  "language_info": {
   "file_extension": ".jl",
   "mimetype": "application/julia",
   "name": "julia",
   "version": "1.9.1"
  }
 },
 "nbformat": 4,
 "nbformat_minor": 5
}
