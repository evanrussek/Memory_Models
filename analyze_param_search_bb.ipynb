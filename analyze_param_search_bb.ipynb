{
 "cells": [
  {
   "cell_type": "code",
   "execution_count": 15,
   "id": "ddace5e4-3f77-47cf-b458-babd376c23e2",
   "metadata": {},
   "outputs": [
    {
     "name": "stderr",
     "output_type": "stream",
     "text": [
      "\u001b[32m\u001b[1m    CondaPkg \u001b[22m\u001b[39m\u001b[0mFound dependencies: /Users/erussek/.julia/packages/PythonCall/wXfah/CondaPkg.toml\n",
      "\u001b[32m\u001b[1m    CondaPkg \u001b[22m\u001b[39m\u001b[0mFound dependencies: /Users/erussek/.julia/packages/PythonPlot/KcWMF/CondaPkg.toml\n",
      "\u001b[32m\u001b[1m    CondaPkg \u001b[22m\u001b[39m\u001b[0mDependencies already up to date\n"
     ]
    }
   ],
   "source": [
    "include(\"MDPModelFunctions2.jl\")\n",
    "using JLD2\n",
    "using PythonPlot"
   ]
  },
  {
   "cell_type": "code",
   "execution_count": 57,
   "id": "66dd0a3c-8915-4de3-be6f-2c881297f028",
   "metadata": {},
   "outputs": [
    {
     "name": "stdout",
     "output_type": "stream",
     "text": [
      "0.034, 1100"
     ]
    }
   ],
   "source": [
    "to_save_folder = \"/Users/erussek/Dropbox/Griffiths_Lab_Stuff/code/Memory_Models/shimi_bbopts\"\n",
    "\n",
    "# re-run with new values so we can see some concavity...\n",
    "NT_vals = collect(100:250:2200)\n",
    "N_nt = length(NT_vals)\n",
    "mem_slopes = round.([.01*(1.5^x) for x = 2:9], digits = 3)\n",
    "N_ms = length(mem_slopes)\n",
    "\n",
    "# get child res...\n",
    "\n",
    "child_vals = zeros(N_nt, N_ms)\n",
    "\n",
    "\n",
    "adult_vals = zeros(N_nt, N_ms)\n",
    "adult_epsilon = zeros(N_nt, N_ms)\n",
    "adult_quanta = zeros(N_nt, N_ms)\n",
    "child_epsilon = zeros(N_nt, N_ms)\n",
    "child_quanta = zeros(N_nt, N_ms)\n",
    "\n",
    "for (ms_idx,ms) in enumerate(mem_slopes)\n",
    "    for (nt_idx,nt) in enumerate(NT_vals)\n",
    "        which_group = \"child\"\n",
    "\n",
    "        try\n",
    "            file_name = \"Group_$(which_group)_NT_$(nt)_memslope_$(ms).jld2\"\n",
    "            full_file_path = joinpath(to_save_folder,file_name)\n",
    "            res = load(full_file_path)\n",
    "            child_vals[nt_idx, ms_idx] = res[\"res_dict\"][\"val\"]\n",
    "            \n",
    "            child_quanta[nt_idx,ms_idx] = res[\"res_dict\"][\"x\"][1]\n",
    "            child_epsilon[nt_idx,ms_idx] = res[\"res_dict\"][\"x\"][2]\n",
    "        catch\n",
    "            print(\"$(ms), $(nt)\")\n",
    "            child_vals[nt_idx, ms_idx] = 0\n",
    "\n",
    "        end\n",
    "        which_group = \"adult\"\n",
    "        try\n",
    "            file_name = \"Group_$(which_group)_NT_$(nt)_memslope_$(ms).jld2\"\n",
    "            full_file_path = joinpath(to_save_folder,file_name)\n",
    "            res = load(full_file_path)\n",
    "            adult_vals[nt_idx, ms_idx] = res[\"res_dict\"][\"val\"]\n",
    "            adult_quanta[nt_idx,ms_idx] = res[\"res_dict\"][\"x\"][1]\n",
    "            adult_epsilon[nt_idx,ms_idx] = res[\"res_dict\"][\"x\"][2]\n",
    "        catch\n",
    "            print(\"$(ms), $(nt)\")\n",
    "            adult_vals[nt_idx, ms_idx] = NaN\n",
    "        end\n",
    "    end\n",
    "end\n",
    "        \n"
   ]
  },
  {
   "cell_type": "code",
   "execution_count": 62,
   "id": "05f232d5-eea4-4d14-8092-438143d9a087",
   "metadata": {},
   "outputs": [
    {
     "data": {
      "text/plain": [
       "8-element Vector{Float64}:\n",
       " 0.022\n",
       " 0.034\n",
       " 0.051\n",
       " 0.076\n",
       " 0.114\n",
       " 0.171\n",
       " 0.256\n",
       " 0.384"
      ]
     },
     "execution_count": 62,
     "metadata": {},
     "output_type": "execute_result"
    }
   ],
   "source": [
    "mem_slopes"
   ]
  },
  {
   "cell_type": "code",
   "execution_count": 66,
   "id": "51fbd670-a100-4e08-89bd-408d8f690f82",
   "metadata": {},
   "outputs": [
    {
     "data": {
      "text/plain": [
       "9-element Vector{Int64}:\n",
       "  100\n",
       "  350\n",
       "  600\n",
       "  850\n",
       " 1100\n",
       " 1350\n",
       " 1600\n",
       " 1850\n",
       " 2100"
      ]
     },
     "execution_count": 66,
     "metadata": {},
     "output_type": "execute_result"
    }
   ],
   "source": [
    "NT_vals"
   ]
  },
  {
   "cell_type": "code",
   "execution_count": 71,
   "id": "248d5a62-a264-4cea-a5c6-33e73d879386",
   "metadata": {},
   "outputs": [
    {
     "data": {
      "text/plain": [
       "9×8 Matrix{Float64}:\n",
       " 10.6886   2.69477  2.49831  2.37629  2.22494  1.63828  1.32259  1.22152\n",
       "  9.02076  3.57391  2.45553  2.40433  1.6505   1.15433  1.36281  1.61833\n",
       "  9.94535  3.4622   2.57021  2.03097  2.93847  1.55256  1.3521   3.00754\n",
       "  9.79437  3.35798  3.91752  1.60006  2.705    1.09384  1.34083  1.38933\n",
       " 11.237    5.03286  2.57532  3.23824  1.31739  1.44451  1.27363  2.20969\n",
       " 10.2161   3.24491  2.16472  4.18664  1.24075  1.79336  1.4396   1.71658\n",
       " 10.2866   7.33877  1.85136  3.24638  2.09615  3.10679  1.7882   1.94671\n",
       " 10.2682   6.48901  6.36214  4.10271  2.02981  1.86849  2.91864  2.02029\n",
       " 10.3449   5.10431  2.5051   1.15026  4.93666  1.84152  1.64753  4.65314"
      ]
     },
     "execution_count": 71,
     "metadata": {},
     "output_type": "execute_result"
    }
   ],
   "source": [
    "adult_vals"
   ]
  },
  {
   "cell_type": "code",
   "execution_count": 44,
   "id": "138df687-e066-4d84-8c0b-d871477eea7d",
   "metadata": {},
   "outputs": [
    {
     "data": {
      "text/plain": [
       "9×8 Matrix{Float64}:\n",
       " 0.998454  0.993996  0.717982  0.496096  …  0.218641  0.145648  0.111803\n",
       " 0.996724  0.909047  0.786689  0.593852     0.247853  0.167576  0.123883\n",
       " 0.998746  0.96844   0.752359  0.530903     0.233094  0.144988  0.137582\n",
       " 0.988119  0.960811  0.731252  0.568889     0.261723  0.159009  0.115174\n",
       " 0.938479  0.816338  0.726644  0.445162     0.223074  0.164151  0.127401\n",
       " 0.976197  0.982396  0.746841  0.424758  …  0.198002  0.156178  0.128359\n",
       " 0.973692  0.943943  0.880872  0.559466     0.318989  0.173535  0.136454\n",
       " 0.990612  0.821311  0.823859  0.359659     0.344348  0.215646  0.126141\n",
       " 0.990466  0.913589  0.748965  0.561724     0.354451  0.155473  0.123885"
      ]
     },
     "execution_count": 44,
     "metadata": {},
     "output_type": "execute_result"
    }
   ],
   "source": [
    "adult_quanta"
   ]
  },
  {
   "cell_type": "code",
   "execution_count": 61,
   "id": "1a81cc9e-9ae0-4c81-af60-892ba1b6153d",
   "metadata": {},
   "outputs": [
    {
     "data": {
      "text/plain": [
       "9×8 Matrix{Float64}:\n",
       " 0.00930702  0.206081  0.473488  0.656413  …  0.716735  0.611474  0.30855\n",
       " 0.321144    0.723689  0.872449  0.895807     0.808455  0.558972  0.37043\n",
       " 0.325852    0.812165  0.895903  0.892175     0.7098    0.289188  0.289663\n",
       " 0.616153    0.902859  0.86934   0.936561     0.801794  0.442696  0.215971\n",
       " 0.503263    0.917058  0.928016  0.86255      0.684169  0.490929  0.195975\n",
       " 0.476078    0.939189  0.950587  0.82899   …  0.617766  0.468052  0.32857\n",
       " 0.771466    0.466126  0.957959  0.903903     0.793727  0.396404  0.403702\n",
       " 0.0780956   0.859437  0.902703  0.820204     0.878511  0.586155  0.30345\n",
       " 0.467385    0.900097  0.937401  0.931105     0.862144  0.427555  0.335325"
      ]
     },
     "execution_count": 61,
     "metadata": {},
     "output_type": "execute_result"
    }
   ],
   "source": [
    "adult_epsilon"
   ]
  },
  {
   "cell_type": "code",
   "execution_count": 45,
   "id": "f2ce38c8-27a7-4a5f-bef6-a0acfd246567",
   "metadata": {},
   "outputs": [
    {
     "data": {
      "text/plain": [
       "9×8 Matrix{Float64}:\n",
       " 0.514451  0.329476  0.222066  0.135796  …  0.0751348  0.0493959  0.0257428\n",
       " 0.496902  0.329122  0.219812  0.113281     0.0858834  0.102846   0.0310303\n",
       " 0.639005  0.189589  0.153245  0.13576      0.0691097  0.0696297  0.0445889\n",
       " 0.665231  0.271714  0.308419  0.202466     0.266534   0.0837416  0.0958387\n",
       " 0.479795  0.0       0.211432  0.174645     0.119025   0.0469214  0.113179\n",
       " 0.730845  0.392285  0.354361  0.170625  …  0.0928727  0.0582865  0.166821\n",
       " 0.823476  0.256072  0.237456  0.118933     0.332247   0.108845   0.0296026\n",
       " 0.268784  0.274826  0.233788  0.122667     0.105854   0.12607    0.0385879\n",
       " 0.273475  0.389722  0.194242  0.108001     0.139464   0.11653    0.146761"
      ]
     },
     "execution_count": 45,
     "metadata": {},
     "output_type": "execute_result"
    }
   ],
   "source": [
    "child_quanta"
   ]
  },
  {
   "cell_type": "code",
   "execution_count": 46,
   "id": "71ac8b54-c800-46ca-bbb8-687a7b025b12",
   "metadata": {},
   "outputs": [
    {
     "data": {
      "text/plain": [
       "9×8 Matrix{Float64}:\n",
       " 0.00930702  0.206081  0.473488  0.656413  …  0.716735  0.611474  0.30855\n",
       " 0.321144    0.723689  0.872449  0.895807     0.808455  0.558972  0.37043\n",
       " 0.325852    0.812165  0.895903  0.892175     0.7098    0.289188  0.289663\n",
       " 0.616153    0.902859  0.86934   0.936561     0.801794  0.442696  0.215971\n",
       " 0.503263    0.917058  0.928016  0.86255      0.684169  0.490929  0.195975\n",
       " 0.476078    0.939189  0.950587  0.82899   …  0.617766  0.468052  0.32857\n",
       " 0.771466    0.466126  0.957959  0.903903     0.793727  0.396404  0.403702\n",
       " 0.0780956   0.859437  0.902703  0.820204     0.878511  0.586155  0.30345\n",
       " 0.467385    0.900097  0.937401  0.931105     0.862144  0.427555  0.335325"
      ]
     },
     "execution_count": 46,
     "metadata": {},
     "output_type": "execute_result"
    }
   ],
   "source": [
    "adult_epsilon"
   ]
  },
  {
   "cell_type": "code",
   "execution_count": 47,
   "id": "22cd8bf5-24ae-46be-8230-3a6d45a5fc81",
   "metadata": {},
   "outputs": [
    {
     "data": {
      "text/plain": [
       "9×8 Matrix{Float64}:\n",
       " 0.774844  0.8399    0.848047  0.852733  …  0.808281  0.662803  0.393113\n",
       " 0.92954   0.925604  0.910196  0.685528     0.81741   0.886225  0.229791\n",
       " 0.949276  0.518445  0.802126  0.870452     0.603328  0.670564  0.298676\n",
       " 0.986599  0.894089  0.973505  0.934775     0.97336   0.724534  0.840138\n",
       " 0.944257  0.0       0.888285  0.866054     0.843967  0.565629  0.902343\n",
       " 0.984035  0.972668  0.969544  0.895239  …  0.780778  0.622741  0.916661\n",
       " 0.989667  0.895289  0.9565    0.790925     0.982704  0.817192  0.0987156\n",
       " 0.666735  0.898718  0.924567  0.48182      0.808819  0.872039  0.229067\n",
       " 0.875562  0.98506   0.754306  0.81925      0.862944  0.762413  0.923948"
      ]
     },
     "execution_count": 47,
     "metadata": {},
     "output_type": "execute_result"
    }
   ],
   "source": [
    "child_epsilon"
   ]
  },
  {
   "cell_type": "code",
   "execution_count": 51,
   "id": "994a82e5-6931-4ccb-a1b0-b3d96fe85a3a",
   "metadata": {},
   "outputs": [
    {
     "data": {
      "text/plain": [
       "9×8 Matrix{Float64}:\n",
       " 10.6886   2.69477  2.49831  2.37629  2.22494  1.63828  1.32259  1.22152\n",
       "  9.02076  3.57391  2.45553  2.40433  1.6505   1.15433  1.36281  1.61833\n",
       "  9.94535  3.4622   2.57021  2.03097  2.93847  1.55256  1.3521   3.00754\n",
       "  9.79437  3.35798  3.91752  1.60006  2.705    1.09384  1.34083  1.38933\n",
       " 11.237    5.03286  2.57532  3.23824  1.31739  1.44451  1.27363  2.20969\n",
       " 10.2161   3.24491  2.16472  4.18664  1.24075  1.79336  1.4396   1.71658\n",
       " 10.2866   7.33877  1.85136  3.24638  2.09615  3.10679  1.7882   1.94671\n",
       " 10.2682   6.48901  6.36214  4.10271  2.02981  1.86849  2.91864  2.02029\n",
       " 10.3449   5.10431  2.5051   1.15026  4.93666  1.84152  1.64753  4.65314"
      ]
     },
     "execution_count": 51,
     "metadata": {},
     "output_type": "execute_result"
    }
   ],
   "source": [
    "adult_vals"
   ]
  },
  {
   "cell_type": "code",
   "execution_count": 27,
   "id": "da6bbaa2-e0f7-4d90-8e14-bddb3ee18043",
   "metadata": {},
   "outputs": [
    {
     "ename": "LoadError",
     "evalue": "Python: TypeError: 'norm' must be an instance of matplotlib.colors.Normalize, str or None, not a juliacall.ArrayValue",
     "output_type": "error",
     "traceback": [
      "Python: TypeError: 'norm' must be an instance of matplotlib.colors.Normalize, str or None, not a juliacall.ArrayValue",
      "",
      "Stacktrace:",
      " [1] pythrow()",
      "   @ PythonCall ~/.julia/packages/PythonCall/wXfah/src/err.jl:94",
      " [2] errcheck",
      "   @ ~/.julia/packages/PythonCall/wXfah/src/err.jl:10 [inlined]",
      " [3] pycallargs(f::PythonCall.Py, args::PythonCall.Py)",
      "   @ PythonCall ~/.julia/packages/PythonCall/wXfah/src/abstract/object.jl:210",
      " [4] pycall(::PythonCall.Py, ::Vector{Float64}, ::Vararg{Any}; kwargs::Base.Pairs{Symbol, Union{}, Tuple{}, NamedTuple{(), Tuple{}}})",
      "   @ PythonCall ~/.julia/packages/PythonCall/wXfah/src/abstract/object.jl:228",
      " [5] pycall(::PythonCall.Py, ::Vector{Float64}, ::Vararg{Any})",
      "   @ PythonCall ~/.julia/packages/PythonCall/wXfah/src/abstract/object.jl:218",
      " [6] (::PythonCall.Py)(::Vector{Float64}, ::Vararg{Any}; kwargs::Base.Pairs{Symbol, Union{}, Tuple{}, NamedTuple{(), Tuple{}}})",
      "   @ PythonCall ~/.julia/packages/PythonCall/wXfah/src/Py.jl:341",
      " [7] (::PythonCall.Py)(::Vector{Float64}, ::Vararg{Any})",
      "   @ PythonCall ~/.julia/packages/PythonCall/wXfah/src/Py.jl:341",
      " [8] top-level scope",
      "   @ In[27]:2"
     ]
    }
   ],
   "source": [
    "fig,ax = subplots(1,figsize=(2,2),dpi=200)\n",
    "ax.imshow(mem_slopes, NT_vals,child_vals)\n"
   ]
  },
  {
   "cell_type": "code",
   "execution_count": null,
   "id": "54bc8b24-7654-45d5-8456-2959d4b83ad0",
   "metadata": {},
   "outputs": [],
   "source": [
    "to_save_folder = \"/Users/erussek/Dropbox/Griffiths_Lab_Stuff/code/Memory_Models/shimi_bbopts\"\n"
   ]
  },
  {
   "cell_type": "code",
   "execution_count": 36,
   "id": "84c35e72-fe55-4e63-b39c-e276b5acfd0b",
   "metadata": {},
   "outputs": [
    {
     "data": {
      "text/plain": [
       "2-element Vector{Float64}:\n",
       " 0.12388473783069451\n",
       " 0.3353248144890226"
      ]
     },
     "execution_count": 36,
     "metadata": {},
     "output_type": "execute_result"
    }
   ],
   "source": [
    "res[\"res_dict\"][\"x\"]"
   ]
  },
  {
   "cell_type": "code",
   "execution_count": 6,
   "id": "d7370c65-5db7-47b3-b324-704ab4d0be3b",
   "metadata": {},
   "outputs": [
    {
     "data": {
      "text/plain": [
       "Dict{String, Any} with 1 entry:\n",
       "  \"res_dict\" => Dict{Any, Any}(\"nt\"=>100, \"val\"=>1.28552, \"ms\"=>0.022, \"x\"=>[0.…"
      ]
     },
     "execution_count": 6,
     "metadata": {},
     "output_type": "execute_result"
    }
   ],
   "source": [
    "ms = mem_slopes[1]\n",
    "nt = NT_vals[1]\n",
    "\n",
    "file_name = \"Group_$(which_group)_NT_$(nt)_memslope_$(ms).jld2\"\n",
    "full_file_path = joinpath(to_save_folder,file_name)\n",
    "res = load(full_file_path)"
   ]
  },
  {
   "cell_type": "code",
   "execution_count": null,
   "id": "a96a64b3-eec2-4fac-8e28-4d2b41d5af25",
   "metadata": {},
   "outputs": [],
   "source": []
  }
 ],
 "metadata": {
  "kernelspec": {
   "display_name": "Julia 1.9.1",
   "language": "julia",
   "name": "julia-1.9"
  },
  "language_info": {
   "file_extension": ".jl",
   "mimetype": "application/julia",
   "name": "julia",
   "version": "1.9.1"
  }
 },
 "nbformat": 4,
 "nbformat_minor": 5
}
