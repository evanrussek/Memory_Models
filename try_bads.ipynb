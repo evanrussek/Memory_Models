{
 "cells": [
  {
   "cell_type": "code",
   "execution_count": 8,
   "metadata": {},
   "outputs": [
    {
     "data": {
      "text/plain": [
       "Python: <class 'pybads.bads.bads.BADS'>"
      ]
     },
     "execution_count": 8,
     "metadata": {},
     "output_type": "execute_result"
    }
   ],
   "source": [
    "using PythonCall\n",
    "pb = pyimport(\"pybads\")\n",
    "\n",
    "BADS = pb.BADS"
   ]
  },
  {
   "cell_type": "code",
   "execution_count": 7,
   "metadata": {},
   "outputs": [
    {
     "name": "stderr",
     "output_type": "stream",
     "text": [
      "\u001b[32m\u001b[1m    CondaPkg \u001b[22m\u001b[39m\u001b[0mFound dependencies: /Users/erussek/Dropbox/Griffiths_Lab_Stuff/Code/Memory_Models/CondaPkg.toml\n",
      "\u001b[32m\u001b[1m    CondaPkg \u001b[22m\u001b[39m\u001b[0mFound dependencies: /Users/erussek/.julia/packages/PythonCall/sQSpa/CondaPkg.toml\n",
      "\u001b[32m\u001b[1m    CondaPkg \u001b[22m\u001b[39m\u001b[0mFound dependencies: /Users/erussek/.julia/packages/PythonPlot/KcWMF/CondaPkg.toml\n",
      "\u001b[32m\u001b[1m    CondaPkg \u001b[22m\u001b[39m\u001b[0mFound dependencies: /Users/erussek/.julia/packages/PythonCall/wXfah/CondaPkg.toml\n",
      "\u001b[32m\u001b[1m    CondaPkg \u001b[22m\u001b[39m\u001b[0mResolving changes\n",
      "\u001b[32m\u001b[1m             \u001b[22m\u001b[39m\u001b[32m+ pybads\u001b[39m\n",
      "\u001b[32m\u001b[1m    CondaPkg \u001b[22m\u001b[39m\u001b[0mInstalling packages\n",
      "\u001b[32m\u001b[1m             \u001b[22m\u001b[39m│ \u001b[90m/Users/erussek/.julia/artifacts/5767a45b62528e0be4c40dbae502ad3e132f1d62/bin/micromamba\u001b[39m\n",
      "\u001b[32m\u001b[1m             \u001b[22m\u001b[39m│ \u001b[90m-r /Users/erussek/.julia/scratchspaces/0b3b1443-0f03-428d-bdfb-f27f9c1191ea/root\u001b[39m\n",
      "\u001b[32m\u001b[1m             \u001b[22m\u001b[39m│ \u001b[90minstall\u001b[39m\n",
      "\u001b[32m\u001b[1m             \u001b[22m\u001b[39m│ \u001b[90m-y\u001b[39m\n",
      "\u001b[32m\u001b[1m             \u001b[22m\u001b[39m│ \u001b[90m-p /Users/erussek/Dropbox/Griffiths_Lab_Stuff/Code/Memory_Models/.CondaPkg/env\u001b[39m\n",
      "\u001b[32m\u001b[1m             \u001b[22m\u001b[39m│ \u001b[90m--override-channels\u001b[39m\n",
      "\u001b[32m\u001b[1m             \u001b[22m\u001b[39m│ \u001b[90m--no-channel-priority\u001b[39m\n",
      "\u001b[32m\u001b[1m             \u001b[22m\u001b[39m│ \u001b[90mmatplotlib[version='>=1']\u001b[39m\n",
      "\u001b[32m\u001b[1m             \u001b[22m\u001b[39m│ \u001b[90mpybads[version='*']\u001b[39m\n",
      "\u001b[32m\u001b[1m             \u001b[22m\u001b[39m│ \u001b[90mpython[version='>=3.7,<4',channel='conda-forge',build='*cpython*']\u001b[39m\n",
      "\u001b[32m\u001b[1m             \u001b[22m\u001b[39m│ \u001b[90mpython[version='>=3.8,<4',channel='conda-forge',build='*cpython*']\u001b[39m\n",
      "\u001b[32m\u001b[1m             \u001b[22m\u001b[39m└ \u001b[90m-c conda-forge\u001b[39m\n"
     ]
    },
    {
     "name": "stdout",
     "output_type": "stream",
     "text": [
      "conda-forge/osx-arm64                                       Using cache\n",
      "conda-forge/noarch                                          Using cache\n",
      "\n",
      "Transaction\n",
      "\n",
      "  Prefix: /Users/erussek/Dropbox/Griffiths_Lab_Stuff/Code/Memory_Models/.CondaPkg/env\n",
      "\n",
      "  Updating specs:\n",
      "\n",
      "   - matplotlib[version='>=1']\n",
      "   - pybads=*\n",
      "   - conda-forge::python[version='>=3.7,<4',build=*cpython*]\n",
      "   - conda-forge::python[version='>=3.8,<4',build=*cpython*]\n",
      "\n",
      "\n",
      "  Package                      Version  Build                    Channel           Size\n",
      "─────────────────────────────────────────────────────────────────────────────────────────\n",
      "  Install:\n",
      "─────────────────────────────────────────────────────────────────────────────────────────\n",
      "\n",
      "  + libaec                       1.1.3  hebf3989_0               conda-forge       28kB\n",
      "  + libssh2                     1.11.0  h7a5bd25_0               conda-forge      256kB\n",
      "  + libedit               3.1.20191231  hc8eb9b7_2               conda-forge       97kB\n",
      "  + c-ares                      1.34.2  h7ab814d_0               conda-forge      177kB\n",
      "  + libev                         4.33  h93a5062_2               conda-forge      107kB\n",
      "  + scipy                       1.14.1  py312h20deb59_1          conda-forge       15MB\n",
      "  + krb5                        1.21.3  h237132a_0               conda-forge        1MB\n",
      "  + libnghttp2                  1.64.0  h6d7220d_0               conda-forge      567kB\n",
      "  + libcurl                     8.10.1  h13a7ad3_0               conda-forge      380kB\n",
      "  + hdf5                        1.14.3  nompi_hec07895_105       conda-forge        3MB\n",
      "  + cached_property              1.5.2  pyha770c72_1             conda-forge       11kB\n",
      "  + zipp                        3.20.2  pyhd8ed1ab_0             conda-forge       21kB\n",
      "  + tomli                        2.0.2  pyhd8ed1ab_0             conda-forge       18kB\n",
      "  + iniconfig                    2.0.0  pyhd8ed1ab_0             conda-forge       11kB\n",
      "  + exceptiongroup               1.2.2  pyhd8ed1ab_0             conda-forge       20kB\n",
      "  + colorama                     0.4.6  pyhd8ed1ab_0             conda-forge       25kB\n",
      "  + pytz                        2024.1  pyhd8ed1ab_0             conda-forge      189kB\n",
      "  + python-tzdata               2024.2  pyhd8ed1ab_0             conda-forge      143kB\n",
      "  + typing_extensions           4.12.2  pyha770c72_0             conda-forge       40kB\n",
      "  + tenacity                     9.0.0  pyhd8ed1ab_0             conda-forge       25kB\n",
      "  + imageio                     2.36.0  pyh12aca89_1             conda-forge      292kB\n",
      "  + dill                         0.3.9  pyhd8ed1ab_0             conda-forge       90kB\n",
      "  + cma                          4.0.0  pyhecae5ae_0             conda-forge      227kB\n",
      "  + pluggy                       1.5.0  pyhd8ed1ab_0             conda-forge       24kB\n",
      "  + cached-property              1.5.2  hd8ed1ab_1               conda-forge        4kB\n",
      "  + importlib-metadata           8.5.0  pyha770c72_0             conda-forge       29kB\n",
      "  + plotly                      5.24.1  pyhd8ed1ab_0             conda-forge        7MB\n",
      "  + pytest                       8.3.3  pyhd8ed1ab_0             conda-forge      258kB\n",
      "  + pytest-rerunfailures          14.0  pyhd8ed1ab_0             conda-forge       18kB\n",
      "  + pytest-mock                 3.14.0  pyhd8ed1ab_0             conda-forge       22kB\n",
      "  + gpyreg                       1.0.2  pyhd8ed1ab_0             conda-forge       54kB\n",
      "  + pandas                       2.2.3  py312hcd31e36_1          conda-forge       14MB\n",
      "  + h5py                        3.12.1  nompi_py312h3cd0824_102  conda-forge        1MB\n",
      "  + xarray                    2024.9.0  pyhd8ed1ab_1             conda-forge      801kB\n",
      "  + h5netcdf                     1.4.0  pyhd8ed1ab_0             conda-forge       47kB\n",
      "  + xarray-einstats              0.8.0  pyhd8ed1ab_0             conda-forge       34kB\n",
      "  + arviz                       0.20.0  pyhd8ed1ab_0             conda-forge        1MB\n",
      "  + corner                       2.2.2  pyhd8ed1ab_0             conda-forge       20kB\n",
      "  + pybads                       1.0.5  pyhd8ed1ab_0             conda-forge       93kB\n",
      "\n",
      "  Reinstall:\n",
      "─────────────────────────────────────────────────────────────────────────────────────────\n",
      "\n",
      "  o python                      3.12.7  h739c21a_0_cpython       conda-forge     Cached\n",
      "\n",
      "  Summary:\n",
      "\n",
      "  Install: 39 packages\n",
      "  Reinstall: 1 packages\n",
      "\n",
      "  Total download: 48MB\n",
      "\n",
      "─────────────────────────────────────────────────────────────────────────────────────────\n",
      "\n",
      "\n",
      "\n",
      "Transaction starting\n",
      "Reinstalling python-3.12.7-h739c21a_0_cpython\n",
      "Linking libaec-1.1.3-hebf3989_0\n",
      "Linking libssh2-1.11.0-h7a5bd25_0\n",
      "Linking libedit-3.1.20191231-hc8eb9b7_2\n",
      "Linking c-ares-1.34.2-h7ab814d_0\n",
      "Linking libev-4.33-h93a5062_2\n",
      "Linking scipy-1.14.1-py312h20deb59_1\n",
      "Linking krb5-1.21.3-h237132a_0\n",
      "Linking libnghttp2-1.64.0-h6d7220d_0\n",
      "Linking libcurl-8.10.1-h13a7ad3_0\n",
      "Linking hdf5-1.14.3-nompi_hec07895_105\n",
      "Linking cached_property-1.5.2-pyha770c72_1\n",
      "Linking zipp-3.20.2-pyhd8ed1ab_0\n",
      "Linking tomli-2.0.2-pyhd8ed1ab_0\n",
      "Linking iniconfig-2.0.0-pyhd8ed1ab_0\n",
      "Linking exceptiongroup-1.2.2-pyhd8ed1ab_0\n",
      "Linking colorama-0.4.6-pyhd8ed1ab_0\n",
      "Linking pytz-2024.1-pyhd8ed1ab_0\n",
      "Linking python-tzdata-2024.2-pyhd8ed1ab_0\n",
      "Linking typing_extensions-4.12.2-pyha770c72_0\n",
      "Linking tenacity-9.0.0-pyhd8ed1ab_0\n",
      "Linking imageio-2.36.0-pyh12aca89_1\n",
      "Linking dill-0.3.9-pyhd8ed1ab_0\n",
      "Linking cma-4.0.0-pyhecae5ae_0\n",
      "Linking pluggy-1.5.0-pyhd8ed1ab_0\n",
      "Linking cached-property-1.5.2-hd8ed1ab_1\n",
      "Linking importlib-metadata-8.5.0-pyha770c72_0\n",
      "Linking plotly-5.24.1-pyhd8ed1ab_0\n",
      "Linking pytest-8.3.3-pyhd8ed1ab_0\n",
      "Linking pytest-rerunfailures-14.0-pyhd8ed1ab_0\n",
      "Linking pytest-mock-3.14.0-pyhd8ed1ab_0\n",
      "Linking gpyreg-1.0.2-pyhd8ed1ab_0\n",
      "Linking pandas-2.2.3-py312hcd31e36_1\n",
      "Linking h5py-3.12.1-nompi_py312h3cd0824_102\n",
      "Linking xarray-2024.9.0-pyhd8ed1ab_1\n",
      "Linking h5netcdf-1.4.0-pyhd8ed1ab_0\n",
      "Linking xarray-einstats-0.8.0-pyhd8ed1ab_0\n",
      "Linking arviz-0.20.0-pyhd8ed1ab_0\n",
      "Linking corner-2.2.2-pyhd8ed1ab_0\n",
      "Linking pybads-1.0.5-pyhd8ed1ab_0\n",
      "\n",
      "Transaction finished\n",
      "\n",
      "To activate this environment, use:\n",
      "\n",
      "    micromamba activate /Users/erussek/Dropbox/Griffiths_Lab_Stuff/Code/Memory_Models/.CondaPkg/env\n",
      "\n",
      "Or to execute a single command in this environment, use:\n",
      "\n",
      "    micromamba run -p /Users/erussek/Dropbox/Griffiths_Lab_Stuff/Code/Memory_Models/.CondaPkg/env mycommand\n",
      "\n"
     ]
    }
   ],
   "source": [
    "using CondaPkg\n",
    "CondaPkg.add(\"pybads\")"
   ]
  },
  {
   "cell_type": "code",
   "execution_count": 9,
   "metadata": {},
   "outputs": [
    {
     "data": {
      "text/plain": [
       "2-element Vector{Float64}:\n",
       " 0.0\n",
       " 0.0"
      ]
     },
     "execution_count": 9,
     "metadata": {},
     "output_type": "execute_result"
    }
   ],
   "source": [
    "function rosenbrocks_fcn(x)\n",
    "    # Ensure x is 2D array (equivalent to np.atleast_2d)\n",
    "    x_2d = reshape(x, :, length(x))\n",
    "    \n",
    "    return sum(100 * (x_2d[:, 1:end-1].^2 - x_2d[:, 2:end]).^2 + \n",
    "              (x_2d[:, 1:end-1] .- 1).^2, dims=2)[:, 1]\n",
    "end\n",
    "\n",
    "target = rosenbrocks_fcn\n",
    "\n",
    "# Define bounds using Julia arrays\n",
    "lower_bounds = [-20.0, -20.0]\n",
    "upper_bounds = [20.0, 20.0]\n",
    "plausible_lower_bounds = [-5.0, -5.0]\n",
    "plausible_upper_bounds = [5.0, 5.0]\n",
    "x0 = [0.0, 0.0]  # Starting point"
   ]
  },
  {
   "cell_type": "code",
   "execution_count": 11,
   "metadata": {},
   "outputs": [
    {
     "name": "stdout",
     "output_type": "stream",
     "text": [
      "Beginning optimization of a DETERMINISTIC objective function\n",
      "\n",
      " Iteration    f-count         f(x)           MeshScale          Method             Actions\n",
      "     0           2               1               1                                 Uncertainty test\n",
      "     0           6               1               1         Initial mesh            Initial points\n",
      "     0          10               1             0.5         Refine grid             Train\n",
      "     1          18               1            0.25         Refine grid             Train\n",
      "     2          20        0.748727            0.25     Successful search (ES-wcm)        \n",
      "     2          22       0.0600773            0.25     Successful search (ES-wcm)        \n",
      "     2          25       0.0029987            0.25     Incremental search (ES-ell)        \n",
      "     2          30       0.0029987           0.125         Refine grid             Train\n",
      "     3          33      0.00110982           0.125     Incremental search (ES-ell)        \n",
      "     3          38      0.00110982          0.0625         Refine grid             \n",
      "     4          42     0.000756341          0.0625     Incremental search (ES-ell)        \n",
      "     4          46     0.000756341         0.03125         Refine grid             \n",
      "     5          54     0.000756341        0.015625         Refine grid             \n",
      "     6          55     0.000355146        0.015625     Incremental search (ES-ell)        \n",
      "     6          62     0.000355146      0.00390625         Refine grid             Train\n",
      "     7          70     0.000355146     0.000976562         Refine grid             Train\n",
      "     8          71     0.000213856     0.000976562     Incremental search (ES-ell)        \n",
      "Optimization terminated: change in the function value less than options['tol_fun'].\n",
      "Function value at minimum: 0.00021385623950692873\n",
      "\n",
      "  0.665631 seconds (6.54 k allocations: 253.281 KiB)\n"
     ]
    },
    {
     "data": {
      "text/plain": [
       "Python: {'fun': Julia: rosenbrocks_fcn (generic function with 1 method), 'non_box_cons': None, 'target_type': 'deterministic', 'problem_type': 'bound constraints', 'iterations': 8, 'func_count': 71, 'mesh_size': 0.0009765625, 'overhead': 283.7703078688392, 'algorithm': 'Bayesian adaptive direct search', 'yval_vec': None, 'ysd_vec': None, 'x0': array([[0., 0.]]), 'x': array([1.01461987, 1.02948748]), 'fval': 0.00021385623950692873, 'fsd': 0, 'total_time': 0.6649789820180664, 'random_seed': None, 'version': '1.0.5', 'success': True, 'message': \"Optimization terminated: change in the function value less than options['tol_fun'].\"}"
      ]
     },
     "execution_count": 11,
     "metadata": {},
     "output_type": "execute_result"
    }
   ],
   "source": [
    "bads = BADS(target, x0, lower_bounds, upper_bounds, plausible_lower_bounds, plausible_upper_bounds)\n",
    "@time optimize_result = bads.optimize()"
   ]
  },
  {
   "cell_type": "code",
   "execution_count": 21,
   "metadata": {},
   "outputs": [
    {
     "ename": "LoadError",
     "evalue": "MethodError: no method matching pyconvert(::Py)\n\n\u001b[0mClosest candidates are:\n\u001b[0m  pyconvert(\u001b[91m::Type{Py}\u001b[39m, \u001b[91m::Py\u001b[39m)\n\u001b[0m\u001b[90m   @\u001b[39m \u001b[35mPythonCall\u001b[39m \u001b[90m~/.julia/packages/PythonCall/sQSpa/src/Core/\u001b[39m\u001b[90m\u001b[4mPy.jl:50\u001b[24m\u001b[39m\n\u001b[0m  pyconvert(\u001b[91m::Type{T}\u001b[39m, \u001b[91m::Any\u001b[39m) where T\n\u001b[0m\u001b[90m   @\u001b[39m \u001b[35mPythonCall\u001b[39m \u001b[90m~/.julia/packages/PythonCall/sQSpa/src/Convert/\u001b[39m\u001b[90m\u001b[4mpyconvert.jl:399\u001b[24m\u001b[39m\n\u001b[0m  pyconvert(\u001b[91m::Type{T}\u001b[39m, \u001b[91m::Any\u001b[39m, \u001b[91m::Any\u001b[39m) where T\n\u001b[0m\u001b[90m   @\u001b[39m \u001b[35mPythonCall\u001b[39m \u001b[90m~/.julia/packages/PythonCall/sQSpa/src/Convert/\u001b[39m\u001b[90m\u001b[4mpyconvert.jl:402\u001b[24m\u001b[39m\n",
     "output_type": "error",
     "traceback": [
      "MethodError: no method matching pyconvert(::Py)\n\n\u001b[0mClosest candidates are:\n\u001b[0m  pyconvert(\u001b[91m::Type{Py}\u001b[39m, \u001b[91m::Py\u001b[39m)\n\u001b[0m\u001b[90m   @\u001b[39m \u001b[35mPythonCall\u001b[39m \u001b[90m~/.julia/packages/PythonCall/sQSpa/src/Core/\u001b[39m\u001b[90m\u001b[4mPy.jl:50\u001b[24m\u001b[39m\n\u001b[0m  pyconvert(\u001b[91m::Type{T}\u001b[39m, \u001b[91m::Any\u001b[39m) where T\n\u001b[0m\u001b[90m   @\u001b[39m \u001b[35mPythonCall\u001b[39m \u001b[90m~/.julia/packages/PythonCall/sQSpa/src/Convert/\u001b[39m\u001b[90m\u001b[4mpyconvert.jl:399\u001b[24m\u001b[39m\n\u001b[0m  pyconvert(\u001b[91m::Type{T}\u001b[39m, \u001b[91m::Any\u001b[39m, \u001b[91m::Any\u001b[39m) where T\n\u001b[0m\u001b[90m   @\u001b[39m \u001b[35mPythonCall\u001b[39m \u001b[90m~/.julia/packages/PythonCall/sQSpa/src/Convert/\u001b[39m\u001b[90m\u001b[4mpyconvert.jl:402\u001b[24m\u001b[39m\n",
      "",
      "Stacktrace:",
      " [1] top-level scope",
      "   @ In[21]:2"
     ]
    }
   ],
   "source": [
    "res = optimize_result\n",
    "x_min = pyconvert(Float, res[\"x\"])\n",
    "fval = res[\"fval\"]\n"
   ]
  },
  {
   "cell_type": "code",
   "execution_count": 19,
   "metadata": {},
   "outputs": [
    {
     "data": {
      "text/plain": [
       "Python: array([1.01461987, 1.02948748])"
      ]
     },
     "execution_count": 19,
     "metadata": {},
     "output_type": "execute_result"
    }
   ],
   "source": [
    "x_min"
   ]
  },
  {
   "cell_type": "code",
   "execution_count": 18,
   "metadata": {},
   "outputs": [
    {
     "data": {
      "text/plain": [
       "Python: {'fun': Julia: rosenbrocks_fcn (generic function with 1 method), 'non_box_cons': None, 'target_type': 'deterministic', 'problem_type': 'bound constraints', 'iterations': 8, 'func_count': 71, 'mesh_size': 0.0009765625, 'overhead': 283.7703078688392, 'algorithm': 'Bayesian adaptive direct search', 'yval_vec': None, 'ysd_vec': None, 'x0': array([[0., 0.]]), 'x': array([1.01461987, 1.02948748]), 'fval': 0.00021385623950692873, 'fsd': 0, 'total_time': 0.6649789820180664, 'random_seed': None, 'version': '1.0.5', 'success': True, 'message': \"Optimization terminated: change in the function value less than options['tol_fun'].\"}"
      ]
     },
     "execution_count": 18,
     "metadata": {},
     "output_type": "execute_result"
    }
   ],
   "source": [
    "res"
   ]
  },
  {
   "cell_type": "code",
   "execution_count": null,
   "metadata": {},
   "outputs": [],
   "source": []
  }
 ],
 "metadata": {
  "kernelspec": {
   "display_name": "Julia 1.9.1",
   "language": "julia",
   "name": "julia-1.9"
  },
  "language_info": {
   "file_extension": ".jl",
   "mimetype": "application/julia",
   "name": "julia",
   "version": "1.9.1"
  }
 },
 "nbformat": 4,
 "nbformat_minor": 2
}
